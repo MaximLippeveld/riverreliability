{
 "cells": [
  {
   "cell_type": "code",
   "execution_count": 1,
   "metadata": {},
   "outputs": [],
   "source": [
    "import tensorflow as tf\n",
    "import numpy as np\n",
    "import matplotlib.pyplot as plt\n",
    "from glob import glob\n",
    "from ridgereliability.plots import posterior_reliability_diagram\n",
    "from ridgereliability import metrics\n",
    "\n",
    "EPOCHS = 40"
   ]
  },
  {
   "cell_type": "code",
   "execution_count": 2,
   "metadata": {},
   "outputs": [],
   "source": [
    "model = tf.keras.applications.DenseNet121(\n",
    "    include_top=True,\n",
    "    weights=None,\n",
    "    classes=10,\n",
    "    input_shape=[32, 32, 3]\n",
    ")\n",
    "\n",
    "model.compile(\n",
    "    optimizer=tf.keras.optimizers.Adam(),\n",
    "    loss=tf.keras.losses.CategoricalCrossentropy(),\n",
    "    metrics=['accuracy'])"
   ]
  },
  {
   "cell_type": "code",
   "execution_count": 3,
   "metadata": {},
   "outputs": [],
   "source": [
    "(x_train, y_train), (x_test, y_test) = tf.keras.datasets.cifar10.load_data()\n",
    "\n",
    "mean = x_train.mean()\n",
    "std = x_train.std()\n",
    "\n",
    "x_train = (x_train - mean) / (std + 1e-7)\n",
    "x_test = (x_test - mean) / (std + 1e-7)\n",
    "\n",
    "y_train = tf.keras.utils.to_categorical(y_train)\n",
    "y_test = tf.keras.utils.to_categorical(y_test)"
   ]
  },
  {
   "cell_type": "code",
   "execution_count": 4,
   "metadata": {},
   "outputs": [
    {
     "name": "stdout",
     "output_type": "stream",
     "text": [
      "WARNING:tensorflow:sample_weight modes were coerced from\n",
      "  ...\n",
      "    to  \n",
      "  ['...']\n",
      "Train for 391 steps, validate on 10000 samples\n",
      "Epoch 1/40\n",
      "391/391 [==============================] - 29s 75ms/step - loss: 1.5441 - accuracy: 0.4403 - val_loss: 1.3063 - val_accuracy: 0.5316\n",
      "Epoch 2/40\n",
      "391/391 [==============================] - 18s 47ms/step - loss: 1.1933 - accuracy: 0.5733 - val_loss: 1.2684 - val_accuracy: 0.5680\n",
      "Epoch 3/40\n",
      "391/391 [==============================] - 18s 47ms/step - loss: 1.0161 - accuracy: 0.6393 - val_loss: 1.2307 - val_accuracy: 0.5849\n",
      "Epoch 4/40\n",
      "391/391 [==============================] - 18s 47ms/step - loss: 0.9145 - accuracy: 0.6800 - val_loss: 1.0497 - val_accuracy: 0.6551\n",
      "Epoch 5/40\n",
      "391/391 [==============================] - 18s 47ms/step - loss: 0.8836 - accuracy: 0.6940 - val_loss: 4.5873 - val_accuracy: 0.5168\n",
      "Epoch 6/40\n",
      "391/391 [==============================] - 18s 47ms/step - loss: 0.8540 - accuracy: 0.7064 - val_loss: 2.8064 - val_accuracy: 0.5324\n",
      "Epoch 7/40\n",
      "391/391 [==============================] - 18s 47ms/step - loss: 0.7914 - accuracy: 0.7259 - val_loss: 0.8244 - val_accuracy: 0.7264\n",
      "Epoch 8/40\n",
      "391/391 [==============================] - 18s 47ms/step - loss: 0.7497 - accuracy: 0.7390 - val_loss: 1.4355 - val_accuracy: 0.6868\n",
      "Epoch 9/40\n",
      "391/391 [==============================] - 18s 47ms/step - loss: 0.7438 - accuracy: 0.7422 - val_loss: 0.6920 - val_accuracy: 0.7641\n",
      "Epoch 10/40\n",
      "391/391 [==============================] - 19s 48ms/step - loss: 0.6435 - accuracy: 0.7727 - val_loss: 0.7121 - val_accuracy: 0.7703\n",
      "Epoch 11/40\n",
      "391/391 [==============================] - 18s 47ms/step - loss: 0.6099 - accuracy: 0.7859 - val_loss: 0.6269 - val_accuracy: 0.7820\n",
      "Epoch 12/40\n",
      "391/391 [==============================] - 18s 47ms/step - loss: 0.5673 - accuracy: 0.8004 - val_loss: 0.6455 - val_accuracy: 0.7799\n",
      "Epoch 13/40\n",
      "391/391 [==============================] - 18s 47ms/step - loss: 0.8515 - accuracy: 0.7078 - val_loss: 0.7439 - val_accuracy: 0.7417\n",
      "Epoch 14/40\n",
      "391/391 [==============================] - 18s 47ms/step - loss: 0.6158 - accuracy: 0.7835 - val_loss: 0.6912 - val_accuracy: 0.7677\n",
      "Epoch 15/40\n",
      "391/391 [==============================] - 18s 47ms/step - loss: 0.5548 - accuracy: 0.8053 - val_loss: 0.6120 - val_accuracy: 0.7990\n",
      "Epoch 16/40\n",
      "391/391 [==============================] - 18s 47ms/step - loss: 0.5172 - accuracy: 0.8188 - val_loss: 0.6649 - val_accuracy: 0.7847\n",
      "Epoch 17/40\n",
      "391/391 [==============================] - 18s 47ms/step - loss: 0.4846 - accuracy: 0.8290 - val_loss: 0.5615 - val_accuracy: 0.8080\n",
      "Epoch 18/40\n",
      "391/391 [==============================] - 18s 47ms/step - loss: 0.4579 - accuracy: 0.8384 - val_loss: 0.6323 - val_accuracy: 0.7947\n",
      "Epoch 19/40\n",
      "391/391 [==============================] - 18s 47ms/step - loss: 0.4428 - accuracy: 0.8444 - val_loss: 0.5602 - val_accuracy: 0.8123\n",
      "Epoch 20/40\n",
      "391/391 [==============================] - 18s 47ms/step - loss: 0.4292 - accuracy: 0.8491 - val_loss: 0.5503 - val_accuracy: 0.8175\n",
      "Epoch 21/40\n",
      "391/391 [==============================] - 18s 47ms/step - loss: 0.4142 - accuracy: 0.8533 - val_loss: 0.5343 - val_accuracy: 0.8235\n",
      "Epoch 22/40\n",
      "391/391 [==============================] - 18s 47ms/step - loss: 0.5391 - accuracy: 0.8155 - val_loss: 0.6574 - val_accuracy: 0.7855\n",
      "Epoch 23/40\n",
      "391/391 [==============================] - 18s 47ms/step - loss: 0.4160 - accuracy: 0.8530 - val_loss: 0.5381 - val_accuracy: 0.8236\n",
      "Epoch 24/40\n",
      "391/391 [==============================] - 19s 47ms/step - loss: 0.3746 - accuracy: 0.8673 - val_loss: 0.6074 - val_accuracy: 0.8058\n",
      "Epoch 25/40\n",
      "391/391 [==============================] - 18s 47ms/step - loss: 0.3590 - accuracy: 0.8725 - val_loss: 0.7438 - val_accuracy: 0.7872\n",
      "Epoch 26/40\n",
      "391/391 [==============================] - 19s 47ms/step - loss: 0.3485 - accuracy: 0.8759 - val_loss: 0.6650 - val_accuracy: 0.8035\n",
      "Epoch 27/40\n",
      "391/391 [==============================] - 18s 47ms/step - loss: 0.3434 - accuracy: 0.8778 - val_loss: 0.5902 - val_accuracy: 0.8156\n",
      "Epoch 28/40\n",
      "391/391 [==============================] - 18s 47ms/step - loss: 0.3234 - accuracy: 0.8854 - val_loss: 0.6538 - val_accuracy: 0.8021\n",
      "Epoch 29/40\n",
      "391/391 [==============================] - 18s 47ms/step - loss: 0.3059 - accuracy: 0.8918 - val_loss: 0.5832 - val_accuracy: 0.8233\n",
      "Epoch 30/40\n",
      "391/391 [==============================] - 18s 47ms/step - loss: 0.3016 - accuracy: 0.8922 - val_loss: 0.5403 - val_accuracy: 0.8308\n",
      "Epoch 31/40\n",
      "391/391 [==============================] - 18s 47ms/step - loss: 0.2931 - accuracy: 0.8952 - val_loss: 0.6078 - val_accuracy: 0.8204\n",
      "Epoch 32/40\n",
      "391/391 [==============================] - 19s 47ms/step - loss: 0.2775 - accuracy: 0.9017 - val_loss: 0.6269 - val_accuracy: 0.8159\n",
      "Epoch 33/40\n",
      "391/391 [==============================] - 18s 47ms/step - loss: 0.2638 - accuracy: 0.9047 - val_loss: 0.7286 - val_accuracy: 0.8035\n",
      "Epoch 34/40\n",
      "391/391 [==============================] - 18s 47ms/step - loss: 0.2575 - accuracy: 0.9093 - val_loss: 0.5907 - val_accuracy: 0.8263\n",
      "Epoch 35/40\n",
      "391/391 [==============================] - 18s 47ms/step - loss: 0.2472 - accuracy: 0.9123 - val_loss: 0.7116 - val_accuracy: 0.8112\n",
      "Epoch 36/40\n",
      "391/391 [==============================] - 18s 47ms/step - loss: 0.2361 - accuracy: 0.9161 - val_loss: 0.6709 - val_accuracy: 0.8212\n",
      "Epoch 37/40\n",
      "391/391 [==============================] - 18s 47ms/step - loss: 0.2295 - accuracy: 0.9179 - val_loss: 0.5382 - val_accuracy: 0.8451\n",
      "Epoch 38/40\n",
      "391/391 [==============================] - 18s 47ms/step - loss: 0.2163 - accuracy: 0.9230 - val_loss: 0.6575 - val_accuracy: 0.8167\n",
      "Epoch 39/40\n",
      "391/391 [==============================] - 18s 47ms/step - loss: 0.2158 - accuracy: 0.9232 - val_loss: 0.5973 - val_accuracy: 0.8351\n",
      "Epoch 40/40\n",
      "391/391 [==============================] - 18s 47ms/step - loss: 0.2047 - accuracy: 0.9272 - val_loss: 0.6283 - val_accuracy: 0.8254\n"
     ]
    },
    {
     "data": {
      "text/plain": [
       "<tensorflow.python.keras.callbacks.History at 0x7f73c857ef98>"
      ]
     },
     "execution_count": 4,
     "metadata": {},
     "output_type": "execute_result"
    }
   ],
   "source": [
    "datagen = tf.keras.preprocessing.image.ImageDataGenerator(\n",
    "            featurewise_center=False,  # set input mean to 0 over the dataset\n",
    "            samplewise_center=False,  # set each sample mean to 0\n",
    "            featurewise_std_normalization=False,  # divide inputs by std of the dataset\n",
    "            samplewise_std_normalization=False,  # divide each input by its std\n",
    "            zca_whitening=False,  # apply ZCA whitening\n",
    "            rotation_range=15,  # randomly rotate images in the range (degrees, 0 to 180)\n",
    "            width_shift_range=0.1,  # randomly shift images horizontally (fraction of total width)\n",
    "            height_shift_range=0.1,  # randomly shift images vertically (fraction of total height)\n",
    "            horizontal_flip=True,  # randomly flip images\n",
    "            vertical_flip=False)  # randomly flip images\n",
    "datagen.fit(x_train)\n",
    "\n",
    "model.fit(datagen.flow(x_train, y_train, batch_size=128),\n",
    "         epochs=EPOCHS,\n",
    "         validation_data=(x_test, y_test))"
   ]
  },
  {
   "cell_type": "code",
   "execution_count": 5,
   "metadata": {},
   "outputs": [],
   "source": [
    "model.save('models/cifar10_densenet.h5')"
   ]
  },
  {
   "cell_type": "code",
   "execution_count": 6,
   "metadata": {},
   "outputs": [
    {
     "name": "stdout",
     "output_type": "stream",
     "text": [
      "10000/10000 [==============================] - 2s 245us/sample\n"
     ]
    }
   ],
   "source": [
    "model = tf.keras.models.load_model('models/cifar10_densenet.h5')\n",
    "z_test = model.predict(x_test, batch_size=128, verbose=1)"
   ]
  },
  {
   "cell_type": "code",
   "execution_count": 7,
   "metadata": {},
   "outputs": [],
   "source": [
    "y_probs = z_test.max(axis=1)\n",
    "y_preds = z_test.argmax(axis=1)\n",
    "y_true = y_test.argmax(axis=1)"
   ]
  },
  {
   "cell_type": "code",
   "execution_count": 8,
   "metadata": {},
   "outputs": [
    {
     "name": "stdout",
     "output_type": "stream",
     "text": [
      "Accuracy: 0.8254\n",
      "ECE     : 0.08024906483739613\n",
      "PEACE   : 0.09292919712071496\n"
     ]
    }
   ],
   "source": [
    "acc = (y_preds == y_true).mean()\n",
    "print(f'Accuracy: {acc}')\n",
    "\n",
    "ece = metrics.ece(y_probs, y_preds, y_true)\n",
    "print(f'ECE     : {ece}')\n",
    "\n",
    "peace = metrics.peace(y_probs, y_preds, y_true)\n",
    "print(f'PEACE   : {peace}')"
   ]
  },
  {
   "cell_type": "code",
   "execution_count": 10,
   "metadata": {},
   "outputs": [
    {
     "data": {
      "image/png": "[encoded data removed]",
      "text/plain": [
       "<Figure size 432x288 with 1 Axes>"
      ]
     },
     "metadata": {
      "needs_background": "light"
     },
     "output_type": "display_data"
    }
   ],
   "source": [
    "ax = plt.gca()\n",
    "plt.title('DenseNet121 on CIFAR-10')\n",
    "posterior_reliability_diagram(y_probs, y_preds, y_true, ax, bins=10)\n",
    "plt.savefig('plots/densenet.pdf')\n",
    "plt.show()"
   ]
  },
  {
   "cell_type": "code",
   "execution_count": null,
   "metadata": {},
   "outputs": [],
   "source": []
  }
 ],
 "metadata": {
  "kernelspec": {
   "display_name": "Python 3",
   "language": "python",
   "name": "python3"
  },
  "language_info": {
   "codemirror_mode": {
    "name": "ipython",
    "version": 3
   },
   "file_extension": ".py",
   "mimetype": "text/x-python",
   "name": "python",
   "nbconvert_exporter": "python",
   "pygments_lexer": "ipython3",
   "version": "3.6.9"
  }
 },
 "nbformat": 4,
 "nbformat_minor": 4
}
