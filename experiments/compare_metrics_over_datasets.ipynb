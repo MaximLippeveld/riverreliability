{
 "cells": [
  {
   "cell_type": "code",
   "execution_count": 30,
   "metadata": {},
   "outputs": [
    {
     "name": "stdout",
     "output_type": "stream",
     "text": [
      "[NbConvertApp] Converting notebook compare_metrics_over_datasets.ipynb to python\n",
      "[NbConvertApp] Writing 5195 bytes to compare_metrics_over_datasets.py\n"
     ]
    }
   ],
   "source": [
    "# noscript\n",
    "!jupyter nbconvert --RegexRemovePreprocessor.patterns=\"['# ?noscript']\" --TemplateExporter.exclude_markdown=True --to python compare_metrics_over_datasets.ipynb"
   ]
  },
  {
   "cell_type": "code",
   "execution_count": 2,
   "metadata": {},
   "outputs": [],
   "source": [
    "import pandas\n",
    "import numpy\n",
    "import seaborn\n",
    "import matplotlib.pyplot as plt\n",
    "\n",
    "import openml\n",
    "\n",
    "import sklearn.metrics\n",
    "import sklearn.ensemble\n",
    "import sklearn.svm\n",
    "import sklearn.preprocessing\n",
    "import sklearn.model_selection\n",
    "import sklearn.base\n",
    "import sklearn.utils\n",
    "import sklearn.linear_model\n",
    "import sklearn.naive_bayes\n",
    "import sklearn.neural_network\n",
    "\n",
    "from ridgereliability import plots, metrics\n",
    "\n",
    "import os\n",
    "import multiprocessing\n",
    "import logging\n",
    "import time\n",
    "from joblib import load, dump"
   ]
  },
  {
   "cell_type": "code",
   "execution_count": null,
   "metadata": {},
   "outputs": [],
   "source": [
    "import argparse\n",
    "parser = argparse.ArgumentParser()\n",
    "parser.add_argument(\"--n-processes\", type=int, required=True)\n",
    "n_procs = parser.parse_args().n_processes"
   ]
  },
  {
   "cell_type": "code",
   "execution_count": 27,
   "metadata": {},
   "outputs": [],
   "source": [
    "# noscript\n",
    "n_procs = multiprocessing.cpu_count()"
   ]
  },
  {
   "cell_type": "code",
   "execution_count": 3,
   "metadata": {},
   "outputs": [],
   "source": [
    "logging.basicConfig(level=logging.INFO)"
   ]
  },
  {
   "cell_type": "code",
   "execution_count": 4,
   "metadata": {},
   "outputs": [],
   "source": [
    "numpy.random.seed(42)"
   ]
  },
  {
   "cell_type": "markdown",
   "metadata": {},
   "source": [
    "# Compare metrics over datasets\n",
    "\n",
    "In this notebook we collect calibration estimates for several models and datasets. The estimates are computed with the Expected Calibration Error (ECE), Balanced-ECE, and Posterior Expected Accuracy-based Calibration Error (PEACE).\n",
    "\n",
    "Tested models:\n",
    "- Random Forest\n",
    "- SVM\n",
    "- Logistic Regression\n",
    "- Gaussian Naive Bayes\n",
    "- MLP\n",
    "\n",
    "Tested datasets (from Open ML):\n",
    "- [eeg-eye-state](https://www.openml.org/d/1471), task [9983](https://www.openml.org/t/9983)\n",
    "- [Phoneme](https://www.openml.org/d/1489), task [9952](https://www.openml.org/t/9952)\n",
    "- [mozilla4](https://www.openml.org/d/1046), task [3899](https://www.openml.org/t/3899)\n",
    "- [electricity](https://www.openml.org/d/151), task [219](https://www.openml.org/t/219)\n",
    "- [Magic Telescope](https://www.openml.org/d/1120), task [3954](https://www.openml.org/t/3954)\n",
    "- [artificial characters](https://www.openml.org/d/1459), task [14964](https://www.openml.org/t/14964)\n",
    "- [pendigits](https://www.openml.org/d/32), task [32](https://www.openml.org/t/32)\n",
    "- [letter](https://www.openml.org/d/6), task [6](https://www.openml.org/t/6)\n",
    "- [JapaneseVowels](https://www.openml.org/d/375), task [3510](https://www.openml.org/t/3510)\n",
    "- [glass](https://www.openml.org/d/41), task [40](https://www.openml.org/t/40)"
   ]
  },
  {
   "cell_type": "markdown",
   "metadata": {
    "collapsed": "true"
   },
   "source": [
    "## Datasets\n",
    "\n",
    "First of all, we need to be able to load and preprocess multiple datasets appropriately to prepare it for classification. \n",
    "To this end we implement a function that will load a dataset and classification task from OpenML."
   ]
  },
  {
   "cell_type": "code",
   "execution_count": 5,
   "metadata": {},
   "outputs": [],
   "source": [
    "TASKS = [9983, 9952, 3899, 219, 3954, 14964, 32, 6, 3510, 40]"
   ]
  },
  {
   "cell_type": "code",
   "execution_count": 6,
   "metadata": {},
   "outputs": [],
   "source": [
    "def load_openml_task(task_id):\n",
    "    task = openml.tasks.get_task(task_id)\n",
    "    X, y = task.get_X_and_y(\"dataframe\")\n",
    "    n_repeats, n_folds, n_samples = task.get_split_dimensions()\n",
    "\n",
    "    folds = numpy.empty((len(X)), dtype=int)\n",
    "    for fold_idx in range(n_folds):\n",
    "        _, test_indices = task.get_train_test_split_indices(\n",
    "            repeat=0,\n",
    "            fold=fold_idx,\n",
    "            sample=0,\n",
    "        )\n",
    "        \n",
    "        folds[test_indices] = fold_idx\n",
    "        \n",
    "    splitter = sklearn.model_selection.PredefinedSplit(folds)\n",
    "                \n",
    "    return X, y, splitter        "
   ]
  },
  {
   "cell_type": "code",
   "execution_count": 7,
   "metadata": {},
   "outputs": [
    {
     "name": "stderr",
     "output_type": "stream",
     "text": [
      "DEBUG:openml.datasets.dataset:Data pickle file already exists and is up to date.\n",
      "DEBUG:openml.datasets.dataset:Data pickle file already exists and is up to date.\n"
     ]
    }
   ],
   "source": [
    "# noscript\n",
    "X, y, splitter = load_openml_task(9952)"
   ]
  },
  {
   "cell_type": "code",
   "execution_count": 8,
   "metadata": {},
   "outputs": [
    {
     "name": "stdout",
     "output_type": "stream",
     "text": [
      "(541,)\n",
      "(541,)\n",
      "(541,)\n",
      "(541,)\n",
      "(540,)\n",
      "(540,)\n",
      "(540,)\n",
      "(540,)\n",
      "(540,)\n",
      "(540,)\n"
     ]
    }
   ],
   "source": [
    "# noscript\n",
    "for train_idx, test_idx in splitter.split():\n",
    "    print(test_idx.shape)"
   ]
  },
  {
   "cell_type": "markdown",
   "metadata": {},
   "source": [
    "## Getting calibration metrics\n",
    "\n",
    "For each dataset we fit and evaluate multiple models. We record calibration metrics (ECE, ECE-balanced, PEACE), and some performance metrics (balanced accuracy, F1-score, accuracy). To this end we implement a function that runs this procedure for one model on one OpenML task."
   ]
  },
  {
   "cell_type": "code",
   "execution_count": 9,
   "metadata": {},
   "outputs": [],
   "source": [
    "MODELS = {\n",
    "    \"rf\": sklearn.ensemble.RandomForestClassifier(),\n",
    "    \"svm\": sklearn.svm.SVC(probability=True),\n",
    "    \"logreg\": sklearn.linear_model.LogisticRegression(),\n",
    "    \"nb\": sklearn.naive_bayes.GaussianNB(),\n",
    "    \"mlp\": sklearn.neural_network.MLPClassifier()\n",
    "}"
   ]
  },
  {
   "cell_type": "code",
   "execution_count": 10,
   "metadata": {},
   "outputs": [],
   "source": [
    "def get_fold_metrics_for_model(row, Xt, yt, Xv, yv):\n",
    "\n",
    "    # get and fit fresh model\n",
    "    model = sklearn.base.clone(MODELS[row[\"model_id\"]])\n",
    "    model.fit(Xt, yt)\n",
    "\n",
    "    # compute metrics on test data\n",
    "    y_probs = model.predict_proba(Xv)\n",
    "    y_probs_max = y_probs.max(axis=1)\n",
    "    y_preds = model.predict(Xv)\n",
    "    y_test = yv\n",
    "\n",
    "    bins = 15\n",
    "    row.update({\n",
    "        \"accuracy\": sklearn.metrics.accuracy_score(y_test, y_preds),\n",
    "        \"balanced_accuracy\": sklearn.metrics.balanced_accuracy_score(y_test, y_preds),\n",
    "        \"f1\": sklearn.metrics.f1_score(y_test, y_preds, average=\"weighted\"),\n",
    "        'ece': metrics.ece(y_probs_max, y_preds, y_test, bins=bins),\n",
    "        'ece_balanced': metrics.ece(y_probs_max, y_preds, y_test, balanced=True, bins=bins),\n",
    "        'peace': metrics.peace(y_probs_max, y_preds, y_test, bins=bins),\n",
    "        'class_wise_ece': metrics.class_wise_error(y_probs, y_preds, y_test, metrics.ece, bins=bins),\n",
    "        'class_wise_peace': metrics.class_wise_error(y_probs, y_preds, y_test, metrics.peace, bins=bins)\n",
    "    })\n",
    "    \n",
    "    return row"
   ]
  },
  {
   "cell_type": "code",
   "execution_count": 11,
   "metadata": {},
   "outputs": [],
   "source": [
    "def get_cv_metrics_for_model_and_task(model_id, task_id, pool, n_repeats):\n",
    "    \n",
    "    X, y, splitter = load_openml_task(task_id) # repeated runs will use cached data\n",
    "    \n",
    "    promises = []\n",
    "    for i, (train_idx, test_idx) in enumerate(splitter.split()):\n",
    "        for j in range(n_repeats):\n",
    "            row = {\n",
    "                \"fold\": i,\n",
    "                \"repeat\": j,\n",
    "                \"model_id\": model_id,\n",
    "                \"task_id\": task_id,\n",
    "            }\n",
    "\n",
    "            # split data\n",
    "            Xt, yt = X.iloc[train_idx], y.iloc[train_idx]\n",
    "            Xv, yv = X.iloc[test_idx], y.iloc[test_idx]\n",
    "\n",
    "            promise = pool.apply_async(\n",
    "                get_fold_metrics_for_model,\n",
    "                (row, Xt, yt, Xv, yv)\n",
    "            )\n",
    "            promises.append(promise)\n",
    "        \n",
    "    return promises"
   ]
  },
  {
   "cell_type": "markdown",
   "metadata": {},
   "source": [
    "## Data collection over all datasets and models"
   ]
  },
  {
   "cell_type": "code",
   "execution_count": 12,
   "metadata": {},
   "outputs": [
    {
     "name": "stderr",
     "output_type": "stream",
     "text": [
      "INFO:root:Output to metrics_1600886418.dat\n",
      "DEBUG:openml.datasets.dataset:Data pickle file already exists and is up to date.\n",
      "DEBUG:openml.datasets.dataset:Data pickle file already exists and is up to date.\n",
      "DEBUG:openml.datasets.dataset:Data pickle file already exists and is up to date.\n",
      "DEBUG:openml.datasets.dataset:Data pickle file already exists and is up to date.\n",
      "DEBUG:openml.datasets.dataset:Data pickle file already exists and is up to date.\n",
      "DEBUG:openml.datasets.dataset:Data pickle file already exists and is up to date.\n",
      "DEBUG:openml.datasets.dataset:Data pickle file already exists and is up to date.\n",
      "DEBUG:openml.datasets.dataset:Data pickle file already exists and is up to date.\n",
      "DEBUG:openml.datasets.dataset:Data pickle file already exists and is up to date.\n",
      "DEBUG:openml.datasets.dataset:Data pickle file already exists and is up to date.\n",
      "INFO:openml.datasets.dataset:Going to remove the following attributes: ['ID']\n",
      "DEBUG:openml.datasets.dataset:Data pickle file already exists and is up to date.\n",
      "DEBUG:openml.datasets.dataset:Data pickle file already exists and is up to date.\n",
      "DEBUG:openml.datasets.dataset:Data pickle file already exists and is up to date.\n",
      "DEBUG:openml.datasets.dataset:Data pickle file already exists and is up to date.\n",
      "DEBUG:openml.datasets.dataset:Data pickle file already exists and is up to date.\n",
      "DEBUG:openml.datasets.dataset:Data pickle file already exists and is up to date.\n",
      "DEBUG:openml.datasets.dataset:Data pickle file already exists and is up to date.\n",
      "DEBUG:openml.datasets.dataset:Data pickle file already exists and is up to date.\n",
      "DEBUG:openml.datasets.dataset:Data pickle file already exists and is up to date.\n",
      "DEBUG:openml.datasets.dataset:Data pickle file already exists and is up to date.\n",
      "DEBUG:openml.datasets.dataset:Data pickle file already exists and is up to date.\n",
      "DEBUG:openml.datasets.dataset:Data pickle file already exists and is up to date.\n",
      "DEBUG:openml.datasets.dataset:Data pickle file already exists and is up to date.\n",
      "DEBUG:openml.datasets.dataset:Data pickle file already exists and is up to date.\n",
      "DEBUG:openml.datasets.dataset:Data pickle file already exists and is up to date.\n",
      "DEBUG:openml.datasets.dataset:Data pickle file already exists and is up to date.\n",
      "DEBUG:openml.datasets.dataset:Data pickle file already exists and is up to date.\n",
      "DEBUG:openml.datasets.dataset:Data pickle file already exists and is up to date.\n",
      "DEBUG:openml.datasets.dataset:Data pickle file already exists and is up to date.\n",
      "DEBUG:openml.datasets.dataset:Data pickle file already exists and is up to date.\n",
      "INFO:openml.datasets.dataset:Going to remove the following attributes: ['ID']\n",
      "DEBUG:openml.datasets.dataset:Data pickle file already exists and is up to date.\n",
      "DEBUG:openml.datasets.dataset:Data pickle file already exists and is up to date.\n",
      "DEBUG:openml.datasets.dataset:Data pickle file already exists and is up to date.\n",
      "DEBUG:openml.datasets.dataset:Data pickle file already exists and is up to date.\n",
      "DEBUG:openml.datasets.dataset:Data pickle file already exists and is up to date.\n",
      "DEBUG:openml.datasets.dataset:Data pickle file already exists and is up to date.\n",
      "DEBUG:openml.datasets.dataset:Data pickle file already exists and is up to date.\n",
      "DEBUG:openml.datasets.dataset:Data pickle file already exists and is up to date.\n",
      "DEBUG:openml.datasets.dataset:Data pickle file already exists and is up to date.\n",
      "DEBUG:openml.datasets.dataset:Data pickle file already exists and is up to date.\n",
      "DEBUG:openml.datasets.dataset:Data pickle file already exists and is up to date.\n",
      "DEBUG:openml.datasets.dataset:Data pickle file already exists and is up to date.\n",
      "/home/maximl/.conda/envs/ml/lib/python3.8/site-packages/sklearn/metrics/_classification.py:1814: UserWarning: y_pred contains classes not in y_true\n",
      "  warnings.warn('y_pred contains classes not in y_true')\n",
      "DEBUG:openml.datasets.dataset:Data pickle file already exists and is up to date.\n",
      "DEBUG:openml.datasets.dataset:Data pickle file already exists and is up to date.\n",
      "DEBUG:openml.datasets.dataset:Data pickle file already exists and is up to date.\n",
      "DEBUG:openml.datasets.dataset:Data pickle file already exists and is up to date.\n",
      "DEBUG:openml.datasets.dataset:Data pickle file already exists and is up to date.\n",
      "DEBUG:openml.datasets.dataset:Data pickle file already exists and is up to date.\n",
      "DEBUG:openml.datasets.dataset:Data pickle file already exists and is up to date.\n",
      "DEBUG:openml.datasets.dataset:Data pickle file already exists and is up to date.\n",
      "INFO:openml.datasets.dataset:Going to remove the following attributes: ['ID']\n",
      "DEBUG:openml.datasets.dataset:Data pickle file already exists and is up to date.\n",
      "DEBUG:openml.datasets.dataset:Data pickle file already exists and is up to date.\n",
      "DEBUG:openml.datasets.dataset:Data pickle file already exists and is up to date.\n",
      "DEBUG:openml.datasets.dataset:Data pickle file already exists and is up to date.\n",
      "DEBUG:openml.datasets.dataset:Data pickle file already exists and is up to date.\n",
      "DEBUG:openml.datasets.dataset:Data pickle file already exists and is up to date.\n",
      "DEBUG:openml.datasets.dataset:Data pickle file already exists and is up to date.\n",
      "DEBUG:openml.datasets.dataset:Data pickle file already exists and is up to date.\n",
      "DEBUG:openml.datasets.dataset:Data pickle file already exists and is up to date.\n",
      "DEBUG:openml.datasets.dataset:Data pickle file already exists and is up to date.\n",
      "DEBUG:openml.datasets.dataset:Data pickle file already exists and is up to date.\n",
      "DEBUG:openml.datasets.dataset:Data pickle file already exists and is up to date.\n",
      "DEBUG:openml.datasets.dataset:Data pickle file already exists and is up to date.\n",
      "DEBUG:openml.datasets.dataset:Data pickle file already exists and is up to date.\n",
      "DEBUG:openml.datasets.dataset:Data pickle file already exists and is up to date.\n",
      "DEBUG:openml.datasets.dataset:Data pickle file already exists and is up to date.\n",
      "DEBUG:openml.datasets.dataset:Data pickle file already exists and is up to date.\n",
      "DEBUG:openml.datasets.dataset:Data pickle file already exists and is up to date.\n",
      "DEBUG:openml.datasets.dataset:Data pickle file already exists and is up to date.\n",
      "DEBUG:openml.datasets.dataset:Data pickle file already exists and is up to date.\n",
      "INFO:openml.datasets.dataset:Going to remove the following attributes: ['ID']\n",
      "DEBUG:openml.datasets.dataset:Data pickle file already exists and is up to date.\n",
      "DEBUG:openml.datasets.dataset:Data pickle file already exists and is up to date.\n",
      "DEBUG:openml.datasets.dataset:Data pickle file already exists and is up to date.\n",
      "DEBUG:openml.datasets.dataset:Data pickle file already exists and is up to date.\n",
      "DEBUG:openml.datasets.dataset:Data pickle file already exists and is up to date.\n",
      "DEBUG:openml.datasets.dataset:Data pickle file already exists and is up to date.\n",
      "DEBUG:openml.datasets.dataset:Data pickle file already exists and is up to date.\n",
      "DEBUG:openml.datasets.dataset:Data pickle file already exists and is up to date.\n",
      "DEBUG:openml.datasets.dataset:Data pickle file already exists and is up to date.\n",
      "DEBUG:openml.datasets.dataset:Data pickle file already exists and is up to date.\n",
      "DEBUG:openml.datasets.dataset:Data pickle file already exists and is up to date.\n",
      "DEBUG:openml.datasets.dataset:Data pickle file already exists and is up to date.\n",
      "DEBUG:openml.datasets.dataset:Data pickle file already exists and is up to date.\n",
      "DEBUG:openml.datasets.dataset:Data pickle file already exists and is up to date.\n",
      "DEBUG:openml.datasets.dataset:Data pickle file already exists and is up to date.\n",
      "DEBUG:openml.datasets.dataset:Data pickle file already exists and is up to date.\n",
      "DEBUG:openml.datasets.dataset:Data pickle file already exists and is up to date.\n",
      "DEBUG:openml.datasets.dataset:Data pickle file already exists and is up to date.\n",
      "DEBUG:openml.datasets.dataset:Data pickle file already exists and is up to date.\n",
      "DEBUG:openml.datasets.dataset:Data pickle file already exists and is up to date.\n",
      "INFO:openml.datasets.dataset:Going to remove the following attributes: ['ID']\n",
      "DEBUG:openml.datasets.dataset:Data pickle file already exists and is up to date.\n",
      "DEBUG:openml.datasets.dataset:Data pickle file already exists and is up to date.\n",
      "DEBUG:openml.datasets.dataset:Data pickle file already exists and is up to date.\n",
      "DEBUG:openml.datasets.dataset:Data pickle file already exists and is up to date.\n",
      "DEBUG:openml.datasets.dataset:Data pickle file already exists and is up to date.\n",
      "DEBUG:openml.datasets.dataset:Data pickle file already exists and is up to date.\n",
      "/home/maximl/.conda/envs/ml/lib/python3.8/site-packages/sklearn/metrics/_classification.py:1814: UserWarning: y_pred contains classes not in y_true\n",
      "  warnings.warn('y_pred contains classes not in y_true')\n",
      "DEBUG:openml.datasets.dataset:Data pickle file already exists and is up to date.\n",
      "DEBUG:openml.datasets.dataset:Data pickle file already exists and is up to date.\n",
      "DEBUG:openml.datasets.dataset:Data pickle file already exists and is up to date.\n",
      "DEBUG:openml.datasets.dataset:Data pickle file already exists and is up to date.\n",
      "/home/maximl/.conda/envs/ml/lib/python3.8/site-packages/sklearn/metrics/_classification.py:1814: UserWarning: y_pred contains classes not in y_true\n",
      "  warnings.warn('y_pred contains classes not in y_true')\n",
      "INFO:root:Finished promises: 1/500 (0.20%)\n",
      "INFO:root:Finished promises: 2/500 (0.40%)\n",
      "INFO:root:Finished promises: 3/500 (0.60%)\n",
      "INFO:root:Finished promises: 4/500 (0.80%)\n",
      "INFO:root:Finished promises: 5/500 (1.00%)\n",
      "INFO:root:Finished promises: 6/500 (1.20%)\n",
      "INFO:root:Finished promises: 7/500 (1.40%)\n",
      "INFO:root:Finished promises: 8/500 (1.60%)\n",
      "INFO:root:Finished promises: 9/500 (1.80%)\n",
      "INFO:root:Finished promises: 10/500 (2.00%)\n",
      "INFO:root:Finished promises: 11/500 (2.20%)\n",
      "INFO:root:Finished promises: 12/500 (2.40%)\n",
      "INFO:root:Finished promises: 13/500 (2.60%)\n",
      "INFO:root:Finished promises: 14/500 (2.80%)\n",
      "INFO:root:Finished promises: 15/500 (3.00%)\n",
      "INFO:root:Finished promises: 16/500 (3.20%)\n",
      "/home/maximl/.conda/envs/ml/lib/python3.8/site-packages/sklearn/metrics/_classification.py:1814: UserWarning: y_pred contains classes not in y_true\n",
      "  warnings.warn('y_pred contains classes not in y_true')\n",
      "INFO:root:Finished promises: 17/500 (3.40%)\n",
      "INFO:root:Finished promises: 18/500 (3.60%)\n",
      "INFO:root:Finished promises: 19/500 (3.80%)\n",
      "INFO:root:Finished promises: 20/500 (4.00%)\n",
      "INFO:root:Finished promises: 21/500 (4.20%)\n",
      "/home/maximl/.conda/envs/ml/lib/python3.8/site-packages/sklearn/metrics/_classification.py:1814: UserWarning: y_pred contains classes not in y_true\n",
      "  warnings.warn('y_pred contains classes not in y_true')\n",
      "/home/maximl/.conda/envs/ml/lib/python3.8/site-packages/sklearn/metrics/_classification.py:1814: UserWarning: y_pred contains classes not in y_true\n",
      "  warnings.warn('y_pred contains classes not in y_true')\n",
      "INFO:root:Finished promises: 22/500 (4.40%)\n",
      "/home/maximl/.conda/envs/ml/lib/python3.8/site-packages/sklearn/metrics/_classification.py:1814: UserWarning: y_pred contains classes not in y_true\n",
      "  warnings.warn('y_pred contains classes not in y_true')\n",
      "/home/maximl/.conda/envs/ml/lib/python3.8/site-packages/sklearn/metrics/_classification.py:1814: UserWarning: y_pred contains classes not in y_true\n",
      "  warnings.warn('y_pred contains classes not in y_true')\n",
      "INFO:root:Finished promises: 23/500 (4.60%)\n",
      "INFO:root:Finished promises: 24/500 (4.80%)\n",
      "INFO:root:Finished promises: 25/500 (5.00%)\n",
      "INFO:root:Finished promises: 26/500 (5.20%)\n",
      "INFO:root:Finished promises: 27/500 (5.40%)\n",
      "INFO:root:Finished promises: 28/500 (5.60%)\n",
      "INFO:root:Finished promises: 29/500 (5.80%)\n",
      "/home/maximl/.conda/envs/ml/lib/python3.8/site-packages/sklearn/metrics/_classification.py:1814: UserWarning: y_pred contains classes not in y_true\n",
      "  warnings.warn('y_pred contains classes not in y_true')\n",
      "INFO:root:Finished promises: 30/500 (6.00%)\n",
      "INFO:root:Finished promises: 31/500 (6.20%)\n",
      "INFO:root:Finished promises: 32/500 (6.40%)\n",
      "INFO:root:Finished promises: 33/500 (6.60%)\n",
      "INFO:root:Finished promises: 34/500 (6.80%)\n",
      "INFO:root:Finished promises: 35/500 (7.00%)\n",
      "INFO:root:Finished promises: 36/500 (7.20%)\n",
      "INFO:root:Finished promises: 37/500 (7.40%)\n",
      "INFO:root:Finished promises: 38/500 (7.60%)\n",
      "INFO:root:Finished promises: 39/500 (7.80%)\n",
      "INFO:root:Finished promises: 40/500 (8.00%)\n",
      "INFO:root:Finished promises: 41/500 (8.20%)\n",
      "INFO:root:Finished promises: 42/500 (8.40%)\n",
      "/home/maximl/.conda/envs/ml/lib/python3.8/site-packages/sklearn/metrics/_classification.py:1814: UserWarning: y_pred contains classes not in y_true\n",
      "  warnings.warn('y_pred contains classes not in y_true')\n",
      "/home/maximl/.conda/envs/ml/lib/python3.8/site-packages/sklearn/metrics/_classification.py:1814: UserWarning: y_pred contains classes not in y_true\n",
      "  warnings.warn('y_pred contains classes not in y_true')\n",
      "/home/maximl/.conda/envs/ml/lib/python3.8/site-packages/sklearn/metrics/_classification.py:1814: UserWarning: y_pred contains classes not in y_true\n",
      "  warnings.warn('y_pred contains classes not in y_true')\n",
      "/home/maximl/.conda/envs/ml/lib/python3.8/site-packages/sklearn/metrics/_classification.py:1814: UserWarning: y_pred contains classes not in y_true\n",
      "  warnings.warn('y_pred contains classes not in y_true')\n",
      "/home/maximl/.conda/envs/ml/lib/python3.8/site-packages/sklearn/metrics/_classification.py:1814: UserWarning: y_pred contains classes not in y_true\n",
      "  warnings.warn('y_pred contains classes not in y_true')\n",
      "/home/maximl/.conda/envs/ml/lib/python3.8/site-packages/sklearn/metrics/_classification.py:1814: UserWarning: y_pred contains classes not in y_true\n",
      "  warnings.warn('y_pred contains classes not in y_true')\n",
      "/home/maximl/.conda/envs/ml/lib/python3.8/site-packages/sklearn/metrics/_classification.py:1814: UserWarning: y_pred contains classes not in y_true\n",
      "  warnings.warn('y_pred contains classes not in y_true')\n",
      "/home/maximl/.conda/envs/ml/lib/python3.8/site-packages/sklearn/metrics/_classification.py:1814: UserWarning: y_pred contains classes not in y_true\n",
      "  warnings.warn('y_pred contains classes not in y_true')\n",
      "/home/maximl/.conda/envs/ml/lib/python3.8/site-packages/sklearn/metrics/_classification.py:1814: UserWarning: y_pred contains classes not in y_true\n",
      "  warnings.warn('y_pred contains classes not in y_true')\n",
      "/home/maximl/.conda/envs/ml/lib/python3.8/site-packages/sklearn/metrics/_classification.py:1814: UserWarning: y_pred contains classes not in y_true\n",
      "  warnings.warn('y_pred contains classes not in y_true')\n",
      "INFO:root:Finished promises: 43/500 (8.60%)\n",
      "INFO:root:Finished promises: 44/500 (8.80%)\n",
      "/home/maximl/.conda/envs/ml/lib/python3.8/site-packages/sklearn/metrics/_classification.py:1814: UserWarning: y_pred contains classes not in y_true\n",
      "  warnings.warn('y_pred contains classes not in y_true')\n",
      "/home/maximl/.conda/envs/ml/lib/python3.8/site-packages/sklearn/metrics/_classification.py:1814: UserWarning: y_pred contains classes not in y_true\n",
      "  warnings.warn('y_pred contains classes not in y_true')\n",
      "INFO:root:Finished promises: 45/500 (9.00%)\n",
      "INFO:root:Finished promises: 46/500 (9.20%)\n",
      "/home/maximl/.conda/envs/ml/lib/python3.8/site-packages/sklearn/metrics/_classification.py:1814: UserWarning: y_pred contains classes not in y_true\n",
      "  warnings.warn('y_pred contains classes not in y_true')\n",
      "INFO:root:Finished promises: 47/500 (9.40%)\n",
      "INFO:root:Finished promises: 48/500 (9.60%)\n",
      "INFO:root:Finished promises: 49/500 (9.80%)\n",
      "INFO:root:Finished promises: 50/500 (10.00%)\n",
      "INFO:root:Finished promises: 51/500 (10.20%)\n",
      "INFO:root:Finished promises: 52/500 (10.40%)\n",
      "/home/maximl/.conda/envs/ml/lib/python3.8/site-packages/sklearn/metrics/_classification.py:1814: UserWarning: y_pred contains classes not in y_true\n",
      "  warnings.warn('y_pred contains classes not in y_true')\n",
      "INFO:root:Finished promises: 53/500 (10.60%)\n",
      "INFO:root:Finished promises: 54/500 (10.80%)\n",
      "INFO:root:Finished promises: 55/500 (11.00%)\n",
      "INFO:root:Finished promises: 56/500 (11.20%)\n",
      "INFO:root:Finished promises: 57/500 (11.40%)\n",
      "INFO:root:Finished promises: 58/500 (11.60%)\n",
      "INFO:root:Finished promises: 59/500 (11.80%)\n",
      "INFO:root:Finished promises: 60/500 (12.00%)\n",
      "INFO:root:Finished promises: 61/500 (12.20%)\n",
      "INFO:root:Finished promises: 62/500 (12.40%)\n",
      "/home/maximl/.conda/envs/ml/lib/python3.8/site-packages/sklearn/metrics/_classification.py:1814: UserWarning: y_pred contains classes not in y_true\n",
      "  warnings.warn('y_pred contains classes not in y_true')\n",
      "/home/maximl/.conda/envs/ml/lib/python3.8/site-packages/sklearn/metrics/_classification.py:1814: UserWarning: y_pred contains classes not in y_true\n",
      "  warnings.warn('y_pred contains classes not in y_true')\n",
      "Process ForkPoolWorker-10:\n",
      "Process ForkPoolWorker-12:\n",
      "Process ForkPoolWorker-5:\n",
      "Process ForkPoolWorker-8:\n",
      "Process ForkPoolWorker-6:\n",
      "Traceback (most recent call last):\n",
      "Process ForkPoolWorker-11:\n",
      "  File \"/home/maximl/.conda/envs/ml/lib/python3.8/multiprocessing/process.py\", line 315, in _bootstrap\n",
      "    self.run()\n",
      "Traceback (most recent call last):\n",
      "Process ForkPoolWorker-9:\n",
      "Traceback (most recent call last):\n"
     ]
    },
    {
     "ename": "KeyboardInterrupt",
     "evalue": "",
     "output_type": "error",
     "traceback": [
      "\u001b[0;31m---------------------------------------------------------------------------\u001b[0m",
      "\u001b[0;31mKeyboardInterrupt\u001b[0m                         Traceback (most recent call last)",
      "\u001b[0;32m<ipython-input-12-99b761e1c766>\u001b[0m in \u001b[0;36m<module>\u001b[0;34m\u001b[0m\n\u001b[1;32m     11\u001b[0m     \u001b[0mdata\u001b[0m \u001b[0;34m=\u001b[0m \u001b[0;34m[\u001b[0m\u001b[0;34m]\u001b[0m\u001b[0;34m\u001b[0m\u001b[0;34m\u001b[0m\u001b[0m\n\u001b[1;32m     12\u001b[0m     \u001b[0;32mfor\u001b[0m \u001b[0mpromise\u001b[0m \u001b[0;32min\u001b[0m \u001b[0mpromises\u001b[0m\u001b[0;34m:\u001b[0m\u001b[0;34m\u001b[0m\u001b[0;34m\u001b[0m\u001b[0m\n\u001b[0;32m---> 13\u001b[0;31m         \u001b[0mdata\u001b[0m\u001b[0;34m.\u001b[0m\u001b[0mappend\u001b[0m\u001b[0;34m(\u001b[0m\u001b[0mpromise\u001b[0m\u001b[0;34m.\u001b[0m\u001b[0mget\u001b[0m\u001b[0;34m(\u001b[0m\u001b[0;34m)\u001b[0m\u001b[0;34m)\u001b[0m\u001b[0;34m\u001b[0m\u001b[0;34m\u001b[0m\u001b[0m\n\u001b[0m\u001b[1;32m     14\u001b[0m         \u001b[0mlogging\u001b[0m\u001b[0;34m.\u001b[0m\u001b[0minfo\u001b[0m\u001b[0;34m(\u001b[0m\u001b[0;34mf\"Finished promises: {len(data)}/{len(promises)} ({len(data)/len(promises)*100:.2f}%)\"\u001b[0m\u001b[0;34m)\u001b[0m\u001b[0;34m\u001b[0m\u001b[0;34m\u001b[0m\u001b[0m\n\u001b[1;32m     15\u001b[0m         \u001b[0mdf\u001b[0m \u001b[0;34m=\u001b[0m \u001b[0mpandas\u001b[0m\u001b[0;34m.\u001b[0m\u001b[0mDataFrame\u001b[0m\u001b[0;34m(\u001b[0m\u001b[0mdata\u001b[0m\u001b[0;34m)\u001b[0m\u001b[0;34m\u001b[0m\u001b[0;34m\u001b[0m\u001b[0m\n",
      "\u001b[0;32m~/.conda/envs/ml/lib/python3.8/multiprocessing/pool.py\u001b[0m in \u001b[0;36mget\u001b[0;34m(self, timeout)\u001b[0m\n\u001b[1;32m    760\u001b[0m \u001b[0;34m\u001b[0m\u001b[0m\n\u001b[1;32m    761\u001b[0m     \u001b[0;32mdef\u001b[0m \u001b[0mget\u001b[0m\u001b[0;34m(\u001b[0m\u001b[0mself\u001b[0m\u001b[0;34m,\u001b[0m \u001b[0mtimeout\u001b[0m\u001b[0;34m=\u001b[0m\u001b[0;32mNone\u001b[0m\u001b[0;34m)\u001b[0m\u001b[0;34m:\u001b[0m\u001b[0;34m\u001b[0m\u001b[0;34m\u001b[0m\u001b[0m\n\u001b[0;32m--> 762\u001b[0;31m         \u001b[0mself\u001b[0m\u001b[0;34m.\u001b[0m\u001b[0mwait\u001b[0m\u001b[0;34m(\u001b[0m\u001b[0mtimeout\u001b[0m\u001b[0;34m)\u001b[0m\u001b[0;34m\u001b[0m\u001b[0;34m\u001b[0m\u001b[0m\n\u001b[0m\u001b[1;32m    763\u001b[0m         \u001b[0;32mif\u001b[0m \u001b[0;32mnot\u001b[0m \u001b[0mself\u001b[0m\u001b[0;34m.\u001b[0m\u001b[0mready\u001b[0m\u001b[0;34m(\u001b[0m\u001b[0;34m)\u001b[0m\u001b[0;34m:\u001b[0m\u001b[0;34m\u001b[0m\u001b[0;34m\u001b[0m\u001b[0m\n\u001b[1;32m    764\u001b[0m             \u001b[0;32mraise\u001b[0m \u001b[0mTimeoutError\u001b[0m\u001b[0;34m\u001b[0m\u001b[0;34m\u001b[0m\u001b[0m\n",
      "\u001b[0;32m~/.conda/envs/ml/lib/python3.8/multiprocessing/pool.py\u001b[0m in \u001b[0;36mwait\u001b[0;34m(self, timeout)\u001b[0m\n\u001b[1;32m    757\u001b[0m \u001b[0;34m\u001b[0m\u001b[0m\n\u001b[1;32m    758\u001b[0m     \u001b[0;32mdef\u001b[0m \u001b[0mwait\u001b[0m\u001b[0;34m(\u001b[0m\u001b[0mself\u001b[0m\u001b[0;34m,\u001b[0m \u001b[0mtimeout\u001b[0m\u001b[0;34m=\u001b[0m\u001b[0;32mNone\u001b[0m\u001b[0;34m)\u001b[0m\u001b[0;34m:\u001b[0m\u001b[0;34m\u001b[0m\u001b[0;34m\u001b[0m\u001b[0m\n\u001b[0;32m--> 759\u001b[0;31m         \u001b[0mself\u001b[0m\u001b[0;34m.\u001b[0m\u001b[0m_event\u001b[0m\u001b[0;34m.\u001b[0m\u001b[0mwait\u001b[0m\u001b[0;34m(\u001b[0m\u001b[0mtimeout\u001b[0m\u001b[0;34m)\u001b[0m\u001b[0;34m\u001b[0m\u001b[0;34m\u001b[0m\u001b[0m\n\u001b[0m\u001b[1;32m    760\u001b[0m \u001b[0;34m\u001b[0m\u001b[0m\n\u001b[1;32m    761\u001b[0m     \u001b[0;32mdef\u001b[0m \u001b[0mget\u001b[0m\u001b[0;34m(\u001b[0m\u001b[0mself\u001b[0m\u001b[0;34m,\u001b[0m \u001b[0mtimeout\u001b[0m\u001b[0;34m=\u001b[0m\u001b[0;32mNone\u001b[0m\u001b[0;34m)\u001b[0m\u001b[0;34m:\u001b[0m\u001b[0;34m\u001b[0m\u001b[0;34m\u001b[0m\u001b[0m\n",
      "\u001b[0;32m~/.conda/envs/ml/lib/python3.8/threading.py\u001b[0m in \u001b[0;36mwait\u001b[0;34m(self, timeout)\u001b[0m\n\u001b[1;32m    556\u001b[0m             \u001b[0msignaled\u001b[0m \u001b[0;34m=\u001b[0m \u001b[0mself\u001b[0m\u001b[0;34m.\u001b[0m\u001b[0m_flag\u001b[0m\u001b[0;34m\u001b[0m\u001b[0;34m\u001b[0m\u001b[0m\n\u001b[1;32m    557\u001b[0m             \u001b[0;32mif\u001b[0m \u001b[0;32mnot\u001b[0m \u001b[0msignaled\u001b[0m\u001b[0;34m:\u001b[0m\u001b[0;34m\u001b[0m\u001b[0;34m\u001b[0m\u001b[0m\n\u001b[0;32m--> 558\u001b[0;31m                 \u001b[0msignaled\u001b[0m \u001b[0;34m=\u001b[0m \u001b[0mself\u001b[0m\u001b[0;34m.\u001b[0m\u001b[0m_cond\u001b[0m\u001b[0;34m.\u001b[0m\u001b[0mwait\u001b[0m\u001b[0;34m(\u001b[0m\u001b[0mtimeout\u001b[0m\u001b[0;34m)\u001b[0m\u001b[0;34m\u001b[0m\u001b[0;34m\u001b[0m\u001b[0m\n\u001b[0m\u001b[1;32m    559\u001b[0m             \u001b[0;32mreturn\u001b[0m \u001b[0msignaled\u001b[0m\u001b[0;34m\u001b[0m\u001b[0;34m\u001b[0m\u001b[0m\n\u001b[1;32m    560\u001b[0m \u001b[0;34m\u001b[0m\u001b[0m\n",
      "\u001b[0;32m~/.conda/envs/ml/lib/python3.8/threading.py\u001b[0m in \u001b[0;36mwait\u001b[0;34m(self, timeout)\u001b[0m\n\u001b[1;32m    300\u001b[0m         \u001b[0;32mtry\u001b[0m\u001b[0;34m:\u001b[0m    \u001b[0;31m# restore state no matter what (e.g., KeyboardInterrupt)\u001b[0m\u001b[0;34m\u001b[0m\u001b[0;34m\u001b[0m\u001b[0m\n\u001b[1;32m    301\u001b[0m             \u001b[0;32mif\u001b[0m \u001b[0mtimeout\u001b[0m \u001b[0;32mis\u001b[0m \u001b[0;32mNone\u001b[0m\u001b[0;34m:\u001b[0m\u001b[0;34m\u001b[0m\u001b[0;34m\u001b[0m\u001b[0m\n\u001b[0;32m--> 302\u001b[0;31m                 \u001b[0mwaiter\u001b[0m\u001b[0;34m.\u001b[0m\u001b[0macquire\u001b[0m\u001b[0;34m(\u001b[0m\u001b[0;34m)\u001b[0m\u001b[0;34m\u001b[0m\u001b[0;34m\u001b[0m\u001b[0m\n\u001b[0m\u001b[1;32m    303\u001b[0m                 \u001b[0mgotit\u001b[0m \u001b[0;34m=\u001b[0m \u001b[0;32mTrue\u001b[0m\u001b[0;34m\u001b[0m\u001b[0;34m\u001b[0m\u001b[0m\n\u001b[1;32m    304\u001b[0m             \u001b[0;32melse\u001b[0m\u001b[0;34m:\u001b[0m\u001b[0;34m\u001b[0m\u001b[0;34m\u001b[0m\u001b[0m\n",
      "\u001b[0;31mKeyboardInterrupt\u001b[0m: "
     ]
    }
   ],
   "source": [
    "with multiprocessing.Pool(processes=n_procs) as pool:\n",
    "    \n",
    "    output_file = f\"metrics_{int(time.time())}.dat\"\n",
    "    logging.info(f\"Output to {output_file}\")\n",
    "    \n",
    "    promises = []\n",
    "    for model_id in MODELS.keys():\n",
    "        for task_id in TASKS:\n",
    "            promises.extend(get_cv_metrics_for_model_and_task(model_id, task_id, pool, 1))\n",
    "            \n",
    "    data = []\n",
    "    for promise in promises:\n",
    "        data.append(promise.get())\n",
    "        logging.info(f\"Finished promises: {len(data)}/{len(promises)} ({len(data)/len(promises)*100:.2f}%)\")\n",
    "        df = pandas.DataFrame(data)\n",
    "        dump(df, output_file)"
   ]
  },
  {
   "cell_type": "code",
   "execution_count": null,
   "metadata": {},
   "outputs": [],
   "source": [
    "exit()"
   ]
  },
  {
   "cell_type": "markdown",
   "metadata": {},
   "source": [
    "# Analysis"
   ]
  },
  {
   "cell_type": "code",
   "execution_count": 13,
   "metadata": {},
   "outputs": [],
   "source": [
    "df = load(\"metrics_1600886418.dat\")"
   ]
  },
  {
   "cell_type": "code",
   "execution_count": 14,
   "metadata": {},
   "outputs": [],
   "source": [
    "grouped_df = df.groupby([\"model_id\", \"task_id\", \"repeat\"]).aggregate(\"mean\").drop(columns=[\"fold\"]).reset_index()"
   ]
  },
  {
   "cell_type": "code",
   "execution_count": 15,
   "metadata": {},
   "outputs": [
    {
     "data": {
      "text/html": [
       "<div>\n",
       "<style scoped>\n",
       "    .dataframe tbody tr th:only-of-type {\n",
       "        vertical-align: middle;\n",
       "    }\n",
       "\n",
       "    .dataframe tbody tr th {\n",
       "        vertical-align: top;\n",
       "    }\n",
       "\n",
       "    .dataframe thead th {\n",
       "        text-align: right;\n",
       "    }\n",
       "</style>\n",
       "<table border=\"1\" class=\"dataframe\">\n",
       "  <thead>\n",
       "    <tr style=\"text-align: right;\">\n",
       "      <th></th>\n",
       "      <th>model_id</th>\n",
       "      <th>task_id</th>\n",
       "      <th>repeat</th>\n",
       "      <th>accuracy</th>\n",
       "      <th>balanced_accuracy</th>\n",
       "      <th>f1</th>\n",
       "      <th>ece</th>\n",
       "      <th>ece_balanced</th>\n",
       "      <th>peace</th>\n",
       "      <th>class_wise_ece</th>\n",
       "      <th>class_wise_peace</th>\n",
       "    </tr>\n",
       "  </thead>\n",
       "  <tbody>\n",
       "    <tr>\n",
       "      <th>0</th>\n",
       "      <td>rf</td>\n",
       "      <td>32</td>\n",
       "      <td>0</td>\n",
       "      <td>0.989545</td>\n",
       "      <td>0.989564</td>\n",
       "      <td>0.989548</td>\n",
       "      <td>0.050014</td>\n",
       "      <td>0.052695</td>\n",
       "      <td>0.020030</td>\n",
       "      <td>0.056072</td>\n",
       "      <td>0.044744</td>\n",
       "    </tr>\n",
       "    <tr>\n",
       "      <th>1</th>\n",
       "      <td>rf</td>\n",
       "      <td>219</td>\n",
       "      <td>0</td>\n",
       "      <td>0.910642</td>\n",
       "      <td>0.906696</td>\n",
       "      <td>0.910458</td>\n",
       "      <td>0.054522</td>\n",
       "      <td>0.053303</td>\n",
       "      <td>0.051162</td>\n",
       "      <td>0.057114</td>\n",
       "      <td>0.055451</td>\n",
       "    </tr>\n",
       "    <tr>\n",
       "      <th>2</th>\n",
       "      <td>rf</td>\n",
       "      <td>3899</td>\n",
       "      <td>0</td>\n",
       "      <td>0.954840</td>\n",
       "      <td>0.935529</td>\n",
       "      <td>0.954147</td>\n",
       "      <td>0.014922</td>\n",
       "      <td>0.068852</td>\n",
       "      <td>0.066079</td>\n",
       "      <td>0.019247</td>\n",
       "      <td>0.022184</td>\n",
       "    </tr>\n",
       "    <tr>\n",
       "      <th>3</th>\n",
       "      <td>rf</td>\n",
       "      <td>3954</td>\n",
       "      <td>0</td>\n",
       "      <td>0.880284</td>\n",
       "      <td>0.854851</td>\n",
       "      <td>0.878305</td>\n",
       "      <td>0.033174</td>\n",
       "      <td>0.028275</td>\n",
       "      <td>0.035690</td>\n",
       "      <td>0.044080</td>\n",
       "      <td>0.048750</td>\n",
       "    </tr>\n",
       "    <tr>\n",
       "      <th>4</th>\n",
       "      <td>rf</td>\n",
       "      <td>9952</td>\n",
       "      <td>0</td>\n",
       "      <td>0.913404</td>\n",
       "      <td>0.891190</td>\n",
       "      <td>0.912982</td>\n",
       "      <td>0.051640</td>\n",
       "      <td>0.059560</td>\n",
       "      <td>0.062919</td>\n",
       "      <td>0.074721</td>\n",
       "      <td>0.076231</td>\n",
       "    </tr>\n",
       "    <tr>\n",
       "      <th>5</th>\n",
       "      <td>rf</td>\n",
       "      <td>9983</td>\n",
       "      <td>0</td>\n",
       "      <td>0.932844</td>\n",
       "      <td>0.929976</td>\n",
       "      <td>0.932666</td>\n",
       "      <td>0.125236</td>\n",
       "      <td>0.124996</td>\n",
       "      <td>0.111944</td>\n",
       "      <td>0.130183</td>\n",
       "      <td>0.118189</td>\n",
       "    </tr>\n",
       "    <tr>\n",
       "      <th>6</th>\n",
       "      <td>rf</td>\n",
       "      <td>14964</td>\n",
       "      <td>0</td>\n",
       "      <td>0.945976</td>\n",
       "      <td>0.944177</td>\n",
       "      <td>0.945920</td>\n",
       "      <td>0.131178</td>\n",
       "      <td>0.134773</td>\n",
       "      <td>0.088994</td>\n",
       "      <td>0.155636</td>\n",
       "      <td>0.123464</td>\n",
       "    </tr>\n",
       "  </tbody>\n",
       "</table>\n",
       "</div>"
      ],
      "text/plain": [
       "  model_id  task_id  repeat  accuracy  balanced_accuracy        f1       ece  \\\n",
       "0       rf       32       0  0.989545           0.989564  0.989548  0.050014   \n",
       "1       rf      219       0  0.910642           0.906696  0.910458  0.054522   \n",
       "2       rf     3899       0  0.954840           0.935529  0.954147  0.014922   \n",
       "3       rf     3954       0  0.880284           0.854851  0.878305  0.033174   \n",
       "4       rf     9952       0  0.913404           0.891190  0.912982  0.051640   \n",
       "5       rf     9983       0  0.932844           0.929976  0.932666  0.125236   \n",
       "6       rf    14964       0  0.945976           0.944177  0.945920  0.131178   \n",
       "\n",
       "   ece_balanced     peace  class_wise_ece  class_wise_peace  \n",
       "0      0.052695  0.020030        0.056072          0.044744  \n",
       "1      0.053303  0.051162        0.057114          0.055451  \n",
       "2      0.068852  0.066079        0.019247          0.022184  \n",
       "3      0.028275  0.035690        0.044080          0.048750  \n",
       "4      0.059560  0.062919        0.074721          0.076231  \n",
       "5      0.124996  0.111944        0.130183          0.118189  \n",
       "6      0.134773  0.088994        0.155636          0.123464  "
      ]
     },
     "execution_count": 15,
     "metadata": {},
     "output_type": "execute_result"
    }
   ],
   "source": [
    "grouped_df"
   ]
  },
  {
   "cell_type": "code",
   "execution_count": 22,
   "metadata": {},
   "outputs": [],
   "source": [
    "dfs = []\n",
    "for col in grouped_df.iloc[:, 3:]:\n",
    "    dfs.append(\n",
    "        pandas.DataFrame(\n",
    "            dict(value=grouped_df[col], metric=col, subject=grouped_df[\"model_id\"] + grouped_df[\"task_id\"].astype(str))\n",
    "        )\n",
    "    )\n",
    "long_df = pandas.concat(dfs)"
   ]
  },
  {
   "cell_type": "code",
   "execution_count": 23,
   "metadata": {},
   "outputs": [
    {
     "data": {
      "text/html": [
       "<div>\n",
       "<style scoped>\n",
       "    .dataframe tbody tr th:only-of-type {\n",
       "        vertical-align: middle;\n",
       "    }\n",
       "\n",
       "    .dataframe tbody tr th {\n",
       "        vertical-align: top;\n",
       "    }\n",
       "\n",
       "    .dataframe thead th {\n",
       "        text-align: right;\n",
       "    }\n",
       "</style>\n",
       "<table border=\"1\" class=\"dataframe\">\n",
       "  <thead>\n",
       "    <tr style=\"text-align: right;\">\n",
       "      <th></th>\n",
       "      <th>value</th>\n",
       "      <th>metric</th>\n",
       "      <th>subject</th>\n",
       "    </tr>\n",
       "  </thead>\n",
       "  <tbody>\n",
       "    <tr>\n",
       "      <th>0</th>\n",
       "      <td>0.989545</td>\n",
       "      <td>accuracy</td>\n",
       "      <td>rf32</td>\n",
       "    </tr>\n",
       "    <tr>\n",
       "      <th>1</th>\n",
       "      <td>0.910642</td>\n",
       "      <td>accuracy</td>\n",
       "      <td>rf219</td>\n",
       "    </tr>\n",
       "    <tr>\n",
       "      <th>2</th>\n",
       "      <td>0.954840</td>\n",
       "      <td>accuracy</td>\n",
       "      <td>rf3899</td>\n",
       "    </tr>\n",
       "    <tr>\n",
       "      <th>3</th>\n",
       "      <td>0.880284</td>\n",
       "      <td>accuracy</td>\n",
       "      <td>rf3954</td>\n",
       "    </tr>\n",
       "    <tr>\n",
       "      <th>4</th>\n",
       "      <td>0.913404</td>\n",
       "      <td>accuracy</td>\n",
       "      <td>rf9952</td>\n",
       "    </tr>\n",
       "  </tbody>\n",
       "</table>\n",
       "</div>"
      ],
      "text/plain": [
       "      value    metric subject\n",
       "0  0.989545  accuracy    rf32\n",
       "1  0.910642  accuracy   rf219\n",
       "2  0.954840  accuracy  rf3899\n",
       "3  0.880284  accuracy  rf3954\n",
       "4  0.913404  accuracy  rf9952"
      ]
     },
     "execution_count": 23,
     "metadata": {},
     "output_type": "execute_result"
    }
   ],
   "source": [
    "long_df.head()"
   ]
  },
  {
   "cell_type": "code",
   "execution_count": 24,
   "metadata": {},
   "outputs": [
    {
     "data": {
      "text/plain": [
       "<seaborn.axisgrid.FacetGrid at 0x7f63e1dd0eb0>"
      ]
     },
     "execution_count": 24,
     "metadata": {},
     "output_type": "execute_result"
    },
    {
     "data": {
      "image/png": "[encoded data removed]",
      "text/plain": [
       "<Figure size 1080x360 with 3 Axes>"
      ]
     },
     "metadata": {
      "needs_background": "light"
     },
     "output_type": "display_data"
    }
   ],
   "source": [
    "seaborn.displot(data=long_df[long_df[\"metric\"].isin([\"ece\", \"ece_balanced\", \"peace\"])], x=\"value\", col=\"metric\", rug=True, kind=\"kde\")"
   ]
  },
  {
   "cell_type": "code",
   "execution_count": 25,
   "metadata": {},
   "outputs": [
    {
     "data": {
      "text/plain": [
       "<matplotlib.axes._subplots.AxesSubplot at 0x7f63e1bb48e0>"
      ]
     },
     "execution_count": 25,
     "metadata": {},
     "output_type": "execute_result"
    },
    {
     "data": {
      "image/png": "[encoded data removed]",
      "text/plain": [
       "<Figure size 432x288 with 1 Axes>"
      ]
     },
     "metadata": {
      "needs_background": "light"
     },
     "output_type": "display_data"
    }
   ],
   "source": [
    "seaborn.boxplot(data=long_df[long_df[\"metric\"].isin([\"ece\", \"ece_balanced\", \"peace\"])], y=\"value\", x=\"metric\")"
   ]
  },
  {
   "cell_type": "code",
   "execution_count": 26,
   "metadata": {},
   "outputs": [
    {
     "data": {
      "text/plain": [
       "<matplotlib.axes._subplots.AxesSubplot at 0x7f63e18ee4f0>"
      ]
     },
     "execution_count": 26,
     "metadata": {},
     "output_type": "execute_result"
    },
    {
     "data": {
      "image/png": "[encoded data removed]",
      "text/plain": [
       "<Figure size 432x288 with 1 Axes>"
      ]
     },
     "metadata": {
      "needs_background": "light"
     },
     "output_type": "display_data"
    }
   ],
   "source": [
    "seaborn.lineplot(data=long_df[long_df[\"metric\"].isin([\"ece\", \"ece_balanced\", \"peace\"])], y=\"value\", x=\"metric\", hue=\"subject\", err_style=\"bars\", palette=\"tab10\")"
   ]
  },
  {
   "cell_type": "code",
   "execution_count": null,
   "metadata": {},
   "outputs": [],
   "source": []
  }
 ],
 "metadata": {
  "kernelspec": {
   "display_name": "Python 3",
   "language": "python",
   "name": "python3"
  },
  "language_info": {
   "codemirror_mode": {
    "name": "ipython",
    "version": 3
   },
   "file_extension": ".py",
   "mimetype": "text/x-python",
   "name": "python",
   "nbconvert_exporter": "python",
   "pygments_lexer": "ipython3",
   "version": "3.8.2"
  }
 },
 "nbformat": 4,
 "nbformat_minor": 4
}
