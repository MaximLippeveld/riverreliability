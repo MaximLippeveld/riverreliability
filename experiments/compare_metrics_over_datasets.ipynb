{
 "cells": [
  {
   "cell_type": "code",
   "execution_count": 1,
   "metadata": {},
   "outputs": [
    {
     "name": "stdout",
     "output_type": "stream",
     "text": [
      "[NbConvertApp] Converting notebook compare_metrics_over_datasets.ipynb to python\n",
      "[NbConvertApp] Writing 10211 bytes to compare_metrics_over_datasets.py\n"
     ]
    }
   ],
   "source": [
    "# noscript\n",
    "!jupyter nbconvert --RegexRemovePreprocessor.patterns=\"['# ?noscript']\" --TemplateExporter.exclude_markdown=True --to python compare_metrics_over_datasets.ipynb"
   ]
  },
  {
   "cell_type": "code",
   "execution_count": 2,
   "metadata": {},
   "outputs": [],
   "source": [
    "import pandas\n",
    "import numpy\n",
    "import seaborn\n",
    "import matplotlib.pyplot as plt\n",
    "\n",
    "import openml\n",
    "\n",
    "import sklearn.metrics\n",
    "import sklearn.ensemble\n",
    "import sklearn.svm\n",
    "import sklearn.preprocessing\n",
    "import sklearn.model_selection\n",
    "import sklearn.base\n",
    "import sklearn.utils\n",
    "import sklearn.linear_model\n",
    "import sklearn.naive_bayes\n",
    "import sklearn.neural_network\n",
    "import sklearn.tree\n",
    "\n",
    "from ridgereliability import plots, metrics\n",
    "\n",
    "import os\n",
    "import multiprocessing\n",
    "import logging\n",
    "import time\n",
    "from joblib import load, dump"
   ]
  },
  {
   "cell_type": "code",
   "execution_count": 3,
   "metadata": {},
   "outputs": [],
   "source": [
    "def is_notebook():\n",
    "    try:\n",
    "        from IPython import get_ipython\n",
    "        return get_ipython().__class__.__name__ == 'ZMQInteractiveShell'\n",
    "    except ModuleNotFoundError:\n",
    "        return False"
   ]
  },
  {
   "cell_type": "code",
   "execution_count": 4,
   "metadata": {},
   "outputs": [],
   "source": [
    "if is_notebook():\n",
    "    n_procs = multiprocessing.cpu_count()//2\n",
    "    random_tasks = 1\n",
    "else:\n",
    "    import argparse\n",
    "    parser = argparse.ArgumentParser()\n",
    "    parser.add_argument(\"--n-processes\", type=int, required=True)\n",
    "    parser.add_argument(\"--random-tasks\", type=int, default=0)\n",
    "    args = parser.parse_args()\n",
    "    n_procs = args.n_processes\n",
    "    random_tasks = args.random_tasks"
   ]
  },
  {
   "cell_type": "code",
   "execution_count": 5,
   "metadata": {},
   "outputs": [],
   "source": [
    "logging.basicConfig(level=logging.INFO, format='%(levelname)s: %(asctime)s - %(message)s')\n",
    "logging.captureWarnings(True)"
   ]
  },
  {
   "cell_type": "code",
   "execution_count": 6,
   "metadata": {},
   "outputs": [],
   "source": [
    "numpy.random.seed(42)"
   ]
  },
  {
   "cell_type": "markdown",
   "metadata": {},
   "source": [
    "# Compare metrics over datasets\n",
    "\n",
    "In this notebook we collect calibration estimates for several models and datasets. The estimates are computed with the Expected Calibration Error (ECE), Balanced-ECE, and Posterior Expected Accuracy-based Calibration Error (PEACE).\n",
    "\n",
    "Tested models:\n",
    "- Random Forest\n",
    "- SVM\n",
    "- Logistic Regression\n",
    "- Gaussian Naive Bayes\n",
    "- MLP\n",
    "- AdaBoost\n",
    "- Decision Tree\n",
    "\n",
    "Tested datasets (from Open ML):\n",
    "- [eeg-eye-state](https://www.openml.org/d/1471), task [9983](https://www.openml.org/t/9983)\n",
    "- [Phoneme](https://www.openml.org/d/1489), task [9952](https://www.openml.org/t/9952)\n",
    "- [mozilla4](https://www.openml.org/d/1046), task [3899](https://www.openml.org/t/3899)\n",
    "- [electricity](https://www.openml.org/d/151), task [219](https://www.openml.org/t/219)\n",
    "- [Magic Telescope](https://www.openml.org/d/1120), task [3954](https://www.openml.org/t/3954)\n",
    "- [artificial characters](https://www.openml.org/d/1459), task [14964](https://www.openml.org/t/14964)\n",
    "- [pendigits](https://www.openml.org/d/32), task [32](https://www.openml.org/t/32)\n",
    "- [letter](https://www.openml.org/d/6), task [6](https://www.openml.org/t/6)\n",
    "- [JapaneseVowels](https://www.openml.org/d/375), task [3510](https://www.openml.org/t/3510)\n",
    "- [glass](https://www.openml.org/d/41), task [40](https://www.openml.org/t/40)\n",
    "- [micro-mass](https://www.openml.org/d/1515), task [9950](https://www.openml.org/t/9950)\n",
    "- [vehicle](https://www.openml.org/d/54), task [53](https://www.openml.org/t/53)\n",
    "- [synthetic-control](https://www.openml.org/d/377), task [3512](https://www.openml.org/t/3512)\n",
    "- [mfeat-factors](https://www.openml.org/d/12), task [12](https://www.openml.org/t/12)\n",
    "- [OVA_breast](https://www.openml.org/d/1128), task [3962](https://www.openml.org/d/1128)\n",
    "- [sonar](https://www.openml.org/d/40), task [39](https://www.openml.org/t/39)\n",
    "- [visualizing_livestock](https://www.openml.org/d/685), task [3577](https://www.openml.org/t/3577)\n",
    "- [spectrometer](https://www.openml.org/d/313), task [145682](https://www.openml.org/t/145682)\n",
    "- [disclosure_z](https://www.openml.org/d/931), task [3794](https://www.openml.org/t/3794)\n",
    "- [mfeat-pixel](https://www.openml.org/d/40979), task [146824](https://www.openml.org/t/146824)"
   ]
  },
  {
   "cell_type": "markdown",
   "metadata": {},
   "source": [
    "## Datasets\n",
    "\n",
    "First of all, we need to be able to load and preprocess multiple datasets appropriately to prepare it for classification. \n",
    "To this end we implement a function that will load a dataset and classification task from OpenML."
   ]
  },
  {
   "cell_type": "code",
   "execution_count": 7,
   "metadata": {},
   "outputs": [],
   "source": [
    "def find_random_task(offset, selected_tasks):\n",
    "    while True:\n",
    "        df = openml.tasks.list_tasks(task_type_id=1, offset=offset, output_format=\"dataframe\", size=10000, status=\"active\", number_missing_values=0)\n",
    "        if \"NumberOfInstances\" in df:\n",
    "            df = df[(df[\"NumberOfInstances\"] > 100) & (df[\"NumberOfInstances\"] < 1000)]\n",
    "            if len(df) > 0:\n",
    "                task = df.sample(n=1).iloc[0][\"tid\"]\n",
    "                if task not in selected_tasks:\n",
    "                    selected_tasks.append(task)\n",
    "                    return task"
   ]
  },
  {
   "cell_type": "code",
   "execution_count": 8,
   "metadata": {},
   "outputs": [],
   "source": [
    "if random_tasks > 0:\n",
    "    TASKS = random_tasks\n",
    "else:\n",
    "    TASKS = [9983, 9952, 3899, 219, 3954, 14964, 32, 6, 3510, 40, 9950, 53, 3512, 12, 3962, 39, 3577, 145682, 3794, 146824]"
   ]
  },
  {
   "cell_type": "code",
   "execution_count": 9,
   "metadata": {},
   "outputs": [],
   "source": [
    "def load_openml_task(task_id=None, offset=0, selected_tasks=[]):\n",
    "    \n",
    "    while True:\n",
    "        if task_id is None:\n",
    "            curr_id = find_random_task(offset, selected_tasks)\n",
    "        else:\n",
    "            curr_id = task_id\n",
    "\n",
    "        try: \n",
    "            task = openml.tasks.get_task(curr_id)\n",
    "            X, y = task.get_X_and_y(\"array\")\n",
    "            X, y = sklearn.utils.indexable(X, y)\n",
    "            \n",
    "            target_type = sklearn.utils.multiclass.type_of_target(y)\n",
    "            if target_type not in [\"binary\", \"multiclass\"]:\n",
    "                continue\n",
    "\n",
    "            if hasattr(X, \"toarray\"):\n",
    "                X = X.toarray()\n",
    "            if hasattr(y, \"toarray\"):\n",
    "                y = y.toarray()\n",
    "\n",
    "            X = sklearn.preprocessing.OrdinalEncoder().fit_transform(X)\n",
    "\n",
    "            n_repeats, n_folds, n_samples = task.get_split_dimensions()\n",
    "            \n",
    "            if n_folds > 10:\n",
    "                continue\n",
    "\n",
    "            folds = numpy.full((len(X)), dtype=int, fill_value=-1)\n",
    "            for fold_idx in range(n_folds):\n",
    "                _, test_indices = task.get_train_test_split_indices(\n",
    "                    repeat=0,\n",
    "                    fold=fold_idx,\n",
    "                    sample=0,\n",
    "                )\n",
    "\n",
    "                folds[test_indices] = fold_idx\n",
    "\n",
    "            splitter = sklearn.model_selection.PredefinedSplit(folds)\n",
    "\n",
    "            return X, y, splitter, curr_id\n",
    "        except:\n",
    "            if task_id is not None:\n",
    "                raise e"
   ]
  },
  {
   "cell_type": "code",
   "execution_count": 10,
   "metadata": {},
   "outputs": [
    {
     "name": "stderr",
     "output_type": "stream",
     "text": [
      "INFO: 2020-09-28 13:47:50,130 - pickle load data phoneme\n"
     ]
    }
   ],
   "source": [
    "# noscript\n",
    "X, y, splitter, task_id = load_openml_task(9952)"
   ]
  },
  {
   "cell_type": "code",
   "execution_count": 11,
   "metadata": {},
   "outputs": [
    {
     "name": "stderr",
     "output_type": "stream",
     "text": [
      "INFO: 2020-09-28 13:47:50,243 - Starting [get] request for the URL https://www.openml.org/api/v1/xml/task/list/type/1/limit/10000/offset/0/status/active/number_missing_values/0\n",
      "INFO: 2020-09-28 13:47:50,839 - 0.5944986s taken for [get] request for the URL https://www.openml.org/api/v1/xml/task/list/type/1/limit/10000/offset/0/status/active/number_missing_values/0\n",
      "INFO: 2020-09-28 13:47:51,217 - Starting [get] request for the URL https://www.openml.org/api/v1/xml/estimationprocedure/list\n",
      "INFO: 2020-09-28 13:47:51,386 - 0.1687264s taken for [get] request for the URL https://www.openml.org/api/v1/xml/estimationprocedure/list\n",
      "INFO: 2020-09-28 13:47:51,477 - pickle load data wdbc\n"
     ]
    }
   ],
   "source": [
    "# noscript\n",
    "X, y, splitter, task_id = load_openml_task()"
   ]
  },
  {
   "cell_type": "markdown",
   "metadata": {},
   "source": [
    "## Getting calibration metrics\n",
    "\n",
    "For each dataset we fit and evaluate multiple models. We record calibration metrics (ECE, ECE-balanced, PEACE), and some performance metrics (balanced accuracy, F1-score, accuracy). To this end we implement a function that runs this procedure for one model on one OpenML task."
   ]
  },
  {
   "cell_type": "code",
   "execution_count": 12,
   "metadata": {},
   "outputs": [],
   "source": [
    "MODELS = {\n",
    "    \"rf\": sklearn.ensemble.RandomForestClassifier(),\n",
    "    \"svm\": sklearn.svm.SVC(probability=True),\n",
    "    \"logreg\": sklearn.linear_model.LogisticRegression(max_iter=1000),\n",
    "    \"nb\": sklearn.naive_bayes.GaussianNB(),\n",
    "    \"mlp\": sklearn.neural_network.MLPClassifier(max_iter=1000),\n",
    "    \"adaboost\": sklearn.ensemble.AdaBoostClassifier(n_estimators=500),\n",
    "    \"dectree\": sklearn.tree.DecisionTreeClassifier()\n",
    "}"
   ]
  },
  {
   "cell_type": "code",
   "execution_count": 13,
   "metadata": {},
   "outputs": [],
   "source": [
    "def get_fold_metrics_for_model(row, Xt, yt, Xv, yv):\n",
    "    # get and fit fresh model\n",
    "    model = sklearn.base.clone(MODELS[row[\"model_id\"]])\n",
    "    model.fit(Xt, yt)\n",
    "\n",
    "    # compute metrics on test data\n",
    "    y_probs = model.predict_proba(Xv)\n",
    "    y_probs_max = y_probs.max(axis=1)\n",
    "    y_preds = model.predict(Xv)\n",
    "    y_test = yv\n",
    "\n",
    "    bins = 15\n",
    "    row.update({\n",
    "        \"accuracy\": sklearn.metrics.accuracy_score(y_test, y_preds),\n",
    "        \"balanced_accuracy\": sklearn.metrics.balanced_accuracy_score(y_test, y_preds),\n",
    "        \"f1\": sklearn.metrics.f1_score(y_test, y_preds, average=\"weighted\"),\n",
    "        'ece': metrics.ece(y_probs_max, y_preds, y_test, bins=bins),\n",
    "        'ece_balanced': metrics.ece(y_probs_max, y_preds, y_test, balanced=True, bins=bins),\n",
    "        'peace': metrics.peace(y_probs_max, y_preds, y_test, bins=bins),\n",
    "        'class_wise_ece': metrics.class_wise_error(y_probs, y_preds, y_test, metrics.ece, bins=bins),\n",
    "        'class_wise_peace': metrics.class_wise_error(y_probs, y_preds, y_test, metrics.peace, bins=bins)\n",
    "    })\n",
    "    \n",
    "    return row"
   ]
  },
  {
   "cell_type": "code",
   "execution_count": 14,
   "metadata": {},
   "outputs": [],
   "source": [
    "def get_cv_metrics_for_model_and_task(model_id, task_id, pool, n_repeats, counter, start_at, selected_tasks):\n",
    "    while True:\n",
    "        X, y, splitter, task_id = load_openml_task(task_id, offset=counter, selected_tasks=selected_tasks) # repeated runs will use cached data\n",
    "        try:\n",
    "\n",
    "            promises = []\n",
    "            for i, (train_idx, test_idx) in enumerate(splitter.split()):\n",
    "                for j in range(n_repeats):\n",
    "                    counter += 1\n",
    "                    if counter < start_at:\n",
    "                        continue\n",
    "\n",
    "                    row = {\n",
    "                        \"fold\": i,\n",
    "                        \"repeat\": j,\n",
    "                        \"model_id\": model_id,\n",
    "                        \"task_id\": task_id,\n",
    "                    }\n",
    "\n",
    "                    # split data\n",
    "                    Xt, yt = X[train_idx], y[train_idx]\n",
    "                    Xv, yv = X[test_idx], y[test_idx]\n",
    "\n",
    "                    promise = pool.apply_async(\n",
    "                        get_fold_metrics_for_model,\n",
    "                        (row, Xt, yt, Xv, yv)\n",
    "                    )\n",
    "                    promises.append(promise)\n",
    "\n",
    "            logging.info(f\"Promises for single cv: {len(promises)}\")\n",
    "            return promises, counter\n",
    "        except:\n",
    "            logging.exception(f\"Error in CV for task {task_id}. Trying new task.\")\n",
    "            "
   ]
  },
  {
   "cell_type": "markdown",
   "metadata": {},
   "source": [
    "## Data collection over all datasets and models"
   ]
  },
  {
   "cell_type": "code",
   "execution_count": 15,
   "metadata": {},
   "outputs": [
    {
     "name": "stderr",
     "output_type": "stream",
     "text": [
      "INFO: 2020-09-28 13:47:52,528 - Output to metrics_1601293672.dat\n",
      "INFO: 2020-09-28 13:47:52,530 - Starting [get] request for the URL https://www.openml.org/api/v1/xml/task/list/type/1/limit/10000/offset/0/status/active/number_missing_values/0\n",
      "INFO: 2020-09-28 13:47:53,092 - 0.5615709s taken for [get] request for the URL https://www.openml.org/api/v1/xml/task/list/type/1/limit/10000/offset/0/status/active/number_missing_values/0\n",
      "INFO: 2020-09-28 13:47:53,411 - Starting [get] request for the URL https://www.openml.org/api/v1/xml/estimationprocedure/list\n",
      "INFO: 2020-09-28 13:47:53,570 - 0.1593385s taken for [get] request for the URL https://www.openml.org/api/v1/xml/estimationprocedure/list\n",
      "INFO: 2020-09-28 13:47:53,673 - pickle load data grub-damage\n",
      "INFO: 2020-09-28 13:47:53,687 - Promises for single cv: 10\n",
      "INFO: 2020-09-28 13:47:53,688 - 10 promises submitted to pool (('rf', None))\n",
      "INFO: 2020-09-28 13:47:53,688 - Starting [get] request for the URL https://www.openml.org/api/v1/xml/task/list/type/1/limit/10000/offset/10/status/active/number_missing_values/0\n",
      "WARNING: 2020-09-28 13:47:53,804 - /home/maximl/.conda/envs/ml/lib/python3.8/site-packages/sklearn/metrics/_classification.py:1814: UserWarning: y_pred contains classes not in y_true\n",
      "  warnings.warn('y_pred contains classes not in y_true')\n",
      "\n",
      "WARNING: 2020-09-28 13:47:53,809 - /home/maximl/.conda/envs/ml/lib/python3.8/site-packages/sklearn/metrics/_classification.py:1814: UserWarning: y_pred contains classes not in y_true\n",
      "  warnings.warn('y_pred contains classes not in y_true')\n",
      "\n",
      "WARNING: 2020-09-28 13:47:53,854 - /home/maximl/.conda/envs/ml/lib/python3.8/site-packages/sklearn/metrics/_classification.py:1814: UserWarning: y_pred contains classes not in y_true\n",
      "  warnings.warn('y_pred contains classes not in y_true')\n",
      "\n",
      "WARNING: 2020-09-28 13:47:53,856 - /home/maximl/.conda/envs/ml/lib/python3.8/site-packages/sklearn/metrics/_classification.py:1814: UserWarning: y_pred contains classes not in y_true\n",
      "  warnings.warn('y_pred contains classes not in y_true')\n",
      "\n",
      "WARNING: 2020-09-28 13:47:53,892 - /home/maximl/.conda/envs/ml/lib/python3.8/site-packages/sklearn/metrics/_classification.py:1814: UserWarning: y_pred contains classes not in y_true\n",
      "  warnings.warn('y_pred contains classes not in y_true')\n",
      "\n",
      "WARNING: 2020-09-28 13:47:53,892 - /home/maximl/.conda/envs/ml/lib/python3.8/site-packages/sklearn/metrics/_classification.py:1814: UserWarning: y_pred contains classes not in y_true\n",
      "  warnings.warn('y_pred contains classes not in y_true')\n",
      "\n",
      "WARNING: 2020-09-28 13:47:53,956 - /home/maximl/.conda/envs/ml/lib/python3.8/site-packages/sklearn/metrics/_classification.py:1814: UserWarning: y_pred contains classes not in y_true\n",
      "  warnings.warn('y_pred contains classes not in y_true')\n",
      "\n",
      "WARNING: 2020-09-28 13:47:53,972 - /home/maximl/.conda/envs/ml/lib/python3.8/site-packages/sklearn/metrics/_classification.py:1814: UserWarning: y_pred contains classes not in y_true\n",
      "  warnings.warn('y_pred contains classes not in y_true')\n",
      "\n",
      "WARNING: 2020-09-28 13:47:54,003 - /home/maximl/.conda/envs/ml/lib/python3.8/site-packages/sklearn/metrics/_classification.py:1814: UserWarning: y_pred contains classes not in y_true\n",
      "  warnings.warn('y_pred contains classes not in y_true')\n",
      "\n",
      "WARNING: 2020-09-28 13:47:54,029 - /home/maximl/.conda/envs/ml/lib/python3.8/site-packages/sklearn/metrics/_classification.py:1814: UserWarning: y_pred contains classes not in y_true\n",
      "  warnings.warn('y_pred contains classes not in y_true')\n",
      "\n",
      "INFO: 2020-09-28 13:47:54,248 - 0.5594137s taken for [get] request for the URL https://www.openml.org/api/v1/xml/task/list/type/1/limit/10000/offset/10/status/active/number_missing_values/0\n",
      "INFO: 2020-09-28 13:47:54,659 - Starting [get] request for the URL https://www.openml.org/api/v1/xml/estimationprocedure/list\n",
      "INFO: 2020-09-28 13:47:54,887 - 0.2272961s taken for [get] request for the URL https://www.openml.org/api/v1/xml/estimationprocedure/list\n",
      "INFO: 2020-09-28 13:47:54,972 - pickle load data vertebra-column\n",
      "INFO: 2020-09-28 13:47:54,977 - Promises for single cv: 1\n",
      "INFO: 2020-09-28 13:47:54,978 - 11 promises submitted to pool (('svm', None))\n",
      "INFO: 2020-09-28 13:47:54,979 - Starting [get] request for the URL https://www.openml.org/api/v1/xml/task/list/type/1/limit/10000/offset/11/status/active/number_missing_values/0\n",
      "WARNING: 2020-09-28 13:47:54,984 - /home/maximl/.conda/envs/ml/lib/python3.8/site-packages/sklearn/metrics/_classification.py:1814: UserWarning: y_pred contains classes not in y_true\n",
      "  warnings.warn('y_pred contains classes not in y_true')\n",
      "\n",
      "INFO: 2020-09-28 13:47:55,566 - 0.5868993s taken for [get] request for the URL https://www.openml.org/api/v1/xml/task/list/type/1/limit/10000/offset/11/status/active/number_missing_values/0\n",
      "INFO: 2020-09-28 13:47:55,918 - Starting [get] request for the URL https://www.openml.org/api/v1/xml/estimationprocedure/list\n",
      "INFO: 2020-09-28 13:47:56,064 - 0.1459703s taken for [get] request for the URL https://www.openml.org/api/v1/xml/estimationprocedure/list\n",
      "INFO: 2020-09-28 13:47:56,161 - pickle load data jEdit_4.2_4.3\n",
      "INFO: 2020-09-28 13:47:56,169 - Promises for single cv: 10\n",
      "INFO: 2020-09-28 13:47:56,170 - 21 promises submitted to pool (('logreg', None))\n",
      "INFO: 2020-09-28 13:47:56,171 - Starting [get] request for the URL https://www.openml.org/api/v1/xml/task/list/type/1/limit/10000/offset/21/status/active/number_missing_values/0\n",
      "WARNING: 2020-09-28 13:47:56,189 - /home/maximl/.conda/envs/ml/lib/python3.8/site-packages/sklearn/metrics/_classification.py:1814: UserWarning: y_pred contains classes not in y_true\n",
      "  warnings.warn('y_pred contains classes not in y_true')\n",
      "\n",
      "WARNING: 2020-09-28 13:47:56,191 - /home/maximl/.conda/envs/ml/lib/python3.8/site-packages/sklearn/metrics/_classification.py:1814: UserWarning: y_pred contains classes not in y_true\n",
      "  warnings.warn('y_pred contains classes not in y_true')\n",
      "\n",
      "WARNING: 2020-09-28 13:47:56,192 - /home/maximl/.conda/envs/ml/lib/python3.8/site-packages/sklearn/metrics/_classification.py:1814: UserWarning: y_pred contains classes not in y_true\n",
      "  warnings.warn('y_pred contains classes not in y_true')\n",
      "\n",
      "WARNING: 2020-09-28 13:47:56,196 - /home/maximl/.conda/envs/ml/lib/python3.8/site-packages/sklearn/metrics/_classification.py:1814: UserWarning: y_pred contains classes not in y_true\n",
      "  warnings.warn('y_pred contains classes not in y_true')\n",
      "\n",
      "WARNING: 2020-09-28 13:47:56,198 - /home/maximl/.conda/envs/ml/lib/python3.8/site-packages/sklearn/metrics/_classification.py:1814: UserWarning: y_pred contains classes not in y_true\n",
      "  warnings.warn('y_pred contains classes not in y_true')\n",
      "\n",
      "WARNING: 2020-09-28 13:47:56,205 - /home/maximl/.conda/envs/ml/lib/python3.8/site-packages/sklearn/metrics/_classification.py:1814: UserWarning: y_pred contains classes not in y_true\n",
      "  warnings.warn('y_pred contains classes not in y_true')\n",
      "\n",
      "WARNING: 2020-09-28 13:47:56,243 - /home/maximl/.conda/envs/ml/lib/python3.8/site-packages/sklearn/metrics/_classification.py:1814: UserWarning: y_pred contains classes not in y_true\n",
      "  warnings.warn('y_pred contains classes not in y_true')\n",
      "\n",
      "WARNING: 2020-09-28 13:47:56,244 - /home/maximl/.conda/envs/ml/lib/python3.8/site-packages/sklearn/metrics/_classification.py:1814: UserWarning: y_pred contains classes not in y_true\n",
      "  warnings.warn('y_pred contains classes not in y_true')\n",
      "\n",
      "WARNING: 2020-09-28 13:47:56,251 - /home/maximl/.conda/envs/ml/lib/python3.8/site-packages/sklearn/metrics/_classification.py:1814: UserWarning: y_pred contains classes not in y_true\n",
      "  warnings.warn('y_pred contains classes not in y_true')\n",
      "\n",
      "WARNING: 2020-09-28 13:47:56,256 - /home/maximl/.conda/envs/ml/lib/python3.8/site-packages/sklearn/metrics/_classification.py:1814: UserWarning: y_pred contains classes not in y_true\n",
      "  warnings.warn('y_pred contains classes not in y_true')\n",
      "\n",
      "INFO: 2020-09-28 13:47:56,713 - 0.5421026s taken for [get] request for the URL https://www.openml.org/api/v1/xml/task/list/type/1/limit/10000/offset/21/status/active/number_missing_values/0\n",
      "INFO: 2020-09-28 13:47:57,091 - Starting [get] request for the URL https://www.openml.org/api/v1/xml/estimationprocedure/list\n",
      "INFO: 2020-09-28 13:47:57,284 - 0.1930690s taken for [get] request for the URL https://www.openml.org/api/v1/xml/estimationprocedure/list\n",
      "INFO: 2020-09-28 13:47:57,395 - pickle load data molecular-biology_promoters\n",
      "INFO: 2020-09-28 13:47:57,405 - Going to remove the following attributes: ['instance']\n",
      "INFO: 2020-09-28 13:47:57,492 - Promises for single cv: 10\n",
      "INFO: 2020-09-28 13:47:57,492 - 31 promises submitted to pool (('nb', None))\n",
      "INFO: 2020-09-28 13:47:57,493 - Starting [get] request for the URL https://www.openml.org/api/v1/xml/task/list/type/1/limit/10000/offset/31/status/active/number_missing_values/0\n",
      "WARNING: 2020-09-28 13:47:57,496 - /home/maximl/.conda/envs/ml/lib/python3.8/site-packages/sklearn/metrics/_classification.py:1814: UserWarning: y_pred contains classes not in y_true\n",
      "  warnings.warn('y_pred contains classes not in y_true')\n",
      "\n",
      "WARNING: 2020-09-28 13:47:57,497 - /home/maximl/.conda/envs/ml/lib/python3.8/site-packages/sklearn/metrics/_classification.py:1814: UserWarning: y_pred contains classes not in y_true\n",
      "  warnings.warn('y_pred contains classes not in y_true')\n",
      "\n",
      "WARNING: 2020-09-28 13:47:57,498 - /home/maximl/.conda/envs/ml/lib/python3.8/site-packages/sklearn/metrics/_classification.py:1814: UserWarning: y_pred contains classes not in y_true\n",
      "  warnings.warn('y_pred contains classes not in y_true')\n",
      "\n",
      "WARNING: 2020-09-28 13:47:57,509 - /home/maximl/.conda/envs/ml/lib/python3.8/site-packages/sklearn/metrics/_classification.py:1814: UserWarning: y_pred contains classes not in y_true\n",
      "  warnings.warn('y_pred contains classes not in y_true')\n",
      "\n",
      "WARNING: 2020-09-28 13:47:57,514 - /home/maximl/.conda/envs/ml/lib/python3.8/site-packages/sklearn/metrics/_classification.py:1814: UserWarning: y_pred contains classes not in y_true\n",
      "  warnings.warn('y_pred contains classes not in y_true')\n",
      "\n",
      "INFO: 2020-09-28 13:47:58,068 - 0.5739093s taken for [get] request for the URL https://www.openml.org/api/v1/xml/task/list/type/1/limit/10000/offset/31/status/active/number_missing_values/0\n",
      "INFO: 2020-09-28 13:47:58,410 - Starting [get] request for the URL https://www.openml.org/api/v1/xml/estimationprocedure/list\n",
      "INFO: 2020-09-28 13:47:58,569 - 0.1581993s taken for [get] request for the URL https://www.openml.org/api/v1/xml/estimationprocedure/list\n",
      "INFO: 2020-09-28 13:47:58,726 - pickle load data analcatdata_lawsuit\n",
      "INFO: 2020-09-28 13:47:58,732 - Promises for single cv: 1\n",
      "INFO: 2020-09-28 13:47:58,732 - 32 promises submitted to pool (('mlp', None))\n",
      "INFO: 2020-09-28 13:47:58,733 - Starting [get] request for the URL https://www.openml.org/api/v1/xml/task/list/type/1/limit/10000/offset/32/status/active/number_missing_values/0\n",
      "INFO: 2020-09-28 13:47:59,309 - 0.5748355s taken for [get] request for the URL https://www.openml.org/api/v1/xml/task/list/type/1/limit/10000/offset/32/status/active/number_missing_values/0\n",
      "WARNING: 2020-09-28 13:47:59,667 - /home/maximl/.conda/envs/ml/lib/python3.8/site-packages/sklearn/metrics/_classification.py:1814: UserWarning: y_pred contains classes not in y_true\n",
      "  warnings.warn('y_pred contains classes not in y_true')\n",
      "\n",
      "INFO: 2020-09-28 13:47:59,956 - Starting [get] request for the URL https://www.openml.org/api/v1/xml/estimationprocedure/list\n",
      "INFO: 2020-09-28 13:48:00,098 - 0.1410599s taken for [get] request for the URL https://www.openml.org/api/v1/xml/estimationprocedure/list\n",
      "INFO: 2020-09-28 13:48:00,208 - pickle load data fri_c4_500_25\n",
      "INFO: 2020-09-28 13:48:00,219 - Promises for single cv: 10\n",
      "INFO: 2020-09-28 13:48:00,220 - 42 promises submitted to pool (('adaboost', None))\n",
      "INFO: 2020-09-28 13:48:00,221 - Starting [get] request for the URL https://www.openml.org/api/v1/xml/task/list/type/1/limit/10000/offset/42/status/active/number_missing_values/0\n",
      "INFO: 2020-09-28 13:48:00,849 - 0.6277130s taken for [get] request for the URL https://www.openml.org/api/v1/xml/task/list/type/1/limit/10000/offset/42/status/active/number_missing_values/0\n",
      "WARNING: 2020-09-28 13:48:01,499 - /home/maximl/.conda/envs/ml/lib/python3.8/site-packages/sklearn/metrics/_classification.py:1814: UserWarning: y_pred contains classes not in y_true\n",
      "  warnings.warn('y_pred contains classes not in y_true')\n",
      "\n",
      "WARNING: 2020-09-28 13:48:01,540 - /home/maximl/.conda/envs/ml/lib/python3.8/site-packages/sklearn/metrics/_classification.py:1814: UserWarning: y_pred contains classes not in y_true\n",
      "  warnings.warn('y_pred contains classes not in y_true')\n",
      "\n",
      "WARNING: 2020-09-28 13:48:01,514 - /home/maximl/.conda/envs/ml/lib/python3.8/site-packages/sklearn/metrics/_classification.py:1814: UserWarning: y_pred contains classes not in y_true\n",
      "  warnings.warn('y_pred contains classes not in y_true')\n",
      "\n",
      "INFO: 2020-09-28 13:48:01,680 - Starting [get] request for the URL https://www.openml.org/api/v1/xml/estimationprocedure/list\n",
      "WARNING: 2020-09-28 13:48:01,769 - /home/maximl/.conda/envs/ml/lib/python3.8/site-packages/sklearn/metrics/_classification.py:1814: UserWarning: y_pred contains classes not in y_true\n",
      "  warnings.warn('y_pred contains classes not in y_true')\n",
      "\n",
      "INFO: 2020-09-28 13:48:01,814 - 0.1328430s taken for [get] request for the URL https://www.openml.org/api/v1/xml/estimationprocedure/list\n",
      "INFO: 2020-09-28 13:48:01,909 - pickle load data pc1_req\n",
      "INFO: 2020-09-28 13:48:01,920 - Promises for single cv: 10\n",
      "INFO: 2020-09-28 13:48:01,921 - 52 promises submitted to pool (('dectree', None))\n",
      "INFO: 2020-09-28 13:48:01,921 - 52 promises submitted to pool\n",
      "INFO: 2020-09-28 13:48:01,922 - Finished promises: 1/52 (1.92%)\n",
      "WARNING: 2020-09-28 13:48:01,923 - /home/maximl/.conda/envs/ml/lib/python3.8/site-packages/sklearn/metrics/_classification.py:1814: UserWarning: y_pred contains classes not in y_true\n",
      "  warnings.warn('y_pred contains classes not in y_true')\n",
      "\n",
      "WARNING: 2020-09-28 13:48:01,924 - /home/maximl/.conda/envs/ml/lib/python3.8/site-packages/sklearn/metrics/_classification.py:1814: UserWarning: y_pred contains classes not in y_true\n",
      "  warnings.warn('y_pred contains classes not in y_true')\n",
      "\n",
      "INFO: 2020-09-28 13:48:01,927 - Finished promises: 2/52 (3.85%)\n",
      "INFO: 2020-09-28 13:48:01,933 - Finished promises: 3/52 (5.77%)\n",
      "INFO: 2020-09-28 13:48:01,939 - Finished promises: 4/52 (7.69%)\n",
      "INFO: 2020-09-28 13:48:01,944 - Finished promises: 5/52 (9.62%)\n",
      "WARNING: 2020-09-28 13:48:01,946 - /home/maximl/.conda/envs/ml/lib/python3.8/site-packages/sklearn/metrics/_classification.py:1814: UserWarning: y_pred contains classes not in y_true\n",
      "  warnings.warn('y_pred contains classes not in y_true')\n",
      "\n",
      "INFO: 2020-09-28 13:48:01,950 - Finished promises: 6/52 (11.54%)\n",
      "INFO: 2020-09-28 13:48:01,955 - Finished promises: 7/52 (13.46%)\n",
      "INFO: 2020-09-28 13:48:01,958 - Finished promises: 8/52 (15.38%)\n",
      "INFO: 2020-09-28 13:48:01,961 - Finished promises: 9/52 (17.31%)\n",
      "INFO: 2020-09-28 13:48:01,966 - Finished promises: 10/52 (19.23%)\n",
      "WARNING: 2020-09-28 13:48:01,968 - /home/maximl/.conda/envs/ml/lib/python3.8/site-packages/sklearn/metrics/_classification.py:1814: UserWarning: y_pred contains classes not in y_true\n",
      "  warnings.warn('y_pred contains classes not in y_true')\n",
      "\n",
      "INFO: 2020-09-28 13:48:01,971 - Finished promises: 11/52 (21.15%)\n",
      "INFO: 2020-09-28 13:48:01,974 - Finished promises: 12/52 (23.08%)\n",
      "INFO: 2020-09-28 13:48:01,978 - Finished promises: 13/52 (25.00%)\n",
      "INFO: 2020-09-28 13:48:01,982 - Finished promises: 14/52 (26.92%)\n",
      "INFO: 2020-09-28 13:48:01,986 - Finished promises: 15/52 (28.85%)\n",
      "WARNING: 2020-09-28 13:48:01,986 - /home/maximl/.conda/envs/ml/lib/python3.8/site-packages/sklearn/metrics/_classification.py:1814: UserWarning: y_pred contains classes not in y_true\n",
      "  warnings.warn('y_pred contains classes not in y_true')\n",
      "\n",
      "INFO: 2020-09-28 13:48:01,992 - Finished promises: 16/52 (30.77%)\n",
      "INFO: 2020-09-28 13:48:01,998 - Finished promises: 17/52 (32.69%)\n",
      "WARNING: 2020-09-28 13:48:02,002 - /home/maximl/.conda/envs/ml/lib/python3.8/site-packages/sklearn/metrics/_classification.py:1814: UserWarning: y_pred contains classes not in y_true\n",
      "  warnings.warn('y_pred contains classes not in y_true')\n",
      "\n",
      "INFO: 2020-09-28 13:48:02,004 - Finished promises: 18/52 (34.62%)\n",
      "INFO: 2020-09-28 13:48:02,010 - Finished promises: 19/52 (36.54%)\n",
      "INFO: 2020-09-28 13:48:02,016 - Finished promises: 20/52 (38.46%)\n",
      "INFO: 2020-09-28 13:48:02,021 - Finished promises: 21/52 (40.38%)\n",
      "INFO: 2020-09-28 13:48:02,025 - Finished promises: 22/52 (42.31%)\n",
      "INFO: 2020-09-28 13:48:02,028 - Finished promises: 23/52 (44.23%)\n",
      "INFO: 2020-09-28 13:48:02,033 - Finished promises: 24/52 (46.15%)\n",
      "INFO: 2020-09-28 13:48:02,038 - Finished promises: 25/52 (48.08%)\n",
      "INFO: 2020-09-28 13:48:02,043 - Finished promises: 26/52 (50.00%)\n",
      "INFO: 2020-09-28 13:48:02,048 - Finished promises: 27/52 (51.92%)\n",
      "INFO: 2020-09-28 13:48:02,055 - Finished promises: 28/52 (53.85%)\n",
      "INFO: 2020-09-28 13:48:02,059 - Finished promises: 29/52 (55.77%)\n",
      "INFO: 2020-09-28 13:48:02,062 - Finished promises: 30/52 (57.69%)\n",
      "INFO: 2020-09-28 13:48:02,066 - Finished promises: 31/52 (59.62%)\n",
      "INFO: 2020-09-28 13:48:02,071 - Finished promises: 32/52 (61.54%)\n",
      "INFO: 2020-09-28 13:48:02,074 - Finished promises: 33/52 (63.46%)\n",
      "INFO: 2020-09-28 13:48:02,078 - Finished promises: 34/52 (65.38%)\n",
      "INFO: 2020-09-28 13:48:02,081 - Finished promises: 35/52 (67.31%)\n",
      "INFO: 2020-09-28 13:48:02,087 - Finished promises: 36/52 (69.23%)\n",
      "INFO: 2020-09-28 13:48:02,091 - Finished promises: 37/52 (71.15%)\n",
      "INFO: 2020-09-28 13:48:02,095 - Finished promises: 38/52 (73.08%)\n",
      "WARNING: 2020-09-28 13:48:02,789 - /home/maximl/.conda/envs/ml/lib/python3.8/site-packages/sklearn/metrics/_classification.py:1814: UserWarning: y_pred contains classes not in y_true\n",
      "  warnings.warn('y_pred contains classes not in y_true')\n",
      "\n",
      "INFO: 2020-09-28 13:48:02,822 - Finished promises: 39/52 (75.00%)\n",
      "WARNING: 2020-09-28 13:48:02,852 - /home/maximl/.conda/envs/ml/lib/python3.8/site-packages/sklearn/metrics/_classification.py:1814: UserWarning: y_pred contains classes not in y_true\n",
      "  warnings.warn('y_pred contains classes not in y_true')\n",
      "\n",
      "WARNING: 2020-09-28 13:48:02,891 - /home/maximl/.conda/envs/ml/lib/python3.8/site-packages/sklearn/metrics/_classification.py:1814: UserWarning: y_pred contains classes not in y_true\n",
      "  warnings.warn('y_pred contains classes not in y_true')\n",
      "\n",
      "INFO: 2020-09-28 13:48:02,914 - Finished promises: 40/52 (76.92%)\n",
      "INFO: 2020-09-28 13:48:02,917 - Finished promises: 41/52 (78.85%)\n",
      "INFO: 2020-09-28 13:48:02,920 - Finished promises: 42/52 (80.77%)\n",
      "INFO: 2020-09-28 13:48:02,923 - Finished promises: 43/52 (82.69%)\n",
      "INFO: 2020-09-28 13:48:02,926 - Finished promises: 44/52 (84.62%)\n",
      "INFO: 2020-09-28 13:48:02,928 - Finished promises: 45/52 (86.54%)\n",
      "INFO: 2020-09-28 13:48:02,931 - Finished promises: 46/52 (88.46%)\n",
      "INFO: 2020-09-28 13:48:02,934 - Finished promises: 47/52 (90.38%)\n",
      "INFO: 2020-09-28 13:48:02,937 - Finished promises: 48/52 (92.31%)\n",
      "INFO: 2020-09-28 13:48:02,939 - Finished promises: 49/52 (94.23%)\n",
      "INFO: 2020-09-28 13:48:02,942 - Finished promises: 50/52 (96.15%)\n",
      "INFO: 2020-09-28 13:48:02,945 - Finished promises: 51/52 (98.08%)\n",
      "INFO: 2020-09-28 13:48:02,947 - Finished promises: 52/52 (100.00%)\n"
     ]
    }
   ],
   "source": [
    "with multiprocessing.Pool(processes=n_procs) as pool:\n",
    "    \n",
    "    manager = multiprocessing.Manager()\n",
    "    selected_tasks = manager.list()\n",
    "\n",
    "    start_at = 0\n",
    "\n",
    "    output_file = f\"metrics_{int(time.time())}.dat\"\n",
    "    logging.info(f\"Output to {output_file}\")\n",
    "\n",
    "    promises = []\n",
    "    counter = 0\n",
    "    \n",
    "    if type(TASKS) is int:\n",
    "        iter_tasks = [None]*TASKS\n",
    "    else:\n",
    "        iter_tasks = TASKS\n",
    "    \n",
    "    for model_id in MODELS.keys():\n",
    "        for task_id in iter_tasks:\n",
    "            tmp, counter = get_cv_metrics_for_model_and_task(model_id, task_id, pool, 1, counter, start_at, selected_tasks)\n",
    "            promises.extend(tmp)\n",
    "            logging.info(f\"{len(promises)} promises submitted to pool ({model_id, task_id})\")\n",
    "\n",
    "    logging.info(f\"{len(promises)} promises submitted to pool\")\n",
    "\n",
    "    data = []\n",
    "    for promise in promises:\n",
    "        data.append(promise.get())\n",
    "        logging.info(f\"Finished promises: {len(data)}/{len(promises)} ({len(data)/len(promises)*100:.2f}%)\")\n",
    "        df = pandas.DataFrame(data)\n",
    "        dump(df, output_file)"
   ]
  },
  {
   "cell_type": "code",
   "execution_count": 15,
   "metadata": {},
   "outputs": [],
   "source": [
    "if not is_notebook():\n",
    "    exit()"
   ]
  },
  {
   "cell_type": "markdown",
   "metadata": {},
   "source": [
    "# Analysis"
   ]
  },
  {
   "cell_type": "code",
   "execution_count": 80,
   "metadata": {},
   "outputs": [],
   "source": [
    "df = pandas.concat([\n",
    "    load(\"/home/maximl/Data/Experiment_data/results/riverrel/datasets/random_openml/metrics_1601279139.dat\"),\n",
    "    load(\"/home/maximl/Data/Experiment_data/results/riverrel/datasets/random_openml/metrics_1601279176.dat\")\n",
    "])"
   ]
  },
  {
   "cell_type": "code",
   "execution_count": 81,
   "metadata": {},
   "outputs": [],
   "source": [
    "grouped_df = df.groupby([\"model_id\", \"task_id\", \"repeat\"]).aggregate(\"mean\").drop(columns=[\"fold\"]).reset_index()"
   ]
  },
  {
   "cell_type": "code",
   "execution_count": 82,
   "metadata": {},
   "outputs": [
    {
     "data": {
      "text/html": [
       "<div>\n",
       "<style scoped>\n",
       "    .dataframe tbody tr th:only-of-type {\n",
       "        vertical-align: middle;\n",
       "    }\n",
       "\n",
       "    .dataframe tbody tr th {\n",
       "        vertical-align: top;\n",
       "    }\n",
       "\n",
       "    .dataframe thead th {\n",
       "        text-align: right;\n",
       "    }\n",
       "</style>\n",
       "<table border=\"1\" class=\"dataframe\">\n",
       "  <thead>\n",
       "    <tr style=\"text-align: right;\">\n",
       "      <th></th>\n",
       "      <th>model_id</th>\n",
       "      <th>task_id</th>\n",
       "      <th>repeat</th>\n",
       "      <th>accuracy</th>\n",
       "      <th>balanced_accuracy</th>\n",
       "      <th>f1</th>\n",
       "      <th>ece</th>\n",
       "      <th>ece_balanced</th>\n",
       "      <th>peace</th>\n",
       "      <th>class_wise_ece</th>\n",
       "      <th>class_wise_peace</th>\n",
       "    </tr>\n",
       "  </thead>\n",
       "  <tbody>\n",
       "    <tr>\n",
       "      <th>0</th>\n",
       "      <td>adaboost</td>\n",
       "      <td>3054</td>\n",
       "      <td>0</td>\n",
       "      <td>0.575758</td>\n",
       "      <td>0.456000</td>\n",
       "      <td>0.461344</td>\n",
       "      <td>0.161482</td>\n",
       "      <td>0.084419</td>\n",
       "      <td>0.163628</td>\n",
       "      <td>0.331512</td>\n",
       "      <td>0.207475</td>\n",
       "    </tr>\n",
       "    <tr>\n",
       "      <th>1</th>\n",
       "      <td>adaboost</td>\n",
       "      <td>3486</td>\n",
       "      <td>0</td>\n",
       "      <td>0.177044</td>\n",
       "      <td>0.080013</td>\n",
       "      <td>0.089499</td>\n",
       "      <td>0.151466</td>\n",
       "      <td>0.063117</td>\n",
       "      <td>0.211838</td>\n",
       "      <td>0.030934</td>\n",
       "      <td>0.042257</td>\n",
       "    </tr>\n",
       "    <tr>\n",
       "      <th>2</th>\n",
       "      <td>adaboost</td>\n",
       "      <td>3519</td>\n",
       "      <td>0</td>\n",
       "      <td>0.737968</td>\n",
       "      <td>0.293333</td>\n",
       "      <td>0.647678</td>\n",
       "      <td>0.483397</td>\n",
       "      <td>0.055690</td>\n",
       "      <td>0.473775</td>\n",
       "      <td>0.134803</td>\n",
       "      <td>0.148915</td>\n",
       "    </tr>\n",
       "    <tr>\n",
       "      <th>3</th>\n",
       "      <td>adaboost</td>\n",
       "      <td>3615</td>\n",
       "      <td>0</td>\n",
       "      <td>0.898000</td>\n",
       "      <td>0.897116</td>\n",
       "      <td>0.897748</td>\n",
       "      <td>0.410615</td>\n",
       "      <td>0.402467</td>\n",
       "      <td>0.251649</td>\n",
       "      <td>0.440358</td>\n",
       "      <td>0.275037</td>\n",
       "    </tr>\n",
       "    <tr>\n",
       "      <th>4</th>\n",
       "      <td>adaboost</td>\n",
       "      <td>3642</td>\n",
       "      <td>0</td>\n",
       "      <td>0.808000</td>\n",
       "      <td>0.806410</td>\n",
       "      <td>0.806489</td>\n",
       "      <td>0.386946</td>\n",
       "      <td>0.396879</td>\n",
       "      <td>0.215207</td>\n",
       "      <td>0.430594</td>\n",
       "      <td>0.248124</td>\n",
       "    </tr>\n",
       "    <tr>\n",
       "      <th>...</th>\n",
       "      <td>...</td>\n",
       "      <td>...</td>\n",
       "      <td>...</td>\n",
       "      <td>...</td>\n",
       "      <td>...</td>\n",
       "      <td>...</td>\n",
       "      <td>...</td>\n",
       "      <td>...</td>\n",
       "      <td>...</td>\n",
       "      <td>...</td>\n",
       "      <td>...</td>\n",
       "    </tr>\n",
       "    <tr>\n",
       "      <th>100</th>\n",
       "      <td>svm</td>\n",
       "      <td>166919</td>\n",
       "      <td>0</td>\n",
       "      <td>0.873494</td>\n",
       "      <td>0.872521</td>\n",
       "      <td>0.874441</td>\n",
       "      <td>0.089686</td>\n",
       "      <td>0.105028</td>\n",
       "      <td>0.117558</td>\n",
       "      <td>0.113789</td>\n",
       "      <td>0.123553</td>\n",
       "    </tr>\n",
       "    <tr>\n",
       "      <th>101</th>\n",
       "      <td>svm</td>\n",
       "      <td>167004</td>\n",
       "      <td>0</td>\n",
       "      <td>0.670103</td>\n",
       "      <td>0.500000</td>\n",
       "      <td>0.537737</td>\n",
       "      <td>0.327907</td>\n",
       "      <td>0.477391</td>\n",
       "      <td>0.339114</td>\n",
       "      <td>0.002474</td>\n",
       "      <td>0.009952</td>\n",
       "    </tr>\n",
       "    <tr>\n",
       "      <th>102</th>\n",
       "      <td>svm</td>\n",
       "      <td>167005</td>\n",
       "      <td>0</td>\n",
       "      <td>0.992647</td>\n",
       "      <td>0.982143</td>\n",
       "      <td>0.992597</td>\n",
       "      <td>0.021140</td>\n",
       "      <td>0.021140</td>\n",
       "      <td>0.040002</td>\n",
       "      <td>0.024709</td>\n",
       "      <td>0.056133</td>\n",
       "    </tr>\n",
       "    <tr>\n",
       "      <th>103</th>\n",
       "      <td>svm</td>\n",
       "      <td>167061</td>\n",
       "      <td>0</td>\n",
       "      <td>0.867470</td>\n",
       "      <td>0.500000</td>\n",
       "      <td>0.805908</td>\n",
       "      <td>0.112579</td>\n",
       "      <td>0.304946</td>\n",
       "      <td>0.139375</td>\n",
       "      <td>0.056290</td>\n",
       "      <td>0.069688</td>\n",
       "    </tr>\n",
       "    <tr>\n",
       "      <th>104</th>\n",
       "      <td>svm</td>\n",
       "      <td>167180</td>\n",
       "      <td>0</td>\n",
       "      <td>0.808140</td>\n",
       "      <td>0.705065</td>\n",
       "      <td>0.807140</td>\n",
       "      <td>0.077747</td>\n",
       "      <td>0.337011</td>\n",
       "      <td>0.088304</td>\n",
       "      <td>0.202363</td>\n",
       "      <td>0.154868</td>\n",
       "    </tr>\n",
       "  </tbody>\n",
       "</table>\n",
       "<p>105 rows × 11 columns</p>\n",
       "</div>"
      ],
      "text/plain": [
       "     model_id  task_id  repeat  accuracy  balanced_accuracy        f1  \\\n",
       "0    adaboost     3054       0  0.575758           0.456000  0.461344   \n",
       "1    adaboost     3486       0  0.177044           0.080013  0.089499   \n",
       "2    adaboost     3519       0  0.737968           0.293333  0.647678   \n",
       "3    adaboost     3615       0  0.898000           0.897116  0.897748   \n",
       "4    adaboost     3642       0  0.808000           0.806410  0.806489   \n",
       "..        ...      ...     ...       ...                ...       ...   \n",
       "100       svm   166919       0  0.873494           0.872521  0.874441   \n",
       "101       svm   167004       0  0.670103           0.500000  0.537737   \n",
       "102       svm   167005       0  0.992647           0.982143  0.992597   \n",
       "103       svm   167061       0  0.867470           0.500000  0.805908   \n",
       "104       svm   167180       0  0.808140           0.705065  0.807140   \n",
       "\n",
       "          ece  ece_balanced     peace  class_wise_ece  class_wise_peace  \n",
       "0    0.161482      0.084419  0.163628        0.331512          0.207475  \n",
       "1    0.151466      0.063117  0.211838        0.030934          0.042257  \n",
       "2    0.483397      0.055690  0.473775        0.134803          0.148915  \n",
       "3    0.410615      0.402467  0.251649        0.440358          0.275037  \n",
       "4    0.386946      0.396879  0.215207        0.430594          0.248124  \n",
       "..        ...           ...       ...             ...               ...  \n",
       "100  0.089686      0.105028  0.117558        0.113789          0.123553  \n",
       "101  0.327907      0.477391  0.339114        0.002474          0.009952  \n",
       "102  0.021140      0.021140  0.040002        0.024709          0.056133  \n",
       "103  0.112579      0.304946  0.139375        0.056290          0.069688  \n",
       "104  0.077747      0.337011  0.088304        0.202363          0.154868  \n",
       "\n",
       "[105 rows x 11 columns]"
      ]
     },
     "execution_count": 82,
     "metadata": {},
     "output_type": "execute_result"
    }
   ],
   "source": [
    "grouped_df"
   ]
  },
  {
   "cell_type": "code",
   "execution_count": 83,
   "metadata": {},
   "outputs": [],
   "source": [
    "def get_longform(df, cols=None, subject_cols=None):\n",
    "    dfs = []\n",
    "    \n",
    "    if cols is None:\n",
    "        cols = df.columns\n",
    "    \n",
    "    for col in cols:\n",
    "        tmp_df = pandas.DataFrame(dict(        \n",
    "            value=df[col], \n",
    "            metric=col,   \n",
    "        ))\n",
    "        for col2 in set(df.columns) - set(cols):\n",
    "            tmp_df[col2] = df[col2]\n",
    "            \n",
    "        if subject_cols is not None:\n",
    "            tmp_df[\"subject\"] = df[subject_cols].apply(lambda row: '_'.join(row.values.astype(str)), axis=1)\n",
    "            \n",
    "        dfs.append(tmp_df)\n",
    "        \n",
    "    return pandas.concat(dfs)"
   ]
  },
  {
   "cell_type": "code",
   "execution_count": 84,
   "metadata": {},
   "outputs": [],
   "source": [
    "long_df = get_longform(grouped_df, grouped_df.columns[3:], [\"model_id\", \"task_id\"])"
   ]
  },
  {
   "cell_type": "code",
   "execution_count": 85,
   "metadata": {},
   "outputs": [
    {
     "data": {
      "text/plain": [
       "(840, 6)"
      ]
     },
     "execution_count": 85,
     "metadata": {},
     "output_type": "execute_result"
    }
   ],
   "source": [
    "long_df.shape"
   ]
  },
  {
   "cell_type": "code",
   "execution_count": 67,
   "metadata": {},
   "outputs": [
    {
     "data": {
      "text/html": [
       "<div>\n",
       "<style scoped>\n",
       "    .dataframe tbody tr th:only-of-type {\n",
       "        vertical-align: middle;\n",
       "    }\n",
       "\n",
       "    .dataframe tbody tr th {\n",
       "        vertical-align: top;\n",
       "    }\n",
       "\n",
       "    .dataframe thead th {\n",
       "        text-align: right;\n",
       "    }\n",
       "</style>\n",
       "<table border=\"1\" class=\"dataframe\">\n",
       "  <thead>\n",
       "    <tr style=\"text-align: right;\">\n",
       "      <th></th>\n",
       "      <th>value</th>\n",
       "      <th>metric</th>\n",
       "      <th>model_id</th>\n",
       "      <th>task_id</th>\n",
       "      <th>repeat</th>\n",
       "      <th>subject</th>\n",
       "    </tr>\n",
       "  </thead>\n",
       "  <tbody>\n",
       "    <tr>\n",
       "      <th>0</th>\n",
       "      <td>0.575758</td>\n",
       "      <td>accuracy</td>\n",
       "      <td>adaboost</td>\n",
       "      <td>3054</td>\n",
       "      <td>0</td>\n",
       "      <td>adaboost_3054</td>\n",
       "    </tr>\n",
       "    <tr>\n",
       "      <th>1</th>\n",
       "      <td>0.177044</td>\n",
       "      <td>accuracy</td>\n",
       "      <td>adaboost</td>\n",
       "      <td>3486</td>\n",
       "      <td>0</td>\n",
       "      <td>adaboost_3486</td>\n",
       "    </tr>\n",
       "    <tr>\n",
       "      <th>2</th>\n",
       "      <td>0.737968</td>\n",
       "      <td>accuracy</td>\n",
       "      <td>adaboost</td>\n",
       "      <td>3519</td>\n",
       "      <td>0</td>\n",
       "      <td>adaboost_3519</td>\n",
       "    </tr>\n",
       "    <tr>\n",
       "      <th>3</th>\n",
       "      <td>0.898000</td>\n",
       "      <td>accuracy</td>\n",
       "      <td>adaboost</td>\n",
       "      <td>3615</td>\n",
       "      <td>0</td>\n",
       "      <td>adaboost_3615</td>\n",
       "    </tr>\n",
       "    <tr>\n",
       "      <th>4</th>\n",
       "      <td>0.808000</td>\n",
       "      <td>accuracy</td>\n",
       "      <td>adaboost</td>\n",
       "      <td>3642</td>\n",
       "      <td>0</td>\n",
       "      <td>adaboost_3642</td>\n",
       "    </tr>\n",
       "  </tbody>\n",
       "</table>\n",
       "</div>"
      ],
      "text/plain": [
       "      value    metric  model_id  task_id  repeat        subject\n",
       "0  0.575758  accuracy  adaboost     3054       0  adaboost_3054\n",
       "1  0.177044  accuracy  adaboost     3486       0  adaboost_3486\n",
       "2  0.737968  accuracy  adaboost     3519       0  adaboost_3519\n",
       "3  0.898000  accuracy  adaboost     3615       0  adaboost_3615\n",
       "4  0.808000  accuracy  adaboost     3642       0  adaboost_3642"
      ]
     },
     "execution_count": 67,
     "metadata": {},
     "output_type": "execute_result"
    }
   ],
   "source": [
    "long_df.head()"
   ]
  },
  {
   "cell_type": "code",
   "execution_count": 68,
   "metadata": {},
   "outputs": [
    {
     "data": {
      "text/plain": [
       "<seaborn.axisgrid.FacetGrid at 0x7fc07a051490>"
      ]
     },
     "execution_count": 68,
     "metadata": {},
     "output_type": "execute_result"
    },
    {
     "data": {
      "image/png": "[encoded data removed]",
      "text/plain": [
       "<Figure size 1080x360 with 3 Axes>"
      ]
     },
     "metadata": {
      "needs_background": "light"
     },
     "output_type": "display_data"
    }
   ],
   "source": [
    "seaborn.catplot(data=long_df[long_df[\"metric\"].isin([\"accuracy\", \"balanced_accuracy\", \"f1\"])], x=\"model_id\", y=\"value\", col=\"metric\", kind=\"box\")"
   ]
  },
  {
   "cell_type": "code",
   "execution_count": 71,
   "metadata": {},
   "outputs": [
    {
     "data": {
      "text/plain": [
       "<seaborn.axisgrid.FacetGrid at 0x7fc07aabdd60>"
      ]
     },
     "execution_count": 71,
     "metadata": {},
     "output_type": "execute_result"
    },
    {
     "data": {
      "image/png": "[encoded data removed]",
      "text/plain": [
       "<Figure size 464.5x360 with 1 Axes>"
      ]
     },
     "metadata": {
      "needs_background": "light"
     },
     "output_type": "display_data"
    }
   ],
   "source": [
    "seaborn.displot(data=long_df[long_df[\"metric\"].isin([\"ece\", \"ece_balanced\", \"peace\"])], x=\"value\", hue=\"metric\", rug=True, kind=\"kde\")"
   ]
  },
  {
   "cell_type": "code",
   "execution_count": 70,
   "metadata": {},
   "outputs": [
    {
     "data": {
      "text/plain": [
       "<matplotlib.axes._subplots.AxesSubplot at 0x7fc07aaa0370>"
      ]
     },
     "execution_count": 70,
     "metadata": {},
     "output_type": "execute_result"
    },
    {
     "data": {
      "image/png": "[encoded data removed]",
      "text/plain": [
       "<Figure size 432x288 with 1 Axes>"
      ]
     },
     "metadata": {
      "needs_background": "light"
     },
     "output_type": "display_data"
    }
   ],
   "source": [
    "seaborn.boxenplot(data=long_df[long_df[\"metric\"].isin([\"ece\", \"ece_balanced\", \"peace\"])], y=\"value\", x=\"metric\")"
   ]
  },
  {
   "cell_type": "code",
   "execution_count": 86,
   "metadata": {},
   "outputs": [],
   "source": [
    "long_df[\"metric_ord\"] = long_df[\"metric\"].map(lambda a: numpy.unique(long_df[\"metric\"]).tolist().index(a))"
   ]
  },
  {
   "cell_type": "code",
   "execution_count": 91,
   "metadata": {},
   "outputs": [
    {
     "data": {
      "text/plain": [
       "0.002863142243173724"
      ]
     },
     "execution_count": 91,
     "metadata": {},
     "output_type": "execute_result"
    }
   ],
   "source": [
    "(grouped_df[\"peace\"] - grouped_df[\"ece\"]).mean()"
   ]
  },
  {
   "cell_type": "markdown",
   "metadata": {},
   "source": [
    "## Statistical testing"
   ]
  },
  {
   "cell_type": "code",
   "execution_count": 92,
   "metadata": {},
   "outputs": [],
   "source": [
    "import scipy.stats\n",
    "import scikit_posthocs as sp"
   ]
  },
  {
   "cell_type": "markdown",
   "metadata": {},
   "source": [
    "### Pooled datasets + model"
   ]
  },
  {
   "cell_type": "code",
   "execution_count": 93,
   "metadata": {},
   "outputs": [
    {
     "data": {
      "text/plain": [
       "FriedmanchisquareResult(statistic=0.6666666666666643, pvalue=0.71653131057379)"
      ]
     },
     "execution_count": 93,
     "metadata": {},
     "output_type": "execute_result"
    }
   ],
   "source": [
    "data = grouped_df.loc[grouped_df[\"repeat\"] == 0, [\"ece\", \"ece_balanced\", \"peace\"]].values\n",
    "scipy.stats.friedmanchisquare(data[0], data[1], data[2])"
   ]
  },
  {
   "cell_type": "code",
   "execution_count": 43,
   "metadata": {},
   "outputs": [
    {
     "data": {
      "text/html": [
       "<div>\n",
       "<style scoped>\n",
       "    .dataframe tbody tr th:only-of-type {\n",
       "        vertical-align: middle;\n",
       "    }\n",
       "\n",
       "    .dataframe tbody tr th {\n",
       "        vertical-align: top;\n",
       "    }\n",
       "\n",
       "    .dataframe thead th {\n",
       "        text-align: right;\n",
       "    }\n",
       "</style>\n",
       "<table border=\"1\" class=\"dataframe\">\n",
       "  <thead>\n",
       "    <tr style=\"text-align: right;\">\n",
       "      <th></th>\n",
       "      <th>ece</th>\n",
       "      <th>ece_balanced</th>\n",
       "      <th>peace</th>\n",
       "    </tr>\n",
       "  </thead>\n",
       "  <tbody>\n",
       "    <tr>\n",
       "      <th>ece</th>\n",
       "      <td>-1.000000</td>\n",
       "      <td>0.653066</td>\n",
       "      <td>1.0</td>\n",
       "    </tr>\n",
       "    <tr>\n",
       "      <th>ece_balanced</th>\n",
       "      <td>0.653066</td>\n",
       "      <td>-1.000000</td>\n",
       "      <td>1.0</td>\n",
       "    </tr>\n",
       "    <tr>\n",
       "      <th>peace</th>\n",
       "      <td>1.000000</td>\n",
       "      <td>1.000000</td>\n",
       "      <td>-1.0</td>\n",
       "    </tr>\n",
       "  </tbody>\n",
       "</table>\n",
       "</div>"
      ],
      "text/plain": [
       "                   ece  ece_balanced  peace\n",
       "ece          -1.000000      0.653066    1.0\n",
       "ece_balanced  0.653066     -1.000000    1.0\n",
       "peace         1.000000      1.000000   -1.0"
      ]
     },
     "execution_count": 43,
     "metadata": {},
     "output_type": "execute_result"
    }
   ],
   "source": [
    "long_data = get_longform(grouped_df.loc[grouped_df[\"repeat\"] == 0, [\"ece\", \"ece_balanced\", \"peace\"]])\n",
    "sp.posthoc_conover(long_data, val_col=\"value\", group_col=\"metric\", p_adjust=\"holm\")"
   ]
  },
  {
   "cell_type": "markdown",
   "metadata": {},
   "source": [
    "### Per model"
   ]
  },
  {
   "cell_type": "code",
   "execution_count": 44,
   "metadata": {},
   "outputs": [
    {
     "name": "stdout",
     "output_type": "stream",
     "text": [
      "adaboost\n",
      "FriedmanchisquareResult(statistic=1.4000000000000057, pvalue=0.496585303791408)\n",
      "dectree\n",
      "FriedmanchisquareResult(statistic=9.599999999999994, pvalue=0.008229747049020053)\n",
      "                   ece  ece_balanced     peace\n",
      "ece          -1.000000      0.973899  0.973899\n",
      "ece_balanced  0.973899     -1.000000  0.973899\n",
      "peace         0.973899      0.973899 -1.000000\n",
      "logreg\n",
      "FriedmanchisquareResult(statistic=9.69230769230771, pvalue=0.007858544670151634)\n",
      "                   ece  ece_balanced     peace\n",
      "ece          -1.000000           1.0  0.585666\n",
      "ece_balanced  1.000000          -1.0  1.000000\n",
      "peace         0.585666           1.0 -1.000000\n",
      "mlp\n",
      "FriedmanchisquareResult(statistic=0.6000000000000085, pvalue=0.7408182206817147)\n",
      "nb\n",
      "FriedmanchisquareResult(statistic=1.4000000000000057, pvalue=0.496585303791408)\n",
      "rf\n",
      "FriedmanchisquareResult(statistic=0.46153846153846445, pvalue=0.7939226578179501)\n",
      "svm\n",
      "FriedmanchisquareResult(statistic=4.974358974358983, pvalue=0.0831441452956409)\n"
     ]
    }
   ],
   "source": [
    "for idx, model_df in grouped_df.groupby(\"model_id\"):\n",
    "    data = model_df.loc[:, [\"ece\", \"ece_balanced\", \"peace\"]]\n",
    "    test = scipy.stats.friedmanchisquare(data.iloc[:, 0], data.iloc[:, 1], data.iloc[:, 2])\n",
    "    print(idx)\n",
    "    print(test)\n",
    "    if test.pvalue < 0.05:\n",
    "        long_data = get_longform(data)\n",
    "        print(sp.posthoc_conover(long_data, val_col=\"value\", group_col=\"metric\", p_adjust=\"holm\"))"
   ]
  },
  {
   "cell_type": "code",
   "execution_count": 45,
   "metadata": {},
   "outputs": [
    {
     "data": {
      "text/plain": [
       "<seaborn.axisgrid.FacetGrid at 0x7fc0cc8bb250>"
      ]
     },
     "execution_count": 45,
     "metadata": {},
     "output_type": "execute_result"
    },
    {
     "data": {
      "image/png": "[encoded data removed]",
      "text/plain": [
       "<Figure size 2520x360 with 7 Axes>"
      ]
     },
     "metadata": {
      "needs_background": "light"
     },
     "output_type": "display_data"
    }
   ],
   "source": [
    "seaborn.catplot(data=long_df[long_df[\"metric\"].isin([\"ece\", \"ece_balanced\", \"peace\"])], x=\"metric\", y=\"value\", col=\"model_id\", kind=\"box\")"
   ]
  },
  {
   "cell_type": "raw",
   "metadata": {},
   "source": []
  }
 ],
 "metadata": {
  "kernelspec": {
   "display_name": "Python 3",
   "language": "python",
   "name": "python3"
  },
  "language_info": {
   "codemirror_mode": {
    "name": "ipython",
    "version": 3
   },
   "file_extension": ".py",
   "mimetype": "text/x-python",
   "name": "python",
   "nbconvert_exporter": "python",
   "pygments_lexer": "ipython3",
   "version": "3.8.2"
  }
 },
 "nbformat": 4,
 "nbformat_minor": 4
}
