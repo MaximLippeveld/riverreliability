{
 "cells": [
  {
   "cell_type": "code",
   "execution_count": 15,
   "metadata": {},
   "outputs": [
    {
     "name": "stdout",
     "output_type": "stream",
     "text": [
      "[NbConvertApp] Converting notebook compare_metrics_over_datasets.ipynb to python\n",
      "[NbConvertApp] Writing 9661 bytes to compare_metrics_over_datasets.py\n"
     ]
    }
   ],
   "source": [
    "# noscript\n",
    "!jupyter nbconvert --RegexRemovePreprocessor.patterns=\"['# ?noscript']\" --TemplateExporter.exclude_markdown=True --to python compare_metrics_over_datasets.ipynb"
   ]
  },
  {
   "cell_type": "code",
   "execution_count": 2,
   "metadata": {},
   "outputs": [],
   "source": [
    "import pandas\n",
    "import numpy\n",
    "import seaborn\n",
    "import matplotlib.pyplot as plt\n",
    "\n",
    "import openml\n",
    "\n",
    "import sklearn.metrics\n",
    "import sklearn.ensemble\n",
    "import sklearn.svm\n",
    "import sklearn.preprocessing\n",
    "import sklearn.model_selection\n",
    "import sklearn.base\n",
    "import sklearn.utils\n",
    "import sklearn.linear_model\n",
    "import sklearn.naive_bayes\n",
    "import sklearn.neural_network\n",
    "import sklearn.tree\n",
    "\n",
    "from ridgereliability import plots, metrics\n",
    "\n",
    "import os\n",
    "import multiprocessing\n",
    "import logging\n",
    "import time\n",
    "from joblib import load, dump"
   ]
  },
  {
   "cell_type": "code",
   "execution_count": 3,
   "metadata": {},
   "outputs": [],
   "source": [
    "def is_notebook():\n",
    "    try:\n",
    "        from IPython import get_ipython\n",
    "        return get_ipython().__class__.__name__ == 'ZMQInteractiveShell'\n",
    "    except ModuleNotFoundError:\n",
    "        return False"
   ]
  },
  {
   "cell_type": "code",
   "execution_count": 4,
   "metadata": {},
   "outputs": [],
   "source": [
    "if is_notebook():\n",
    "    n_procs = multiprocessing.cpu_count()//2\n",
    "    random_tasks = 2\n",
    "else:\n",
    "    import argparse\n",
    "    parser = argparse.ArgumentParser()\n",
    "    parser.add_argument(\"--n-processes\", type=int, required=True)\n",
    "    parser.add_argument(\"--random-tasks\", type=int, default=0)\n",
    "    args = parser.parse_args()\n",
    "    n_procs = args.n_processes\n",
    "    random_tasks = args.random_tasks"
   ]
  },
  {
   "cell_type": "code",
   "execution_count": 5,
   "metadata": {},
   "outputs": [],
   "source": [
    "logging.basicConfig(level=logging.INFO, format='%(levelname)s: %(asctime)s - %(message)s')\n",
    "logging.captureWarnings(True)"
   ]
  },
  {
   "cell_type": "code",
   "execution_count": 6,
   "metadata": {},
   "outputs": [],
   "source": [
    "numpy.random.seed(42)"
   ]
  },
  {
   "cell_type": "markdown",
   "metadata": {},
   "source": [
    "# Compare metrics over datasets\n",
    "\n",
    "In this notebook we collect calibration estimates for several models and datasets. The estimates are computed with the Expected Calibration Error (ECE), Balanced-ECE, and Posterior Expected Accuracy-based Calibration Error (PEACE).\n",
    "\n",
    "Tested models:\n",
    "- Random Forest\n",
    "- SVM\n",
    "- Logistic Regression\n",
    "- Gaussian Naive Bayes\n",
    "- MLP\n",
    "- AdaBoost\n",
    "- Decision Tree\n",
    "\n",
    "Tested datasets (from Open ML):\n",
    "- [eeg-eye-state](https://www.openml.org/d/1471), task [9983](https://www.openml.org/t/9983)\n",
    "- [Phoneme](https://www.openml.org/d/1489), task [9952](https://www.openml.org/t/9952)\n",
    "- [mozilla4](https://www.openml.org/d/1046), task [3899](https://www.openml.org/t/3899)\n",
    "- [electricity](https://www.openml.org/d/151), task [219](https://www.openml.org/t/219)\n",
    "- [Magic Telescope](https://www.openml.org/d/1120), task [3954](https://www.openml.org/t/3954)\n",
    "- [artificial characters](https://www.openml.org/d/1459), task [14964](https://www.openml.org/t/14964)\n",
    "- [pendigits](https://www.openml.org/d/32), task [32](https://www.openml.org/t/32)\n",
    "- [letter](https://www.openml.org/d/6), task [6](https://www.openml.org/t/6)\n",
    "- [JapaneseVowels](https://www.openml.org/d/375), task [3510](https://www.openml.org/t/3510)\n",
    "- [glass](https://www.openml.org/d/41), task [40](https://www.openml.org/t/40)\n",
    "- [micro-mass](https://www.openml.org/d/1515), task [9950](https://www.openml.org/t/9950)\n",
    "- [vehicle](https://www.openml.org/d/54), task [53](https://www.openml.org/t/53)\n",
    "- [synthetic-control](https://www.openml.org/d/377), task [3512](https://www.openml.org/t/3512)\n",
    "- [mfeat-factors](https://www.openml.org/d/12), task [12](https://www.openml.org/t/12)\n",
    "- [OVA_breast](https://www.openml.org/d/1128), task [3962](https://www.openml.org/d/1128)\n",
    "- [sonar](https://www.openml.org/d/40), task [39](https://www.openml.org/t/39)\n",
    "- [visualizing_livestock](https://www.openml.org/d/685), task [3577](https://www.openml.org/t/3577)\n",
    "- [spectrometer](https://www.openml.org/d/313), task [145682](https://www.openml.org/t/145682)\n",
    "- [disclosure_z](https://www.openml.org/d/931), task [3794](https://www.openml.org/t/3794)\n",
    "- [mfeat-pixel](https://www.openml.org/d/40979), task [146824](https://www.openml.org/t/146824)"
   ]
  },
  {
   "cell_type": "markdown",
   "metadata": {},
   "source": [
    "## Datasets\n",
    "\n",
    "First of all, we need to be able to load and preprocess multiple datasets appropriately to prepare it for classification. \n",
    "To this end we implement a function that will load a dataset and classification task from OpenML."
   ]
  },
  {
   "cell_type": "code",
   "execution_count": 6,
   "metadata": {},
   "outputs": [],
   "source": [
    "def find_random_task(offset):\n",
    "    while True:\n",
    "        df = openml.tasks.list_tasks(task_type_id=1, offset=offset, output_format=\"dataframe\", size=10000, status=\"active\", number_missing_values=0)\n",
    "        if \"NumberOfInstances\" in df:\n",
    "            df = df[(df[\"NumberOfInstances\"] > 100) & (df[\"NumberOfInstances\"] < 1000)]\n",
    "            if len(df) > 0:\n",
    "                return df.sample(n=1).iloc[0][\"tid\"]"
   ]
  },
  {
   "cell_type": "code",
   "execution_count": 7,
   "metadata": {},
   "outputs": [],
   "source": [
    "if random_tasks > 0:\n",
    "    TASKS = random_tasks\n",
    "else:\n",
    "    TASKS = [9983, 9952, 3899, 219, 3954, 14964, 32, 6, 3510, 40, 9950, 53, 3512, 12, 3962, 39, 3577, 145682, 3794, 146824]"
   ]
  },
  {
   "cell_type": "code",
   "execution_count": 8,
   "metadata": {},
   "outputs": [],
   "source": [
    "def load_openml_task(task_id=None, offset=0):\n",
    "    \n",
    "    while True:\n",
    "        if task_id is None:\n",
    "            curr_id = find_random_task(offset)\n",
    "        else:\n",
    "            curr_id = task_id\n",
    "\n",
    "        try: \n",
    "            task = openml.tasks.get_task(curr_id)\n",
    "            X, y = task.get_X_and_y(\"array\")\n",
    "            X, y = sklearn.utils.indexable(X, y)\n",
    "            \n",
    "            target_type = sklearn.utils.multiclass.type_of_target(y)\n",
    "            if target_type not in [\"binary\", \"multiclass\"]:\n",
    "                continue\n",
    "\n",
    "            if hasattr(X, \"toarray\"):\n",
    "                X = X.toarray()\n",
    "            if hasattr(y, \"toarray\"):\n",
    "                y = y.toarray()\n",
    "\n",
    "            X = sklearn.preprocessing.OrdinalEncoder().fit_transform(X)\n",
    "\n",
    "            n_repeats, n_folds, n_samples = task.get_split_dimensions()\n",
    "            \n",
    "            if n_folds > 10:\n",
    "                continue\n",
    "\n",
    "            folds = numpy.full((len(X)), dtype=int, fill_value=-1)\n",
    "            for fold_idx in range(n_folds):\n",
    "                _, test_indices = task.get_train_test_split_indices(\n",
    "                    repeat=0,\n",
    "                    fold=fold_idx,\n",
    "                    sample=0,\n",
    "                )\n",
    "\n",
    "                folds[test_indices] = fold_idx\n",
    "\n",
    "            splitter = sklearn.model_selection.PredefinedSplit(folds)\n",
    "\n",
    "            return X, y, splitter, curr_id\n",
    "        except:\n",
    "            if task_id is not None:\n",
    "                raise e"
   ]
  },
  {
   "cell_type": "code",
   "execution_count": 9,
   "metadata": {},
   "outputs": [
    {
     "name": "stderr",
     "output_type": "stream",
     "text": [
      "INFO: 2020-09-25 16:12:52,016 - pickle load data phoneme\n"
     ]
    }
   ],
   "source": [
    "# noscript\n",
    "X, y, splitter, task_id = load_openml_task(9952)"
   ]
  },
  {
   "cell_type": "code",
   "execution_count": 10,
   "metadata": {},
   "outputs": [
    {
     "name": "stderr",
     "output_type": "stream",
     "text": [
      "INFO: 2020-09-25 16:12:52,129 - Starting [get] request for the URL https://www.openml.org/api/v1/xml/task/list/type/1/limit/10000/offset/0/status/active/number_missing_values/0\n",
      "INFO: 2020-09-25 16:12:52,664 - 0.5329504s taken for [get] request for the URL https://www.openml.org/api/v1/xml/task/list/type/1/limit/10000/offset/0/status/active/number_missing_values/0\n",
      "INFO: 2020-09-25 16:12:53,106 - Starting [get] request for the URL https://www.openml.org/api/v1/xml/estimationprocedure/list\n",
      "INFO: 2020-09-25 16:12:53,171 - 0.0648108s taken for [get] request for the URL https://www.openml.org/api/v1/xml/estimationprocedure/list\n",
      "INFO: 2020-09-25 16:12:53,248 - pickle load data wdbc\n"
     ]
    }
   ],
   "source": [
    "# noscript\n",
    "X, y, splitter, task_id = load_openml_task()"
   ]
  },
  {
   "cell_type": "markdown",
   "metadata": {},
   "source": [
    "## Getting calibration metrics\n",
    "\n",
    "For each dataset we fit and evaluate multiple models. We record calibration metrics (ECE, ECE-balanced, PEACE), and some performance metrics (balanced accuracy, F1-score, accuracy). To this end we implement a function that runs this procedure for one model on one OpenML task."
   ]
  },
  {
   "cell_type": "code",
   "execution_count": 11,
   "metadata": {},
   "outputs": [],
   "source": [
    "MODELS = {\n",
    "    \"rf\": sklearn.ensemble.RandomForestClassifier(),\n",
    "    \"svm\": sklearn.svm.SVC(probability=True),\n",
    "    \"logreg\": sklearn.linear_model.LogisticRegression(max_iter=1000),\n",
    "    \"nb\": sklearn.naive_bayes.GaussianNB(),\n",
    "    \"mlp\": sklearn.neural_network.MLPClassifier(max_iter=1000),\n",
    "    \"adaboost\": sklearn.ensemble.AdaBoostClassifier(n_estimators=500),\n",
    "    \"dectree\": sklearn.tree.DecisionTreeClassifier()\n",
    "}"
   ]
  },
  {
   "cell_type": "code",
   "execution_count": 12,
   "metadata": {},
   "outputs": [],
   "source": [
    "def get_fold_metrics_for_model(row, Xt, yt, Xv, yv):\n",
    "    # get and fit fresh model\n",
    "    model = sklearn.base.clone(MODELS[row[\"model_id\"]])\n",
    "    model.fit(Xt, yt)\n",
    "\n",
    "    # compute metrics on test data\n",
    "    y_probs = model.predict_proba(Xv)\n",
    "    y_probs_max = y_probs.max(axis=1)\n",
    "    y_preds = model.predict(Xv)\n",
    "    y_test = yv\n",
    "\n",
    "    bins = 15\n",
    "    row.update({\n",
    "        \"accuracy\": sklearn.metrics.accuracy_score(y_test, y_preds),\n",
    "        \"balanced_accuracy\": sklearn.metrics.balanced_accuracy_score(y_test, y_preds),\n",
    "        \"f1\": sklearn.metrics.f1_score(y_test, y_preds, average=\"weighted\"),\n",
    "        'ece': metrics.ece(y_probs_max, y_preds, y_test, bins=bins),\n",
    "        'ece_balanced': metrics.ece(y_probs_max, y_preds, y_test, balanced=True, bins=bins),\n",
    "        'peace': metrics.peace(y_probs_max, y_preds, y_test, bins=bins),\n",
    "        'class_wise_ece': metrics.class_wise_error(y_probs, y_preds, y_test, metrics.ece, bins=bins),\n",
    "        'class_wise_peace': metrics.class_wise_error(y_probs, y_preds, y_test, metrics.peace, bins=bins)\n",
    "    })\n",
    "    \n",
    "    return row"
   ]
  },
  {
   "cell_type": "code",
   "execution_count": 13,
   "metadata": {},
   "outputs": [],
   "source": [
    "def get_cv_metrics_for_model_and_task(model_id, task_id, pool, n_repeats, counter, start_at):\n",
    "    \n",
    "    X, y, splitter, task_id = load_openml_task(task_id, offset=counter) # repeated runs will use cached data\n",
    "    \n",
    "    promises = []\n",
    "    for i, (train_idx, test_idx) in enumerate(splitter.split()):\n",
    "        for j in range(n_repeats):\n",
    "            counter += 1\n",
    "            if counter < start_at:\n",
    "                continue\n",
    "            \n",
    "            row = {\n",
    "                \"fold\": i,\n",
    "                \"repeat\": j,\n",
    "                \"model_id\": model_id,\n",
    "                \"task_id\": task_id,\n",
    "            }\n",
    "\n",
    "            # split data\n",
    "            Xt, yt = X[train_idx], y[train_idx]\n",
    "            Xv, yv = X[test_idx], y[test_idx]\n",
    "\n",
    "            promise = pool.apply_async(\n",
    "                get_fold_metrics_for_model,\n",
    "                (row, Xt, yt, Xv, yv)\n",
    "            )\n",
    "            promises.append(promise)\n",
    "    \n",
    "    logging.info(f\"Promises for single cv: {len(promises)}\")\n",
    "    return promises, counter"
   ]
  },
  {
   "cell_type": "markdown",
   "metadata": {},
   "source": [
    "## Data collection over all datasets and models"
   ]
  },
  {
   "cell_type": "code",
   "execution_count": 14,
   "metadata": {},
   "outputs": [
    {
     "name": "stderr",
     "output_type": "stream",
     "text": [
      "INFO: 2020-09-25 16:12:54,036 - Output to metrics_1601043174.dat\n",
      "INFO: 2020-09-25 16:12:54,046 - Starting [get] request for the URL https://www.openml.org/api/v1/xml/task/list/type/1/limit/10000/offset/0/status/active/number_missing_values/0\n",
      "INFO: 2020-09-25 16:12:54,505 - 0.4574637s taken for [get] request for the URL https://www.openml.org/api/v1/xml/task/list/type/1/limit/10000/offset/0/status/active/number_missing_values/0\n",
      "INFO: 2020-09-25 16:12:54,937 - Starting [get] request for the URL https://www.openml.org/api/v1/xml/estimationprocedure/list\n",
      "INFO: 2020-09-25 16:12:55,001 - 0.0630882s taken for [get] request for the URL https://www.openml.org/api/v1/xml/estimationprocedure/list\n",
      "INFO: 2020-09-25 16:12:55,084 - pickle load data grub-damage\n",
      "INFO: 2020-09-25 16:12:55,102 - Promises for single cv: 10\n",
      "INFO: 2020-09-25 16:12:55,103 - 10 promises submitted to pool (('rf', None))\n",
      "INFO: 2020-09-25 16:12:55,104 - Starting [get] request for the URL https://www.openml.org/api/v1/xml/task/list/type/1/limit/10000/offset/10/status/active/number_missing_values/0\n",
      "WARNING: 2020-09-25 16:12:55,286 - /home/maximl/.conda/envs/ml/lib/python3.8/site-packages/sklearn/metrics/_classification.py:1814: UserWarning: y_pred contains classes not in y_true\n",
      "  warnings.warn('y_pred contains classes not in y_true')\n",
      "\n",
      "WARNING: 2020-09-25 16:12:55,283 - /home/maximl/.conda/envs/ml/lib/python3.8/site-packages/sklearn/metrics/_classification.py:1814: UserWarning: y_pred contains classes not in y_true\n",
      "  warnings.warn('y_pred contains classes not in y_true')\n",
      "\n",
      "WARNING: 2020-09-25 16:12:55,314 - /home/maximl/.conda/envs/ml/lib/python3.8/site-packages/sklearn/metrics/_classification.py:1814: UserWarning: y_pred contains classes not in y_true\n",
      "  warnings.warn('y_pred contains classes not in y_true')\n",
      "\n",
      "WARNING: 2020-09-25 16:12:55,315 - /home/maximl/.conda/envs/ml/lib/python3.8/site-packages/sklearn/metrics/_classification.py:1814: UserWarning: y_pred contains classes not in y_true\n",
      "  warnings.warn('y_pred contains classes not in y_true')\n",
      "\n",
      "WARNING: 2020-09-25 16:12:55,310 - /home/maximl/.conda/envs/ml/lib/python3.8/site-packages/sklearn/metrics/_classification.py:1814: UserWarning: y_pred contains classes not in y_true\n",
      "  warnings.warn('y_pred contains classes not in y_true')\n",
      "\n",
      "WARNING: 2020-09-25 16:12:55,414 - /home/maximl/.conda/envs/ml/lib/python3.8/site-packages/sklearn/metrics/_classification.py:1814: UserWarning: y_pred contains classes not in y_true\n",
      "  warnings.warn('y_pred contains classes not in y_true')\n",
      "\n",
      "WARNING: 2020-09-25 16:12:55,531 - /home/maximl/.conda/envs/ml/lib/python3.8/site-packages/sklearn/metrics/_classification.py:1814: UserWarning: y_pred contains classes not in y_true\n",
      "  warnings.warn('y_pred contains classes not in y_true')\n",
      "\n",
      "WARNING: 2020-09-25 16:12:55,534 - /home/maximl/.conda/envs/ml/lib/python3.8/site-packages/sklearn/metrics/_classification.py:1814: UserWarning: y_pred contains classes not in y_true\n",
      "  warnings.warn('y_pred contains classes not in y_true')\n",
      "\n",
      "WARNING: 2020-09-25 16:12:55,537 - /home/maximl/.conda/envs/ml/lib/python3.8/site-packages/sklearn/metrics/_classification.py:1814: UserWarning: y_pred contains classes not in y_true\n",
      "  warnings.warn('y_pred contains classes not in y_true')\n",
      "\n",
      "WARNING: 2020-09-25 16:12:55,545 - /home/maximl/.conda/envs/ml/lib/python3.8/site-packages/sklearn/metrics/_classification.py:1814: UserWarning: y_pred contains classes not in y_true\n",
      "  warnings.warn('y_pred contains classes not in y_true')\n",
      "\n",
      "INFO: 2020-09-25 16:12:55,618 - 0.5105004s taken for [get] request for the URL https://www.openml.org/api/v1/xml/task/list/type/1/limit/10000/offset/10/status/active/number_missing_values/0\n",
      "INFO: 2020-09-25 16:12:56,070 - Starting [get] request for the URL https://www.openml.org/api/v1/xml/estimationprocedure/list\n",
      "INFO: 2020-09-25 16:12:56,136 - 0.0651066s taken for [get] request for the URL https://www.openml.org/api/v1/xml/estimationprocedure/list\n",
      "INFO: 2020-09-25 16:12:56,287 - pickle load data vertebra-column\n",
      "INFO: 2020-09-25 16:12:56,293 - Promises for single cv: 1\n",
      "INFO: 2020-09-25 16:12:56,294 - 11 promises submitted to pool (('rf', None))\n",
      "INFO: 2020-09-25 16:12:56,294 - Starting [get] request for the URL https://www.openml.org/api/v1/xml/task/list/type/1/limit/10000/offset/11/status/active/number_missing_values/0\n",
      "WARNING: 2020-09-25 16:12:56,429 - /home/maximl/.conda/envs/ml/lib/python3.8/site-packages/sklearn/metrics/_classification.py:1814: UserWarning: y_pred contains classes not in y_true\n",
      "  warnings.warn('y_pred contains classes not in y_true')\n",
      "\n",
      "INFO: 2020-09-25 16:12:56,750 - 0.4552267s taken for [get] request for the URL https://www.openml.org/api/v1/xml/task/list/type/1/limit/10000/offset/11/status/active/number_missing_values/0\n",
      "INFO: 2020-09-25 16:12:57,140 - Starting [get] request for the URL https://www.openml.org/api/v1/xml/estimationprocedure/list\n",
      "INFO: 2020-09-25 16:12:57,211 - 0.0699582s taken for [get] request for the URL https://www.openml.org/api/v1/xml/estimationprocedure/list\n",
      "INFO: 2020-09-25 16:12:57,387 - Starting [get] request for the URL https://www.openml.org/api/v1/xml/task/4606\n",
      "INFO: 2020-09-25 16:12:57,452 - 0.0645094s taken for [get] request for the URL https://www.openml.org/api/v1/xml/task/4606\n",
      "INFO: 2020-09-25 16:12:57,455 - Starting [get] request for the URL https://www.openml.org/api/v1/xml/data/1048\n",
      "INFO: 2020-09-25 16:12:57,525 - 0.0692666s taken for [get] request for the URL https://www.openml.org/api/v1/xml/data/1048\n",
      "INFO: 2020-09-25 16:12:57,527 - Starting [get] request for the URL https://www.openml.org/api/v1/xml/data/features/1048\n",
      "INFO: 2020-09-25 16:12:57,610 - 0.0823934s taken for [get] request for the URL https://www.openml.org/api/v1/xml/data/features/1048\n",
      "INFO: 2020-09-25 16:12:57,617 - Starting [get] request for the URL https://www.openml.org/api/v1/xml/data/qualities/1048\n",
      "INFO: 2020-09-25 16:12:57,709 - 0.0902643s taken for [get] request for the URL https://www.openml.org/api/v1/xml/data/qualities/1048\n",
      "INFO: 2020-09-25 16:12:57,721 - Starting [get] request for the URL https://www.openml.org/data/v1/download/53931/jEdit_4.2_4.3.arff\n",
      "INFO: 2020-09-25 16:12:57,830 - 0.1077132s taken for [get] request for the URL https://www.openml.org/data/v1/download/53931/jEdit_4.2_4.3.arff\n",
      "INFO: 2020-09-25 16:12:57,855 - pickle write jEdit_4.2_4.3\n",
      "INFO: 2020-09-25 16:12:57,860 - Starting [get] request for the URL https://www.openml.org/api_splits/get/4606/Task_4606_splits.arff\n",
      "INFO: 2020-09-25 16:12:58,033 - 0.1708844s taken for [get] request for the URL https://www.openml.org/api_splits/get/4606/Task_4606_splits.arff\n",
      "INFO: 2020-09-25 16:12:58,254 - pickle load data jEdit_4.2_4.3\n",
      "INFO: 2020-09-25 16:12:58,261 - Promises for single cv: 10\n",
      "INFO: 2020-09-25 16:12:58,262 - 21 promises submitted to pool (('svm', None))\n",
      "INFO: 2020-09-25 16:12:58,263 - Starting [get] request for the URL https://www.openml.org/api/v1/xml/task/list/type/1/limit/10000/offset/21/status/active/number_missing_values/0\n",
      "WARNING: 2020-09-25 16:12:58,301 - /home/maximl/.conda/envs/ml/lib/python3.8/site-packages/sklearn/metrics/_classification.py:1814: UserWarning: y_pred contains classes not in y_true\n",
      "  warnings.warn('y_pred contains classes not in y_true')\n",
      "\n",
      "WARNING: 2020-09-25 16:12:58,307 - /home/maximl/.conda/envs/ml/lib/python3.8/site-packages/sklearn/metrics/_classification.py:1814: UserWarning: y_pred contains classes not in y_true\n",
      "  warnings.warn('y_pred contains classes not in y_true')\n",
      "\n",
      "WARNING: 2020-09-25 16:12:58,311 - /home/maximl/.conda/envs/ml/lib/python3.8/site-packages/sklearn/metrics/_classification.py:1814: UserWarning: y_pred contains classes not in y_true\n",
      "  warnings.warn('y_pred contains classes not in y_true')\n",
      "\n",
      "WARNING: 2020-09-25 16:12:58,312 - /home/maximl/.conda/envs/ml/lib/python3.8/site-packages/sklearn/metrics/_classification.py:1814: UserWarning: y_pred contains classes not in y_true\n",
      "  warnings.warn('y_pred contains classes not in y_true')\n",
      "\n",
      "WARNING: 2020-09-25 16:12:58,313 - /home/maximl/.conda/envs/ml/lib/python3.8/site-packages/sklearn/metrics/_classification.py:1814: UserWarning: y_pred contains classes not in y_true\n",
      "  warnings.warn('y_pred contains classes not in y_true')\n",
      "\n",
      "WARNING: 2020-09-25 16:12:58,316 - /home/maximl/.conda/envs/ml/lib/python3.8/site-packages/sklearn/metrics/_classification.py:1814: UserWarning: y_pred contains classes not in y_true\n",
      "  warnings.warn('y_pred contains classes not in y_true')\n",
      "\n",
      "WARNING: 2020-09-25 16:12:58,368 - /home/maximl/.conda/envs/ml/lib/python3.8/site-packages/sklearn/metrics/_classification.py:1814: UserWarning: y_pred contains classes not in y_true\n",
      "  warnings.warn('y_pred contains classes not in y_true')\n",
      "\n",
      "WARNING: 2020-09-25 16:12:58,372 - /home/maximl/.conda/envs/ml/lib/python3.8/site-packages/sklearn/metrics/_classification.py:1814: UserWarning: y_pred contains classes not in y_true\n",
      "  warnings.warn('y_pred contains classes not in y_true')\n",
      "\n",
      "WARNING: 2020-09-25 16:12:58,387 - /home/maximl/.conda/envs/ml/lib/python3.8/site-packages/sklearn/metrics/_classification.py:1814: UserWarning: y_pred contains classes not in y_true\n",
      "  warnings.warn('y_pred contains classes not in y_true')\n",
      "\n",
      "WARNING: 2020-09-25 16:12:58,387 - /home/maximl/.conda/envs/ml/lib/python3.8/site-packages/sklearn/metrics/_classification.py:1814: UserWarning: y_pred contains classes not in y_true\n",
      "  warnings.warn('y_pred contains classes not in y_true')\n",
      "\n",
      "INFO: 2020-09-25 16:12:58,799 - 0.5349054s taken for [get] request for the URL https://www.openml.org/api/v1/xml/task/list/type/1/limit/10000/offset/21/status/active/number_missing_values/0\n",
      "INFO: 2020-09-25 16:12:59,248 - Starting [get] request for the URL https://www.openml.org/api/v1/xml/estimationprocedure/list\n",
      "INFO: 2020-09-25 16:12:59,313 - 0.0647388s taken for [get] request for the URL https://www.openml.org/api/v1/xml/estimationprocedure/list\n",
      "INFO: 2020-09-25 16:12:59,463 - Starting [get] request for the URL https://www.openml.org/api/v1/xml/task/146076\n",
      "INFO: 2020-09-25 16:12:59,531 - 0.0682526s taken for [get] request for the URL https://www.openml.org/api/v1/xml/task/146076\n",
      "INFO: 2020-09-25 16:12:59,545 - Starting [get] request for the URL https://www.openml.org/api_splits/get/146076/Task_146076_splits.arff\n",
      "INFO: 2020-09-25 16:12:59,602 - 0.0560482s taken for [get] request for the URL https://www.openml.org/api_splits/get/146076/Task_146076_splits.arff\n",
      "INFO: 2020-09-25 16:12:59,682 - pickle load data molecular-biology_promoters\n",
      "INFO: 2020-09-25 16:12:59,724 - Going to remove the following attributes: ['instance']\n",
      "INFO: 2020-09-25 16:12:59,891 - Promises for single cv: 10\n",
      "INFO: 2020-09-25 16:12:59,892 - 31 promises submitted to pool (('svm', None))\n",
      "INFO: 2020-09-25 16:12:59,893 - Starting [get] request for the URL https://www.openml.org/api/v1/xml/task/list/type/1/limit/10000/offset/31/status/active/number_missing_values/0\n",
      "WARNING: 2020-09-25 16:12:59,913 - /home/maximl/.conda/envs/ml/lib/python3.8/site-packages/sklearn/metrics/_classification.py:1814: UserWarning: y_pred contains classes not in y_true\n",
      "  warnings.warn('y_pred contains classes not in y_true')\n",
      "\n",
      "WARNING: 2020-09-25 16:12:59,918 - /home/maximl/.conda/envs/ml/lib/python3.8/site-packages/sklearn/metrics/_classification.py:1814: UserWarning: y_pred contains classes not in y_true\n",
      "  warnings.warn('y_pred contains classes not in y_true')\n",
      "\n",
      "WARNING: 2020-09-25 16:12:59,923 - /home/maximl/.conda/envs/ml/lib/python3.8/site-packages/sklearn/metrics/_classification.py:1814: UserWarning: y_pred contains classes not in y_true\n",
      "  warnings.warn('y_pred contains classes not in y_true')\n",
      "\n",
      "WARNING: 2020-09-25 16:12:59,948 - /home/maximl/.conda/envs/ml/lib/python3.8/site-packages/sklearn/metrics/_classification.py:1814: UserWarning: y_pred contains classes not in y_true\n",
      "  warnings.warn('y_pred contains classes not in y_true')\n",
      "\n",
      "WARNING: 2020-09-25 16:12:59,952 - /home/maximl/.conda/envs/ml/lib/python3.8/site-packages/sklearn/metrics/_classification.py:1814: UserWarning: y_pred contains classes not in y_true\n",
      "  warnings.warn('y_pred contains classes not in y_true')\n",
      "\n",
      "WARNING: 2020-09-25 16:12:59,957 - /home/maximl/.conda/envs/ml/lib/python3.8/site-packages/sklearn/metrics/_classification.py:1814: UserWarning: y_pred contains classes not in y_true\n",
      "  warnings.warn('y_pred contains classes not in y_true')\n",
      "\n",
      "INFO: 2020-09-25 16:13:00,446 - 0.5519476s taken for [get] request for the URL https://www.openml.org/api/v1/xml/task/list/type/1/limit/10000/offset/31/status/active/number_missing_values/0\n",
      "INFO: 2020-09-25 16:13:00,866 - Starting [get] request for the URL https://www.openml.org/api/v1/xml/estimationprocedure/list\n",
      "INFO: 2020-09-25 16:13:00,922 - 0.0550871s taken for [get] request for the URL https://www.openml.org/api/v1/xml/estimationprocedure/list\n",
      "INFO: 2020-09-25 16:13:01,028 - Starting [get] request for the URL https://www.openml.org/api/v1/xml/task/166854\n",
      "INFO: 2020-09-25 16:13:01,089 - 0.0615301s taken for [get] request for the URL https://www.openml.org/api/v1/xml/task/166854\n",
      "INFO: 2020-09-25 16:13:01,091 - Starting [get] request for the URL https://www.openml.org/api/v1/xml/data/450\n",
      "INFO: 2020-09-25 16:13:01,156 - 0.0644310s taken for [get] request for the URL https://www.openml.org/api/v1/xml/data/450\n",
      "INFO: 2020-09-25 16:13:01,157 - Starting [get] request for the URL https://www.openml.org/api/v1/xml/data/features/450\n",
      "INFO: 2020-09-25 16:13:01,244 - 0.0861051s taken for [get] request for the URL https://www.openml.org/api/v1/xml/data/features/450\n",
      "INFO: 2020-09-25 16:13:01,249 - Starting [get] request for the URL https://www.openml.org/api/v1/xml/data/qualities/450\n",
      "INFO: 2020-09-25 16:13:01,337 - 0.0875041s taken for [get] request for the URL https://www.openml.org/api/v1/xml/data/qualities/450\n",
      "INFO: 2020-09-25 16:13:01,348 - Starting [get] request for the URL https://www.openml.org/data/v1/download/52562/analcatdata_lawsuit.arff\n",
      "INFO: 2020-09-25 16:13:01,439 - 0.0900369s taken for [get] request for the URL https://www.openml.org/data/v1/download/52562/analcatdata_lawsuit.arff\n",
      "INFO: 2020-09-25 16:13:01,459 - pickle write analcatdata_lawsuit\n",
      "INFO: 2020-09-25 16:13:01,463 - Starting [get] request for the URL https://www.openml.org/api_splits/get/166854/Task_166854_splits.arff\n",
      "INFO: 2020-09-25 16:13:01,558 - 0.0940504s taken for [get] request for the URL https://www.openml.org/api_splits/get/166854/Task_166854_splits.arff\n",
      "INFO: 2020-09-25 16:13:01,578 - pickle load data analcatdata_lawsuit\n",
      "INFO: 2020-09-25 16:13:01,604 - Promises for single cv: 1\n",
      "INFO: 2020-09-25 16:13:01,606 - 32 promises submitted to pool (('logreg', None))\n",
      "INFO: 2020-09-25 16:13:01,609 - Starting [get] request for the URL https://www.openml.org/api/v1/xml/task/list/type/1/limit/10000/offset/32/status/active/number_missing_values/0\n",
      "WARNING: 2020-09-25 16:13:01,663 - /home/maximl/.conda/envs/ml/lib/python3.8/site-packages/sklearn/metrics/_classification.py:1814: UserWarning: y_pred contains classes not in y_true\n",
      "  warnings.warn('y_pred contains classes not in y_true')\n",
      "\n",
      "INFO: 2020-09-25 16:13:02,069 - 0.4574323s taken for [get] request for the URL https://www.openml.org/api/v1/xml/task/list/type/1/limit/10000/offset/32/status/active/number_missing_values/0\n",
      "INFO: 2020-09-25 16:13:02,433 - Starting [get] request for the URL https://www.openml.org/api/v1/xml/estimationprocedure/list\n",
      "INFO: 2020-09-25 16:13:02,499 - 0.0655494s taken for [get] request for the URL https://www.openml.org/api/v1/xml/estimationprocedure/list\n",
      "INFO: 2020-09-25 16:13:02,573 - Starting [get] request for the URL https://www.openml.org/api/v1/xml/task/3703\n",
      "INFO: 2020-09-25 16:13:02,648 - 0.0741951s taken for [get] request for the URL https://www.openml.org/api/v1/xml/task/3703\n",
      "INFO: 2020-09-25 16:13:02,652 - Starting [get] request for the URL https://www.openml.org/api/v1/xml/data/838\n",
      "INFO: 2020-09-25 16:13:02,741 - 0.0875430s taken for [get] request for the URL https://www.openml.org/api/v1/xml/data/838\n",
      "INFO: 2020-09-25 16:13:02,746 - Starting [get] request for the URL https://www.openml.org/api/v1/xml/data/features/838\n",
      "INFO: 2020-09-25 16:13:02,845 - 0.0977006s taken for [get] request for the URL https://www.openml.org/api/v1/xml/data/features/838\n",
      "INFO: 2020-09-25 16:13:02,853 - Starting [get] request for the URL https://www.openml.org/api/v1/xml/data/qualities/838\n",
      "INFO: 2020-09-25 16:13:02,939 - 0.0847759s taken for [get] request for the URL https://www.openml.org/api/v1/xml/data/qualities/838\n",
      "INFO: 2020-09-25 16:13:02,949 - Starting [get] request for the URL https://www.openml.org/data/v1/download/53372/fri_c4_500_25.arff\n",
      "INFO: 2020-09-25 16:13:03,094 - 0.1433892s taken for [get] request for the URL https://www.openml.org/data/v1/download/53372/fri_c4_500_25.arff\n",
      "INFO: 2020-09-25 16:13:03,146 - pickle write fri_c4_500_25\n",
      "INFO: 2020-09-25 16:13:03,150 - Starting [get] request for the URL https://www.openml.org/api_splits/get/3703/Task_3703_splits.arff\n",
      "INFO: 2020-09-25 16:13:03,401 - 0.2502952s taken for [get] request for the URL https://www.openml.org/api_splits/get/3703/Task_3703_splits.arff\n",
      "INFO: 2020-09-25 16:13:03,499 - pickle load data fri_c4_500_25\n",
      "INFO: 2020-09-25 16:13:03,534 - Promises for single cv: 10\n",
      "INFO: 2020-09-25 16:13:03,534 - 42 promises submitted to pool (('logreg', None))\n",
      "INFO: 2020-09-25 16:13:03,536 - Starting [get] request for the URL https://www.openml.org/api/v1/xml/task/list/type/1/limit/10000/offset/42/status/active/number_missing_values/0\n",
      "WARNING: 2020-09-25 16:13:03,713 - /home/maximl/.conda/envs/ml/lib/python3.8/site-packages/sklearn/metrics/_classification.py:1814: UserWarning: y_pred contains classes not in y_true\n",
      "  warnings.warn('y_pred contains classes not in y_true')\n",
      "\n",
      "WARNING: 2020-09-25 16:13:03,759 - /home/maximl/.conda/envs/ml/lib/python3.8/site-packages/sklearn/metrics/_classification.py:1814: UserWarning: y_pred contains classes not in y_true\n",
      "  warnings.warn('y_pred contains classes not in y_true')\n",
      "\n",
      "WARNING: 2020-09-25 16:13:03,761 - /home/maximl/.conda/envs/ml/lib/python3.8/site-packages/sklearn/metrics/_classification.py:1814: UserWarning: y_pred contains classes not in y_true\n",
      "  warnings.warn('y_pred contains classes not in y_true')\n",
      "\n",
      "WARNING: 2020-09-25 16:13:03,770 - /home/maximl/.conda/envs/ml/lib/python3.8/site-packages/sklearn/metrics/_classification.py:1814: UserWarning: y_pred contains classes not in y_true\n",
      "  warnings.warn('y_pred contains classes not in y_true')\n",
      "\n"
     ]
    },
    {
     "ename": "KeyboardInterrupt",
     "evalue": "",
     "output_type": "error",
     "traceback": [
      "\u001b[0;31m---------------------------------------------------------------------------\u001b[0m",
      "\u001b[0;31mKeyboardInterrupt\u001b[0m                         Traceback (most recent call last)",
      "\u001b[0;32m<ipython-input-14-0e236d82fe5b>\u001b[0m in \u001b[0;36m<module>\u001b[0;34m\u001b[0m\n\u001b[1;32m     16\u001b[0m     \u001b[0;32mfor\u001b[0m \u001b[0mmodel_id\u001b[0m \u001b[0;32min\u001b[0m \u001b[0mMODELS\u001b[0m\u001b[0;34m.\u001b[0m\u001b[0mkeys\u001b[0m\u001b[0;34m(\u001b[0m\u001b[0;34m)\u001b[0m\u001b[0;34m:\u001b[0m\u001b[0;34m\u001b[0m\u001b[0;34m\u001b[0m\u001b[0m\n\u001b[1;32m     17\u001b[0m         \u001b[0;32mfor\u001b[0m \u001b[0mtask_id\u001b[0m \u001b[0;32min\u001b[0m \u001b[0miter_tasks\u001b[0m\u001b[0;34m:\u001b[0m\u001b[0;34m\u001b[0m\u001b[0;34m\u001b[0m\u001b[0m\n\u001b[0;32m---> 18\u001b[0;31m             \u001b[0mtmp\u001b[0m\u001b[0;34m,\u001b[0m \u001b[0mcounter\u001b[0m \u001b[0;34m=\u001b[0m \u001b[0mget_cv_metrics_for_model_and_task\u001b[0m\u001b[0;34m(\u001b[0m\u001b[0mmodel_id\u001b[0m\u001b[0;34m,\u001b[0m \u001b[0mtask_id\u001b[0m\u001b[0;34m,\u001b[0m \u001b[0mpool\u001b[0m\u001b[0;34m,\u001b[0m \u001b[0;36m1\u001b[0m\u001b[0;34m,\u001b[0m \u001b[0mcounter\u001b[0m\u001b[0;34m,\u001b[0m \u001b[0mstart_at\u001b[0m\u001b[0;34m)\u001b[0m\u001b[0;34m\u001b[0m\u001b[0;34m\u001b[0m\u001b[0m\n\u001b[0m\u001b[1;32m     19\u001b[0m             \u001b[0mpromises\u001b[0m\u001b[0;34m.\u001b[0m\u001b[0mextend\u001b[0m\u001b[0;34m(\u001b[0m\u001b[0mtmp\u001b[0m\u001b[0;34m)\u001b[0m\u001b[0;34m\u001b[0m\u001b[0;34m\u001b[0m\u001b[0m\n\u001b[1;32m     20\u001b[0m             \u001b[0mlogging\u001b[0m\u001b[0;34m.\u001b[0m\u001b[0minfo\u001b[0m\u001b[0;34m(\u001b[0m\u001b[0;34mf\"{len(promises)} promises submitted to pool ({model_id, task_id})\"\u001b[0m\u001b[0;34m)\u001b[0m\u001b[0;34m\u001b[0m\u001b[0;34m\u001b[0m\u001b[0m\n",
      "\u001b[0;32m<ipython-input-13-1bd3bd736caa>\u001b[0m in \u001b[0;36mget_cv_metrics_for_model_and_task\u001b[0;34m(model_id, task_id, pool, n_repeats, counter, start_at)\u001b[0m\n\u001b[1;32m      1\u001b[0m \u001b[0;32mdef\u001b[0m \u001b[0mget_cv_metrics_for_model_and_task\u001b[0m\u001b[0;34m(\u001b[0m\u001b[0mmodel_id\u001b[0m\u001b[0;34m,\u001b[0m \u001b[0mtask_id\u001b[0m\u001b[0;34m,\u001b[0m \u001b[0mpool\u001b[0m\u001b[0;34m,\u001b[0m \u001b[0mn_repeats\u001b[0m\u001b[0;34m,\u001b[0m \u001b[0mcounter\u001b[0m\u001b[0;34m,\u001b[0m \u001b[0mstart_at\u001b[0m\u001b[0;34m)\u001b[0m\u001b[0;34m:\u001b[0m\u001b[0;34m\u001b[0m\u001b[0;34m\u001b[0m\u001b[0m\n\u001b[1;32m      2\u001b[0m \u001b[0;34m\u001b[0m\u001b[0m\n\u001b[0;32m----> 3\u001b[0;31m     \u001b[0mX\u001b[0m\u001b[0;34m,\u001b[0m \u001b[0my\u001b[0m\u001b[0;34m,\u001b[0m \u001b[0msplitter\u001b[0m\u001b[0;34m,\u001b[0m \u001b[0mtask_id\u001b[0m \u001b[0;34m=\u001b[0m \u001b[0mload_openml_task\u001b[0m\u001b[0;34m(\u001b[0m\u001b[0mtask_id\u001b[0m\u001b[0;34m,\u001b[0m \u001b[0moffset\u001b[0m\u001b[0;34m=\u001b[0m\u001b[0mcounter\u001b[0m\u001b[0;34m)\u001b[0m \u001b[0;31m# repeated runs will use cached data\u001b[0m\u001b[0;34m\u001b[0m\u001b[0;34m\u001b[0m\u001b[0m\n\u001b[0m\u001b[1;32m      4\u001b[0m \u001b[0;34m\u001b[0m\u001b[0m\n\u001b[1;32m      5\u001b[0m     \u001b[0mpromises\u001b[0m \u001b[0;34m=\u001b[0m \u001b[0;34m[\u001b[0m\u001b[0;34m]\u001b[0m\u001b[0;34m\u001b[0m\u001b[0;34m\u001b[0m\u001b[0m\n",
      "\u001b[0;32m<ipython-input-8-3c55efefc171>\u001b[0m in \u001b[0;36mload_openml_task\u001b[0;34m(task_id, offset)\u001b[0m\n\u001b[1;32m      3\u001b[0m     \u001b[0;32mwhile\u001b[0m \u001b[0;32mTrue\u001b[0m\u001b[0;34m:\u001b[0m\u001b[0;34m\u001b[0m\u001b[0;34m\u001b[0m\u001b[0m\n\u001b[1;32m      4\u001b[0m         \u001b[0;32mif\u001b[0m \u001b[0mtask_id\u001b[0m \u001b[0;32mis\u001b[0m \u001b[0;32mNone\u001b[0m\u001b[0;34m:\u001b[0m\u001b[0;34m\u001b[0m\u001b[0;34m\u001b[0m\u001b[0m\n\u001b[0;32m----> 5\u001b[0;31m             \u001b[0mcurr_id\u001b[0m \u001b[0;34m=\u001b[0m \u001b[0mfind_random_task\u001b[0m\u001b[0;34m(\u001b[0m\u001b[0moffset\u001b[0m\u001b[0;34m)\u001b[0m\u001b[0;34m\u001b[0m\u001b[0;34m\u001b[0m\u001b[0m\n\u001b[0m\u001b[1;32m      6\u001b[0m         \u001b[0;32melse\u001b[0m\u001b[0;34m:\u001b[0m\u001b[0;34m\u001b[0m\u001b[0;34m\u001b[0m\u001b[0m\n\u001b[1;32m      7\u001b[0m             \u001b[0mcurr_id\u001b[0m \u001b[0;34m=\u001b[0m \u001b[0mtask_id\u001b[0m\u001b[0;34m\u001b[0m\u001b[0;34m\u001b[0m\u001b[0m\n",
      "\u001b[0;32m<ipython-input-6-bb2e814a6e5f>\u001b[0m in \u001b[0;36mfind_random_task\u001b[0;34m(offset)\u001b[0m\n\u001b[1;32m      1\u001b[0m \u001b[0;32mdef\u001b[0m \u001b[0mfind_random_task\u001b[0m\u001b[0;34m(\u001b[0m\u001b[0moffset\u001b[0m\u001b[0;34m)\u001b[0m\u001b[0;34m:\u001b[0m\u001b[0;34m\u001b[0m\u001b[0;34m\u001b[0m\u001b[0m\n\u001b[1;32m      2\u001b[0m     \u001b[0;32mwhile\u001b[0m \u001b[0;32mTrue\u001b[0m\u001b[0;34m:\u001b[0m\u001b[0;34m\u001b[0m\u001b[0;34m\u001b[0m\u001b[0m\n\u001b[0;32m----> 3\u001b[0;31m         \u001b[0mdf\u001b[0m \u001b[0;34m=\u001b[0m \u001b[0mopenml\u001b[0m\u001b[0;34m.\u001b[0m\u001b[0mtasks\u001b[0m\u001b[0;34m.\u001b[0m\u001b[0mlist_tasks\u001b[0m\u001b[0;34m(\u001b[0m\u001b[0mtask_type_id\u001b[0m\u001b[0;34m=\u001b[0m\u001b[0;36m1\u001b[0m\u001b[0;34m,\u001b[0m \u001b[0moffset\u001b[0m\u001b[0;34m=\u001b[0m\u001b[0moffset\u001b[0m\u001b[0;34m,\u001b[0m \u001b[0moutput_format\u001b[0m\u001b[0;34m=\u001b[0m\u001b[0;34m\"dataframe\"\u001b[0m\u001b[0;34m,\u001b[0m \u001b[0msize\u001b[0m\u001b[0;34m=\u001b[0m\u001b[0;36m10000\u001b[0m\u001b[0;34m,\u001b[0m \u001b[0mstatus\u001b[0m\u001b[0;34m=\u001b[0m\u001b[0;34m\"active\"\u001b[0m\u001b[0;34m,\u001b[0m \u001b[0mnumber_missing_values\u001b[0m\u001b[0;34m=\u001b[0m\u001b[0;36m0\u001b[0m\u001b[0;34m)\u001b[0m\u001b[0;34m\u001b[0m\u001b[0;34m\u001b[0m\u001b[0m\n\u001b[0m\u001b[1;32m      4\u001b[0m         \u001b[0;32mif\u001b[0m \u001b[0;34m\"NumberOfInstances\"\u001b[0m \u001b[0;32min\u001b[0m \u001b[0mdf\u001b[0m\u001b[0;34m:\u001b[0m\u001b[0;34m\u001b[0m\u001b[0;34m\u001b[0m\u001b[0m\n\u001b[1;32m      5\u001b[0m             \u001b[0mdf\u001b[0m \u001b[0;34m=\u001b[0m \u001b[0mdf\u001b[0m\u001b[0;34m[\u001b[0m\u001b[0;34m(\u001b[0m\u001b[0mdf\u001b[0m\u001b[0;34m[\u001b[0m\u001b[0;34m\"NumberOfInstances\"\u001b[0m\u001b[0;34m]\u001b[0m \u001b[0;34m>\u001b[0m \u001b[0;36m100\u001b[0m\u001b[0;34m)\u001b[0m \u001b[0;34m&\u001b[0m \u001b[0;34m(\u001b[0m\u001b[0mdf\u001b[0m\u001b[0;34m[\u001b[0m\u001b[0;34m\"NumberOfInstances\"\u001b[0m\u001b[0;34m]\u001b[0m \u001b[0;34m<\u001b[0m \u001b[0;36m1000\u001b[0m\u001b[0;34m)\u001b[0m\u001b[0;34m]\u001b[0m\u001b[0;34m\u001b[0m\u001b[0;34m\u001b[0m\u001b[0m\n",
      "\u001b[0;32m~/.conda/envs/ml/lib/python3.8/site-packages/openml/tasks/functions.py\u001b[0m in \u001b[0;36mlist_tasks\u001b[0;34m(task_type_id, offset, size, tag, output_format, **kwargs)\u001b[0m\n\u001b[1;32m    177\u001b[0m             \u001b[0;34m\"Invalid output format selected. \"\u001b[0m \u001b[0;34m\"Only 'dict' or 'dataframe' applicable.\"\u001b[0m\u001b[0;34m\u001b[0m\u001b[0;34m\u001b[0m\u001b[0m\n\u001b[1;32m    178\u001b[0m         )\n\u001b[0;32m--> 179\u001b[0;31m     return openml.utils._list_all(\n\u001b[0m\u001b[1;32m    180\u001b[0m         \u001b[0moutput_format\u001b[0m\u001b[0;34m=\u001b[0m\u001b[0moutput_format\u001b[0m\u001b[0;34m,\u001b[0m\u001b[0;34m\u001b[0m\u001b[0;34m\u001b[0m\u001b[0m\n\u001b[1;32m    181\u001b[0m         \u001b[0mlisting_call\u001b[0m\u001b[0;34m=\u001b[0m\u001b[0m_list_tasks\u001b[0m\u001b[0;34m,\u001b[0m\u001b[0;34m\u001b[0m\u001b[0;34m\u001b[0m\u001b[0m\n",
      "\u001b[0;32m~/.conda/envs/ml/lib/python3.8/site-packages/openml/utils.py\u001b[0m in \u001b[0;36m_list_all\u001b[0;34m(listing_call, output_format, *args, **filters)\u001b[0m\n\u001b[1;32m    239\u001b[0m         \u001b[0;32mtry\u001b[0m\u001b[0;34m:\u001b[0m\u001b[0;34m\u001b[0m\u001b[0;34m\u001b[0m\u001b[0m\n\u001b[1;32m    240\u001b[0m             \u001b[0mcurrent_offset\u001b[0m \u001b[0;34m=\u001b[0m \u001b[0moffset\u001b[0m \u001b[0;34m+\u001b[0m \u001b[0mBATCH_SIZE_ORIG\u001b[0m \u001b[0;34m*\u001b[0m \u001b[0mpage\u001b[0m\u001b[0;34m\u001b[0m\u001b[0;34m\u001b[0m\u001b[0m\n\u001b[0;32m--> 241\u001b[0;31m             new_batch = listing_call(\n\u001b[0m\u001b[1;32m    242\u001b[0m                 \u001b[0;34m*\u001b[0m\u001b[0margs\u001b[0m\u001b[0;34m,\u001b[0m\u001b[0;34m\u001b[0m\u001b[0;34m\u001b[0m\u001b[0m\n\u001b[1;32m    243\u001b[0m                 \u001b[0mlimit\u001b[0m\u001b[0;34m=\u001b[0m\u001b[0mbatch_size\u001b[0m\u001b[0;34m,\u001b[0m\u001b[0;34m\u001b[0m\u001b[0;34m\u001b[0m\u001b[0m\n",
      "\u001b[0;32m~/.conda/envs/ml/lib/python3.8/site-packages/openml/tasks/functions.py\u001b[0m in \u001b[0;36m_list_tasks\u001b[0;34m(task_type_id, output_format, **kwargs)\u001b[0m\n\u001b[1;32m    228\u001b[0m                 \u001b[0mvalue\u001b[0m \u001b[0;34m=\u001b[0m \u001b[0;34m\",\"\u001b[0m\u001b[0;34m.\u001b[0m\u001b[0mjoin\u001b[0m\u001b[0;34m(\u001b[0m\u001b[0;34m[\u001b[0m\u001b[0mstr\u001b[0m\u001b[0;34m(\u001b[0m\u001b[0mint\u001b[0m\u001b[0;34m(\u001b[0m\u001b[0mi\u001b[0m\u001b[0;34m)\u001b[0m\u001b[0;34m)\u001b[0m \u001b[0;32mfor\u001b[0m \u001b[0mi\u001b[0m \u001b[0;32min\u001b[0m \u001b[0mvalue\u001b[0m\u001b[0;34m]\u001b[0m\u001b[0;34m)\u001b[0m\u001b[0;34m\u001b[0m\u001b[0;34m\u001b[0m\u001b[0m\n\u001b[1;32m    229\u001b[0m             \u001b[0mapi_call\u001b[0m \u001b[0;34m+=\u001b[0m \u001b[0;34m\"/%s/%s\"\u001b[0m \u001b[0;34m%\u001b[0m \u001b[0;34m(\u001b[0m\u001b[0moperator\u001b[0m\u001b[0;34m,\u001b[0m \u001b[0mvalue\u001b[0m\u001b[0;34m)\u001b[0m\u001b[0;34m\u001b[0m\u001b[0;34m\u001b[0m\u001b[0m\n\u001b[0;32m--> 230\u001b[0;31m     \u001b[0;32mreturn\u001b[0m \u001b[0m__list_tasks\u001b[0m\u001b[0;34m(\u001b[0m\u001b[0mapi_call\u001b[0m\u001b[0;34m=\u001b[0m\u001b[0mapi_call\u001b[0m\u001b[0;34m,\u001b[0m \u001b[0moutput_format\u001b[0m\u001b[0;34m=\u001b[0m\u001b[0moutput_format\u001b[0m\u001b[0;34m)\u001b[0m\u001b[0;34m\u001b[0m\u001b[0;34m\u001b[0m\u001b[0m\n\u001b[0m\u001b[1;32m    231\u001b[0m \u001b[0;34m\u001b[0m\u001b[0m\n\u001b[1;32m    232\u001b[0m \u001b[0;34m\u001b[0m\u001b[0m\n",
      "\u001b[0;32m~/.conda/envs/ml/lib/python3.8/site-packages/openml/tasks/functions.py\u001b[0m in \u001b[0;36m__list_tasks\u001b[0;34m(api_call, output_format)\u001b[0m\n\u001b[1;32m    232\u001b[0m \u001b[0;34m\u001b[0m\u001b[0m\n\u001b[1;32m    233\u001b[0m \u001b[0;32mdef\u001b[0m \u001b[0m__list_tasks\u001b[0m\u001b[0;34m(\u001b[0m\u001b[0mapi_call\u001b[0m\u001b[0;34m,\u001b[0m \u001b[0moutput_format\u001b[0m\u001b[0;34m=\u001b[0m\u001b[0;34m\"dict\"\u001b[0m\u001b[0;34m)\u001b[0m\u001b[0;34m:\u001b[0m\u001b[0;34m\u001b[0m\u001b[0;34m\u001b[0m\u001b[0m\n\u001b[0;32m--> 234\u001b[0;31m     \u001b[0mxml_string\u001b[0m \u001b[0;34m=\u001b[0m \u001b[0mopenml\u001b[0m\u001b[0;34m.\u001b[0m\u001b[0m_api_calls\u001b[0m\u001b[0;34m.\u001b[0m\u001b[0m_perform_api_call\u001b[0m\u001b[0;34m(\u001b[0m\u001b[0mapi_call\u001b[0m\u001b[0;34m,\u001b[0m \u001b[0;34m\"get\"\u001b[0m\u001b[0;34m)\u001b[0m\u001b[0;34m\u001b[0m\u001b[0;34m\u001b[0m\u001b[0m\n\u001b[0m\u001b[1;32m    235\u001b[0m     \u001b[0mtasks_dict\u001b[0m \u001b[0;34m=\u001b[0m \u001b[0mxmltodict\u001b[0m\u001b[0;34m.\u001b[0m\u001b[0mparse\u001b[0m\u001b[0;34m(\u001b[0m\u001b[0mxml_string\u001b[0m\u001b[0;34m,\u001b[0m \u001b[0mforce_list\u001b[0m\u001b[0;34m=\u001b[0m\u001b[0;34m(\u001b[0m\u001b[0;34m\"oml:task\"\u001b[0m\u001b[0;34m,\u001b[0m \u001b[0;34m\"oml:input\"\u001b[0m\u001b[0;34m)\u001b[0m\u001b[0;34m)\u001b[0m\u001b[0;34m\u001b[0m\u001b[0;34m\u001b[0m\u001b[0m\n\u001b[1;32m    236\u001b[0m     \u001b[0;31m# Minimalistic check if the XML is useful\u001b[0m\u001b[0;34m\u001b[0m\u001b[0;34m\u001b[0m\u001b[0;34m\u001b[0m\u001b[0m\n",
      "\u001b[0;32m~/.conda/envs/ml/lib/python3.8/site-packages/openml/_api_calls.py\u001b[0m in \u001b[0;36m_perform_api_call\u001b[0;34m(call, request_method, data, file_elements)\u001b[0m\n\u001b[1;32m     58\u001b[0m         \u001b[0mresponse\u001b[0m \u001b[0;34m=\u001b[0m \u001b[0m__read_url_files\u001b[0m\u001b[0;34m(\u001b[0m\u001b[0murl\u001b[0m\u001b[0;34m,\u001b[0m \u001b[0mdata\u001b[0m\u001b[0;34m=\u001b[0m\u001b[0mdata\u001b[0m\u001b[0;34m,\u001b[0m \u001b[0mfile_elements\u001b[0m\u001b[0;34m=\u001b[0m\u001b[0mfile_elements\u001b[0m\u001b[0;34m)\u001b[0m\u001b[0;34m\u001b[0m\u001b[0;34m\u001b[0m\u001b[0m\n\u001b[1;32m     59\u001b[0m     \u001b[0;32melse\u001b[0m\u001b[0;34m:\u001b[0m\u001b[0;34m\u001b[0m\u001b[0;34m\u001b[0m\u001b[0m\n\u001b[0;32m---> 60\u001b[0;31m         \u001b[0mresponse\u001b[0m \u001b[0;34m=\u001b[0m \u001b[0m__read_url\u001b[0m\u001b[0;34m(\u001b[0m\u001b[0murl\u001b[0m\u001b[0;34m,\u001b[0m \u001b[0mrequest_method\u001b[0m\u001b[0;34m,\u001b[0m \u001b[0mdata\u001b[0m\u001b[0;34m)\u001b[0m\u001b[0;34m\u001b[0m\u001b[0;34m\u001b[0m\u001b[0m\n\u001b[0m\u001b[1;32m     61\u001b[0m \u001b[0;34m\u001b[0m\u001b[0m\n\u001b[1;32m     62\u001b[0m     \u001b[0m__check_response\u001b[0m\u001b[0;34m(\u001b[0m\u001b[0mresponse\u001b[0m\u001b[0;34m,\u001b[0m \u001b[0murl\u001b[0m\u001b[0;34m,\u001b[0m \u001b[0mfile_elements\u001b[0m\u001b[0;34m)\u001b[0m\u001b[0;34m\u001b[0m\u001b[0;34m\u001b[0m\u001b[0m\n",
      "\u001b[0;32m~/.conda/envs/ml/lib/python3.8/site-packages/openml/_api_calls.py\u001b[0m in \u001b[0;36m__read_url\u001b[0;34m(url, request_method, data)\u001b[0m\n\u001b[1;32m    179\u001b[0m         \u001b[0mdata\u001b[0m\u001b[0;34m[\u001b[0m\u001b[0;34m\"api_key\"\u001b[0m\u001b[0;34m]\u001b[0m \u001b[0;34m=\u001b[0m \u001b[0mconfig\u001b[0m\u001b[0;34m.\u001b[0m\u001b[0mapikey\u001b[0m\u001b[0;34m\u001b[0m\u001b[0;34m\u001b[0m\u001b[0m\n\u001b[1;32m    180\u001b[0m \u001b[0;34m\u001b[0m\u001b[0m\n\u001b[0;32m--> 181\u001b[0;31m     \u001b[0;32mreturn\u001b[0m \u001b[0m__send_request\u001b[0m\u001b[0;34m(\u001b[0m\u001b[0mrequest_method\u001b[0m\u001b[0;34m=\u001b[0m\u001b[0mrequest_method\u001b[0m\u001b[0;34m,\u001b[0m \u001b[0murl\u001b[0m\u001b[0;34m=\u001b[0m\u001b[0murl\u001b[0m\u001b[0;34m,\u001b[0m \u001b[0mdata\u001b[0m\u001b[0;34m=\u001b[0m\u001b[0mdata\u001b[0m\u001b[0;34m)\u001b[0m\u001b[0;34m\u001b[0m\u001b[0;34m\u001b[0m\u001b[0m\n\u001b[0m\u001b[1;32m    182\u001b[0m \u001b[0;34m\u001b[0m\u001b[0m\n\u001b[1;32m    183\u001b[0m \u001b[0;34m\u001b[0m\u001b[0m\n",
      "\u001b[0;32m~/.conda/envs/ml/lib/python3.8/site-packages/openml/_api_calls.py\u001b[0m in \u001b[0;36m__send_request\u001b[0;34m(request_method, url, data, files)\u001b[0m\n\u001b[1;32m    192\u001b[0m             \u001b[0;32mtry\u001b[0m\u001b[0;34m:\u001b[0m\u001b[0;34m\u001b[0m\u001b[0;34m\u001b[0m\u001b[0m\n\u001b[1;32m    193\u001b[0m                 \u001b[0;32mif\u001b[0m \u001b[0mrequest_method\u001b[0m \u001b[0;34m==\u001b[0m \u001b[0;34m\"get\"\u001b[0m\u001b[0;34m:\u001b[0m\u001b[0;34m\u001b[0m\u001b[0;34m\u001b[0m\u001b[0m\n\u001b[0;32m--> 194\u001b[0;31m                     \u001b[0mresponse\u001b[0m \u001b[0;34m=\u001b[0m \u001b[0msession\u001b[0m\u001b[0;34m.\u001b[0m\u001b[0mget\u001b[0m\u001b[0;34m(\u001b[0m\u001b[0murl\u001b[0m\u001b[0;34m,\u001b[0m \u001b[0mparams\u001b[0m\u001b[0;34m=\u001b[0m\u001b[0mdata\u001b[0m\u001b[0;34m)\u001b[0m\u001b[0;34m\u001b[0m\u001b[0;34m\u001b[0m\u001b[0m\n\u001b[0m\u001b[1;32m    195\u001b[0m                 \u001b[0;32melif\u001b[0m \u001b[0mrequest_method\u001b[0m \u001b[0;34m==\u001b[0m \u001b[0;34m\"delete\"\u001b[0m\u001b[0;34m:\u001b[0m\u001b[0;34m\u001b[0m\u001b[0;34m\u001b[0m\u001b[0m\n\u001b[1;32m    196\u001b[0m                     \u001b[0mresponse\u001b[0m \u001b[0;34m=\u001b[0m \u001b[0msession\u001b[0m\u001b[0;34m.\u001b[0m\u001b[0mdelete\u001b[0m\u001b[0;34m(\u001b[0m\u001b[0murl\u001b[0m\u001b[0;34m,\u001b[0m \u001b[0mparams\u001b[0m\u001b[0;34m=\u001b[0m\u001b[0mdata\u001b[0m\u001b[0;34m)\u001b[0m\u001b[0;34m\u001b[0m\u001b[0;34m\u001b[0m\u001b[0m\n",
      "\u001b[0;32m~/.conda/envs/ml/lib/python3.8/site-packages/requests/sessions.py\u001b[0m in \u001b[0;36mget\u001b[0;34m(self, url, **kwargs)\u001b[0m\n\u001b[1;32m    541\u001b[0m \u001b[0;34m\u001b[0m\u001b[0m\n\u001b[1;32m    542\u001b[0m         \u001b[0mkwargs\u001b[0m\u001b[0;34m.\u001b[0m\u001b[0msetdefault\u001b[0m\u001b[0;34m(\u001b[0m\u001b[0;34m'allow_redirects'\u001b[0m\u001b[0;34m,\u001b[0m \u001b[0;32mTrue\u001b[0m\u001b[0;34m)\u001b[0m\u001b[0;34m\u001b[0m\u001b[0;34m\u001b[0m\u001b[0m\n\u001b[0;32m--> 543\u001b[0;31m         \u001b[0;32mreturn\u001b[0m \u001b[0mself\u001b[0m\u001b[0;34m.\u001b[0m\u001b[0mrequest\u001b[0m\u001b[0;34m(\u001b[0m\u001b[0;34m'GET'\u001b[0m\u001b[0;34m,\u001b[0m \u001b[0murl\u001b[0m\u001b[0;34m,\u001b[0m \u001b[0;34m**\u001b[0m\u001b[0mkwargs\u001b[0m\u001b[0;34m)\u001b[0m\u001b[0;34m\u001b[0m\u001b[0;34m\u001b[0m\u001b[0m\n\u001b[0m\u001b[1;32m    544\u001b[0m \u001b[0;34m\u001b[0m\u001b[0m\n\u001b[1;32m    545\u001b[0m     \u001b[0;32mdef\u001b[0m \u001b[0moptions\u001b[0m\u001b[0;34m(\u001b[0m\u001b[0mself\u001b[0m\u001b[0;34m,\u001b[0m \u001b[0murl\u001b[0m\u001b[0;34m,\u001b[0m \u001b[0;34m**\u001b[0m\u001b[0mkwargs\u001b[0m\u001b[0;34m)\u001b[0m\u001b[0;34m:\u001b[0m\u001b[0;34m\u001b[0m\u001b[0;34m\u001b[0m\u001b[0m\n",
      "\u001b[0;32m~/.conda/envs/ml/lib/python3.8/site-packages/requests/sessions.py\u001b[0m in \u001b[0;36mrequest\u001b[0;34m(self, method, url, params, data, headers, cookies, files, auth, timeout, allow_redirects, proxies, hooks, stream, verify, cert, json)\u001b[0m\n\u001b[1;32m    528\u001b[0m         }\n\u001b[1;32m    529\u001b[0m         \u001b[0msend_kwargs\u001b[0m\u001b[0;34m.\u001b[0m\u001b[0mupdate\u001b[0m\u001b[0;34m(\u001b[0m\u001b[0msettings\u001b[0m\u001b[0;34m)\u001b[0m\u001b[0;34m\u001b[0m\u001b[0;34m\u001b[0m\u001b[0m\n\u001b[0;32m--> 530\u001b[0;31m         \u001b[0mresp\u001b[0m \u001b[0;34m=\u001b[0m \u001b[0mself\u001b[0m\u001b[0;34m.\u001b[0m\u001b[0msend\u001b[0m\u001b[0;34m(\u001b[0m\u001b[0mprep\u001b[0m\u001b[0;34m,\u001b[0m \u001b[0;34m**\u001b[0m\u001b[0msend_kwargs\u001b[0m\u001b[0;34m)\u001b[0m\u001b[0;34m\u001b[0m\u001b[0;34m\u001b[0m\u001b[0m\n\u001b[0m\u001b[1;32m    531\u001b[0m \u001b[0;34m\u001b[0m\u001b[0m\n\u001b[1;32m    532\u001b[0m         \u001b[0;32mreturn\u001b[0m \u001b[0mresp\u001b[0m\u001b[0;34m\u001b[0m\u001b[0;34m\u001b[0m\u001b[0m\n",
      "\u001b[0;32m~/.conda/envs/ml/lib/python3.8/site-packages/requests/sessions.py\u001b[0m in \u001b[0;36msend\u001b[0;34m(self, request, **kwargs)\u001b[0m\n\u001b[1;32m    641\u001b[0m \u001b[0;34m\u001b[0m\u001b[0m\n\u001b[1;32m    642\u001b[0m         \u001b[0;31m# Send the request\u001b[0m\u001b[0;34m\u001b[0m\u001b[0;34m\u001b[0m\u001b[0;34m\u001b[0m\u001b[0m\n\u001b[0;32m--> 643\u001b[0;31m         \u001b[0mr\u001b[0m \u001b[0;34m=\u001b[0m \u001b[0madapter\u001b[0m\u001b[0;34m.\u001b[0m\u001b[0msend\u001b[0m\u001b[0;34m(\u001b[0m\u001b[0mrequest\u001b[0m\u001b[0;34m,\u001b[0m \u001b[0;34m**\u001b[0m\u001b[0mkwargs\u001b[0m\u001b[0;34m)\u001b[0m\u001b[0;34m\u001b[0m\u001b[0;34m\u001b[0m\u001b[0m\n\u001b[0m\u001b[1;32m    644\u001b[0m \u001b[0;34m\u001b[0m\u001b[0m\n\u001b[1;32m    645\u001b[0m         \u001b[0;31m# Total elapsed time of the request (approximately)\u001b[0m\u001b[0;34m\u001b[0m\u001b[0;34m\u001b[0m\u001b[0;34m\u001b[0m\u001b[0m\n",
      "\u001b[0;32m~/.conda/envs/ml/lib/python3.8/site-packages/requests/adapters.py\u001b[0m in \u001b[0;36msend\u001b[0;34m(self, request, stream, timeout, verify, cert, proxies)\u001b[0m\n\u001b[1;32m    437\u001b[0m         \u001b[0;32mtry\u001b[0m\u001b[0;34m:\u001b[0m\u001b[0;34m\u001b[0m\u001b[0;34m\u001b[0m\u001b[0m\n\u001b[1;32m    438\u001b[0m             \u001b[0;32mif\u001b[0m \u001b[0;32mnot\u001b[0m \u001b[0mchunked\u001b[0m\u001b[0;34m:\u001b[0m\u001b[0;34m\u001b[0m\u001b[0;34m\u001b[0m\u001b[0m\n\u001b[0;32m--> 439\u001b[0;31m                 resp = conn.urlopen(\n\u001b[0m\u001b[1;32m    440\u001b[0m                     \u001b[0mmethod\u001b[0m\u001b[0;34m=\u001b[0m\u001b[0mrequest\u001b[0m\u001b[0;34m.\u001b[0m\u001b[0mmethod\u001b[0m\u001b[0;34m,\u001b[0m\u001b[0;34m\u001b[0m\u001b[0;34m\u001b[0m\u001b[0m\n\u001b[1;32m    441\u001b[0m                     \u001b[0murl\u001b[0m\u001b[0;34m=\u001b[0m\u001b[0murl\u001b[0m\u001b[0;34m,\u001b[0m\u001b[0;34m\u001b[0m\u001b[0;34m\u001b[0m\u001b[0m\n",
      "\u001b[0;32m~/.conda/envs/ml/lib/python3.8/site-packages/urllib3/connectionpool.py\u001b[0m in \u001b[0;36murlopen\u001b[0;34m(self, method, url, body, headers, retries, redirect, assert_same_host, timeout, pool_timeout, release_conn, chunked, body_pos, **response_kw)\u001b[0m\n\u001b[1;32m    663\u001b[0m \u001b[0;34m\u001b[0m\u001b[0m\n\u001b[1;32m    664\u001b[0m             \u001b[0;31m# Make the request on the httplib connection object.\u001b[0m\u001b[0;34m\u001b[0m\u001b[0;34m\u001b[0m\u001b[0;34m\u001b[0m\u001b[0m\n\u001b[0;32m--> 665\u001b[0;31m             httplib_response = self._make_request(\n\u001b[0m\u001b[1;32m    666\u001b[0m                 \u001b[0mconn\u001b[0m\u001b[0;34m,\u001b[0m\u001b[0;34m\u001b[0m\u001b[0;34m\u001b[0m\u001b[0m\n\u001b[1;32m    667\u001b[0m                 \u001b[0mmethod\u001b[0m\u001b[0;34m,\u001b[0m\u001b[0;34m\u001b[0m\u001b[0;34m\u001b[0m\u001b[0m\n",
      "\u001b[0;32m~/.conda/envs/ml/lib/python3.8/site-packages/urllib3/connectionpool.py\u001b[0m in \u001b[0;36m_make_request\u001b[0;34m(self, conn, method, url, timeout, chunked, **httplib_request_kw)\u001b[0m\n\u001b[1;32m    419\u001b[0m                     \u001b[0;31m# Python 3 (including for exceptions like SystemExit).\u001b[0m\u001b[0;34m\u001b[0m\u001b[0;34m\u001b[0m\u001b[0;34m\u001b[0m\u001b[0m\n\u001b[1;32m    420\u001b[0m                     \u001b[0;31m# Otherwise it looks like a bug in the code.\u001b[0m\u001b[0;34m\u001b[0m\u001b[0;34m\u001b[0m\u001b[0;34m\u001b[0m\u001b[0m\n\u001b[0;32m--> 421\u001b[0;31m                     \u001b[0msix\u001b[0m\u001b[0;34m.\u001b[0m\u001b[0mraise_from\u001b[0m\u001b[0;34m(\u001b[0m\u001b[0me\u001b[0m\u001b[0;34m,\u001b[0m \u001b[0;32mNone\u001b[0m\u001b[0;34m)\u001b[0m\u001b[0;34m\u001b[0m\u001b[0;34m\u001b[0m\u001b[0m\n\u001b[0m\u001b[1;32m    422\u001b[0m         \u001b[0;32mexcept\u001b[0m \u001b[0;34m(\u001b[0m\u001b[0mSocketTimeout\u001b[0m\u001b[0;34m,\u001b[0m \u001b[0mBaseSSLError\u001b[0m\u001b[0;34m,\u001b[0m \u001b[0mSocketError\u001b[0m\u001b[0;34m)\u001b[0m \u001b[0;32mas\u001b[0m \u001b[0me\u001b[0m\u001b[0;34m:\u001b[0m\u001b[0;34m\u001b[0m\u001b[0;34m\u001b[0m\u001b[0m\n\u001b[1;32m    423\u001b[0m             \u001b[0mself\u001b[0m\u001b[0;34m.\u001b[0m\u001b[0m_raise_timeout\u001b[0m\u001b[0;34m(\u001b[0m\u001b[0merr\u001b[0m\u001b[0;34m=\u001b[0m\u001b[0me\u001b[0m\u001b[0;34m,\u001b[0m \u001b[0murl\u001b[0m\u001b[0;34m=\u001b[0m\u001b[0murl\u001b[0m\u001b[0;34m,\u001b[0m \u001b[0mtimeout_value\u001b[0m\u001b[0;34m=\u001b[0m\u001b[0mread_timeout\u001b[0m\u001b[0;34m)\u001b[0m\u001b[0;34m\u001b[0m\u001b[0;34m\u001b[0m\u001b[0m\n",
      "\u001b[0;32m~/.conda/envs/ml/lib/python3.8/site-packages/urllib3/packages/six.py\u001b[0m in \u001b[0;36mraise_from\u001b[0;34m(value, from_value)\u001b[0m\n",
      "\u001b[0;32m~/.conda/envs/ml/lib/python3.8/site-packages/urllib3/connectionpool.py\u001b[0m in \u001b[0;36m_make_request\u001b[0;34m(self, conn, method, url, timeout, chunked, **httplib_request_kw)\u001b[0m\n\u001b[1;32m    414\u001b[0m                 \u001b[0;31m# Python 3\u001b[0m\u001b[0;34m\u001b[0m\u001b[0;34m\u001b[0m\u001b[0;34m\u001b[0m\u001b[0m\n\u001b[1;32m    415\u001b[0m                 \u001b[0;32mtry\u001b[0m\u001b[0;34m:\u001b[0m\u001b[0;34m\u001b[0m\u001b[0;34m\u001b[0m\u001b[0m\n\u001b[0;32m--> 416\u001b[0;31m                     \u001b[0mhttplib_response\u001b[0m \u001b[0;34m=\u001b[0m \u001b[0mconn\u001b[0m\u001b[0;34m.\u001b[0m\u001b[0mgetresponse\u001b[0m\u001b[0;34m(\u001b[0m\u001b[0;34m)\u001b[0m\u001b[0;34m\u001b[0m\u001b[0;34m\u001b[0m\u001b[0m\n\u001b[0m\u001b[1;32m    417\u001b[0m                 \u001b[0;32mexcept\u001b[0m \u001b[0mBaseException\u001b[0m \u001b[0;32mas\u001b[0m \u001b[0me\u001b[0m\u001b[0;34m:\u001b[0m\u001b[0;34m\u001b[0m\u001b[0;34m\u001b[0m\u001b[0m\n\u001b[1;32m    418\u001b[0m                     \u001b[0;31m# Remove the TypeError from the exception chain in\u001b[0m\u001b[0;34m\u001b[0m\u001b[0;34m\u001b[0m\u001b[0;34m\u001b[0m\u001b[0m\n",
      "\u001b[0;32m~/.conda/envs/ml/lib/python3.8/http/client.py\u001b[0m in \u001b[0;36mgetresponse\u001b[0;34m(self)\u001b[0m\n\u001b[1;32m   1320\u001b[0m         \u001b[0;32mtry\u001b[0m\u001b[0;34m:\u001b[0m\u001b[0;34m\u001b[0m\u001b[0;34m\u001b[0m\u001b[0m\n\u001b[1;32m   1321\u001b[0m             \u001b[0;32mtry\u001b[0m\u001b[0;34m:\u001b[0m\u001b[0;34m\u001b[0m\u001b[0;34m\u001b[0m\u001b[0m\n\u001b[0;32m-> 1322\u001b[0;31m                 \u001b[0mresponse\u001b[0m\u001b[0;34m.\u001b[0m\u001b[0mbegin\u001b[0m\u001b[0;34m(\u001b[0m\u001b[0;34m)\u001b[0m\u001b[0;34m\u001b[0m\u001b[0;34m\u001b[0m\u001b[0m\n\u001b[0m\u001b[1;32m   1323\u001b[0m             \u001b[0;32mexcept\u001b[0m \u001b[0mConnectionError\u001b[0m\u001b[0;34m:\u001b[0m\u001b[0;34m\u001b[0m\u001b[0;34m\u001b[0m\u001b[0m\n\u001b[1;32m   1324\u001b[0m                 \u001b[0mself\u001b[0m\u001b[0;34m.\u001b[0m\u001b[0mclose\u001b[0m\u001b[0;34m(\u001b[0m\u001b[0;34m)\u001b[0m\u001b[0;34m\u001b[0m\u001b[0;34m\u001b[0m\u001b[0m\n",
      "\u001b[0;32m~/.conda/envs/ml/lib/python3.8/http/client.py\u001b[0m in \u001b[0;36mbegin\u001b[0;34m(self)\u001b[0m\n\u001b[1;32m    301\u001b[0m         \u001b[0;31m# read until we get a non-100 response\u001b[0m\u001b[0;34m\u001b[0m\u001b[0;34m\u001b[0m\u001b[0;34m\u001b[0m\u001b[0m\n\u001b[1;32m    302\u001b[0m         \u001b[0;32mwhile\u001b[0m \u001b[0;32mTrue\u001b[0m\u001b[0;34m:\u001b[0m\u001b[0;34m\u001b[0m\u001b[0;34m\u001b[0m\u001b[0m\n\u001b[0;32m--> 303\u001b[0;31m             \u001b[0mversion\u001b[0m\u001b[0;34m,\u001b[0m \u001b[0mstatus\u001b[0m\u001b[0;34m,\u001b[0m \u001b[0mreason\u001b[0m \u001b[0;34m=\u001b[0m \u001b[0mself\u001b[0m\u001b[0;34m.\u001b[0m\u001b[0m_read_status\u001b[0m\u001b[0;34m(\u001b[0m\u001b[0;34m)\u001b[0m\u001b[0;34m\u001b[0m\u001b[0;34m\u001b[0m\u001b[0m\n\u001b[0m\u001b[1;32m    304\u001b[0m             \u001b[0;32mif\u001b[0m \u001b[0mstatus\u001b[0m \u001b[0;34m!=\u001b[0m \u001b[0mCONTINUE\u001b[0m\u001b[0;34m:\u001b[0m\u001b[0;34m\u001b[0m\u001b[0;34m\u001b[0m\u001b[0m\n\u001b[1;32m    305\u001b[0m                 \u001b[0;32mbreak\u001b[0m\u001b[0;34m\u001b[0m\u001b[0;34m\u001b[0m\u001b[0m\n",
      "\u001b[0;32m~/.conda/envs/ml/lib/python3.8/http/client.py\u001b[0m in \u001b[0;36m_read_status\u001b[0;34m(self)\u001b[0m\n\u001b[1;32m    262\u001b[0m \u001b[0;34m\u001b[0m\u001b[0m\n\u001b[1;32m    263\u001b[0m     \u001b[0;32mdef\u001b[0m \u001b[0m_read_status\u001b[0m\u001b[0;34m(\u001b[0m\u001b[0mself\u001b[0m\u001b[0;34m)\u001b[0m\u001b[0;34m:\u001b[0m\u001b[0;34m\u001b[0m\u001b[0;34m\u001b[0m\u001b[0m\n\u001b[0;32m--> 264\u001b[0;31m         \u001b[0mline\u001b[0m \u001b[0;34m=\u001b[0m \u001b[0mstr\u001b[0m\u001b[0;34m(\u001b[0m\u001b[0mself\u001b[0m\u001b[0;34m.\u001b[0m\u001b[0mfp\u001b[0m\u001b[0;34m.\u001b[0m\u001b[0mreadline\u001b[0m\u001b[0;34m(\u001b[0m\u001b[0m_MAXLINE\u001b[0m \u001b[0;34m+\u001b[0m \u001b[0;36m1\u001b[0m\u001b[0;34m)\u001b[0m\u001b[0;34m,\u001b[0m \u001b[0;34m\"iso-8859-1\"\u001b[0m\u001b[0;34m)\u001b[0m\u001b[0;34m\u001b[0m\u001b[0;34m\u001b[0m\u001b[0m\n\u001b[0m\u001b[1;32m    265\u001b[0m         \u001b[0;32mif\u001b[0m \u001b[0mlen\u001b[0m\u001b[0;34m(\u001b[0m\u001b[0mline\u001b[0m\u001b[0;34m)\u001b[0m \u001b[0;34m>\u001b[0m \u001b[0m_MAXLINE\u001b[0m\u001b[0;34m:\u001b[0m\u001b[0;34m\u001b[0m\u001b[0;34m\u001b[0m\u001b[0m\n\u001b[1;32m    266\u001b[0m             \u001b[0;32mraise\u001b[0m \u001b[0mLineTooLong\u001b[0m\u001b[0;34m(\u001b[0m\u001b[0;34m\"status line\"\u001b[0m\u001b[0;34m)\u001b[0m\u001b[0;34m\u001b[0m\u001b[0;34m\u001b[0m\u001b[0m\n",
      "\u001b[0;32m~/.conda/envs/ml/lib/python3.8/socket.py\u001b[0m in \u001b[0;36mreadinto\u001b[0;34m(self, b)\u001b[0m\n\u001b[1;32m    667\u001b[0m         \u001b[0;32mwhile\u001b[0m \u001b[0;32mTrue\u001b[0m\u001b[0;34m:\u001b[0m\u001b[0;34m\u001b[0m\u001b[0;34m\u001b[0m\u001b[0m\n\u001b[1;32m    668\u001b[0m             \u001b[0;32mtry\u001b[0m\u001b[0;34m:\u001b[0m\u001b[0;34m\u001b[0m\u001b[0;34m\u001b[0m\u001b[0m\n\u001b[0;32m--> 669\u001b[0;31m                 \u001b[0;32mreturn\u001b[0m \u001b[0mself\u001b[0m\u001b[0;34m.\u001b[0m\u001b[0m_sock\u001b[0m\u001b[0;34m.\u001b[0m\u001b[0mrecv_into\u001b[0m\u001b[0;34m(\u001b[0m\u001b[0mb\u001b[0m\u001b[0;34m)\u001b[0m\u001b[0;34m\u001b[0m\u001b[0;34m\u001b[0m\u001b[0m\n\u001b[0m\u001b[1;32m    670\u001b[0m             \u001b[0;32mexcept\u001b[0m \u001b[0mtimeout\u001b[0m\u001b[0;34m:\u001b[0m\u001b[0;34m\u001b[0m\u001b[0;34m\u001b[0m\u001b[0m\n\u001b[1;32m    671\u001b[0m                 \u001b[0mself\u001b[0m\u001b[0;34m.\u001b[0m\u001b[0m_timeout_occurred\u001b[0m \u001b[0;34m=\u001b[0m \u001b[0;32mTrue\u001b[0m\u001b[0;34m\u001b[0m\u001b[0;34m\u001b[0m\u001b[0m\n",
      "\u001b[0;32m~/.conda/envs/ml/lib/python3.8/ssl.py\u001b[0m in \u001b[0;36mrecv_into\u001b[0;34m(self, buffer, nbytes, flags)\u001b[0m\n\u001b[1;32m   1239\u001b[0m                   \u001b[0;34m\"non-zero flags not allowed in calls to recv_into() on %s\"\u001b[0m \u001b[0;34m%\u001b[0m\u001b[0;34m\u001b[0m\u001b[0;34m\u001b[0m\u001b[0m\n\u001b[1;32m   1240\u001b[0m                   self.__class__)\n\u001b[0;32m-> 1241\u001b[0;31m             \u001b[0;32mreturn\u001b[0m \u001b[0mself\u001b[0m\u001b[0;34m.\u001b[0m\u001b[0mread\u001b[0m\u001b[0;34m(\u001b[0m\u001b[0mnbytes\u001b[0m\u001b[0;34m,\u001b[0m \u001b[0mbuffer\u001b[0m\u001b[0;34m)\u001b[0m\u001b[0;34m\u001b[0m\u001b[0;34m\u001b[0m\u001b[0m\n\u001b[0m\u001b[1;32m   1242\u001b[0m         \u001b[0;32melse\u001b[0m\u001b[0;34m:\u001b[0m\u001b[0;34m\u001b[0m\u001b[0;34m\u001b[0m\u001b[0m\n\u001b[1;32m   1243\u001b[0m             \u001b[0;32mreturn\u001b[0m \u001b[0msuper\u001b[0m\u001b[0;34m(\u001b[0m\u001b[0;34m)\u001b[0m\u001b[0;34m.\u001b[0m\u001b[0mrecv_into\u001b[0m\u001b[0;34m(\u001b[0m\u001b[0mbuffer\u001b[0m\u001b[0;34m,\u001b[0m \u001b[0mnbytes\u001b[0m\u001b[0;34m,\u001b[0m \u001b[0mflags\u001b[0m\u001b[0;34m)\u001b[0m\u001b[0;34m\u001b[0m\u001b[0;34m\u001b[0m\u001b[0m\n",
      "\u001b[0;32m~/.conda/envs/ml/lib/python3.8/ssl.py\u001b[0m in \u001b[0;36mread\u001b[0;34m(self, len, buffer)\u001b[0m\n\u001b[1;32m   1097\u001b[0m         \u001b[0;32mtry\u001b[0m\u001b[0;34m:\u001b[0m\u001b[0;34m\u001b[0m\u001b[0;34m\u001b[0m\u001b[0m\n\u001b[1;32m   1098\u001b[0m             \u001b[0;32mif\u001b[0m \u001b[0mbuffer\u001b[0m \u001b[0;32mis\u001b[0m \u001b[0;32mnot\u001b[0m \u001b[0;32mNone\u001b[0m\u001b[0;34m:\u001b[0m\u001b[0;34m\u001b[0m\u001b[0;34m\u001b[0m\u001b[0m\n\u001b[0;32m-> 1099\u001b[0;31m                 \u001b[0;32mreturn\u001b[0m \u001b[0mself\u001b[0m\u001b[0;34m.\u001b[0m\u001b[0m_sslobj\u001b[0m\u001b[0;34m.\u001b[0m\u001b[0mread\u001b[0m\u001b[0;34m(\u001b[0m\u001b[0mlen\u001b[0m\u001b[0;34m,\u001b[0m \u001b[0mbuffer\u001b[0m\u001b[0;34m)\u001b[0m\u001b[0;34m\u001b[0m\u001b[0;34m\u001b[0m\u001b[0m\n\u001b[0m\u001b[1;32m   1100\u001b[0m             \u001b[0;32melse\u001b[0m\u001b[0;34m:\u001b[0m\u001b[0;34m\u001b[0m\u001b[0;34m\u001b[0m\u001b[0m\n\u001b[1;32m   1101\u001b[0m                 \u001b[0;32mreturn\u001b[0m \u001b[0mself\u001b[0m\u001b[0;34m.\u001b[0m\u001b[0m_sslobj\u001b[0m\u001b[0;34m.\u001b[0m\u001b[0mread\u001b[0m\u001b[0;34m(\u001b[0m\u001b[0mlen\u001b[0m\u001b[0;34m)\u001b[0m\u001b[0;34m\u001b[0m\u001b[0;34m\u001b[0m\u001b[0m\n",
      "\u001b[0;31mKeyboardInterrupt\u001b[0m: "
     ]
    }
   ],
   "source": [
    "with multiprocessing.Pool(processes=n_procs) as pool:\n",
    "\n",
    "    start_at = 0\n",
    "\n",
    "    output_file = f\"metrics_{int(time.time())}.dat\"\n",
    "    logging.info(f\"Output to {output_file}\")\n",
    "\n",
    "    promises = []\n",
    "    counter = 0\n",
    "    \n",
    "    if type(TASKS) is int:\n",
    "        iter_tasks = [None]*TASKS\n",
    "    else:\n",
    "        iter_tasks = TASKS\n",
    "    \n",
    "    for model_id in MODELS.keys():\n",
    "        for task_id in iter_tasks:\n",
    "            tmp, counter = get_cv_metrics_for_model_and_task(model_id, task_id, pool, 1, counter, start_at)\n",
    "            promises.extend(tmp)\n",
    "            logging.info(f\"{len(promises)} promises submitted to pool ({model_id, task_id})\")\n",
    "\n",
    "    logging.info(f\"{len(promises)} promises submitted to pool\")\n",
    "\n",
    "    data = []\n",
    "    for promise in promises:\n",
    "        data.append(promise.get())\n",
    "        logging.info(f\"Finished promises: {len(data)}/{len(promises)} ({len(data)/len(promises)*100:.2f}%)\")\n",
    "        df = pandas.DataFrame(data)\n",
    "        dump(df, output_file)"
   ]
  },
  {
   "cell_type": "code",
   "execution_count": 16,
   "metadata": {},
   "outputs": [],
   "source": [
    "if not is_notebook():\n",
    "    exit()"
   ]
  },
  {
   "cell_type": "markdown",
   "metadata": {},
   "source": [
    "# Analysis"
   ]
  },
  {
   "cell_type": "code",
   "execution_count": 7,
   "metadata": {},
   "outputs": [],
   "source": [
    "df = load(\"/home/maximl/Data/Experiment_data/results/riverrel/datasets/random/metrics_1601149607.dat\")"
   ]
  },
  {
   "cell_type": "code",
   "execution_count": 11,
   "metadata": {},
   "outputs": [
    {
     "data": {
      "text/html": [
       "<div>\n",
       "<style scoped>\n",
       "    .dataframe tbody tr th:only-of-type {\n",
       "        vertical-align: middle;\n",
       "    }\n",
       "\n",
       "    .dataframe tbody tr th {\n",
       "        vertical-align: top;\n",
       "    }\n",
       "\n",
       "    .dataframe thead th {\n",
       "        text-align: right;\n",
       "    }\n",
       "</style>\n",
       "<table border=\"1\" class=\"dataframe\">\n",
       "  <thead>\n",
       "    <tr style=\"text-align: right;\">\n",
       "      <th></th>\n",
       "      <th>fold</th>\n",
       "      <th>repeat</th>\n",
       "      <th>model_id</th>\n",
       "      <th>task_id</th>\n",
       "      <th>accuracy</th>\n",
       "      <th>balanced_accuracy</th>\n",
       "      <th>f1</th>\n",
       "      <th>ece</th>\n",
       "      <th>ece_balanced</th>\n",
       "      <th>peace</th>\n",
       "      <th>class_wise_ece</th>\n",
       "      <th>class_wise_peace</th>\n",
       "    </tr>\n",
       "  </thead>\n",
       "  <tbody>\n",
       "    <tr>\n",
       "      <th>0</th>\n",
       "      <td>0</td>\n",
       "      <td>0</td>\n",
       "      <td>rf</td>\n",
       "      <td>None</td>\n",
       "      <td>0.6875</td>\n",
       "      <td>0.609091</td>\n",
       "      <td>0.676932</td>\n",
       "      <td>0.270000</td>\n",
       "      <td>0.285625</td>\n",
       "      <td>0.238462</td>\n",
       "      <td>0.365833</td>\n",
       "      <td>0.275059</td>\n",
       "    </tr>\n",
       "    <tr>\n",
       "      <th>1</th>\n",
       "      <td>1</td>\n",
       "      <td>0</td>\n",
       "      <td>rf</td>\n",
       "      <td>None</td>\n",
       "      <td>0.8125</td>\n",
       "      <td>0.754545</td>\n",
       "      <td>0.806159</td>\n",
       "      <td>0.281875</td>\n",
       "      <td>0.281875</td>\n",
       "      <td>0.223394</td>\n",
       "      <td>0.342083</td>\n",
       "      <td>0.254650</td>\n",
       "    </tr>\n",
       "    <tr>\n",
       "      <th>2</th>\n",
       "      <td>2</td>\n",
       "      <td>0</td>\n",
       "      <td>rf</td>\n",
       "      <td>None</td>\n",
       "      <td>0.7500</td>\n",
       "      <td>0.654545</td>\n",
       "      <td>0.729167</td>\n",
       "      <td>0.317500</td>\n",
       "      <td>0.301875</td>\n",
       "      <td>0.288443</td>\n",
       "      <td>0.356667</td>\n",
       "      <td>0.304324</td>\n",
       "    </tr>\n",
       "    <tr>\n",
       "      <th>3</th>\n",
       "      <td>3</td>\n",
       "      <td>0</td>\n",
       "      <td>rf</td>\n",
       "      <td>None</td>\n",
       "      <td>0.6250</td>\n",
       "      <td>0.563636</td>\n",
       "      <td>0.625000</td>\n",
       "      <td>0.323125</td>\n",
       "      <td>0.291875</td>\n",
       "      <td>0.289090</td>\n",
       "      <td>0.355000</td>\n",
       "      <td>0.288638</td>\n",
       "    </tr>\n",
       "    <tr>\n",
       "      <th>4</th>\n",
       "      <td>4</td>\n",
       "      <td>0</td>\n",
       "      <td>rf</td>\n",
       "      <td>None</td>\n",
       "      <td>0.8125</td>\n",
       "      <td>0.754545</td>\n",
       "      <td>0.806159</td>\n",
       "      <td>0.301250</td>\n",
       "      <td>0.332500</td>\n",
       "      <td>0.287512</td>\n",
       "      <td>0.365833</td>\n",
       "      <td>0.288427</td>\n",
       "    </tr>\n",
       "    <tr>\n",
       "      <th>...</th>\n",
       "      <td>...</td>\n",
       "      <td>...</td>\n",
       "      <td>...</td>\n",
       "      <td>...</td>\n",
       "      <td>...</td>\n",
       "      <td>...</td>\n",
       "      <td>...</td>\n",
       "      <td>...</td>\n",
       "      <td>...</td>\n",
       "      <td>...</td>\n",
       "      <td>...</td>\n",
       "      <td>...</td>\n",
       "    </tr>\n",
       "    <tr>\n",
       "      <th>228</th>\n",
       "      <td>5</td>\n",
       "      <td>0</td>\n",
       "      <td>dectree</td>\n",
       "      <td>None</td>\n",
       "      <td>0.7800</td>\n",
       "      <td>0.778846</td>\n",
       "      <td>0.779735</td>\n",
       "      <td>0.220000</td>\n",
       "      <td>0.221154</td>\n",
       "      <td>0.241741</td>\n",
       "      <td>0.219807</td>\n",
       "      <td>0.240690</td>\n",
       "    </tr>\n",
       "    <tr>\n",
       "      <th>229</th>\n",
       "      <td>6</td>\n",
       "      <td>0</td>\n",
       "      <td>dectree</td>\n",
       "      <td>None</td>\n",
       "      <td>0.8200</td>\n",
       "      <td>0.817308</td>\n",
       "      <td>0.818909</td>\n",
       "      <td>0.180000</td>\n",
       "      <td>0.182692</td>\n",
       "      <td>0.205956</td>\n",
       "      <td>0.174877</td>\n",
       "      <td>0.199860</td>\n",
       "    </tr>\n",
       "    <tr>\n",
       "      <th>230</th>\n",
       "      <td>7</td>\n",
       "      <td>0</td>\n",
       "      <td>dectree</td>\n",
       "      <td>None</td>\n",
       "      <td>0.7800</td>\n",
       "      <td>0.782051</td>\n",
       "      <td>0.779736</td>\n",
       "      <td>0.220000</td>\n",
       "      <td>0.217949</td>\n",
       "      <td>0.238988</td>\n",
       "      <td>0.216586</td>\n",
       "      <td>0.237931</td>\n",
       "    </tr>\n",
       "    <tr>\n",
       "      <th>231</th>\n",
       "      <td>8</td>\n",
       "      <td>0</td>\n",
       "      <td>dectree</td>\n",
       "      <td>None</td>\n",
       "      <td>0.8000</td>\n",
       "      <td>0.802885</td>\n",
       "      <td>0.799359</td>\n",
       "      <td>0.200000</td>\n",
       "      <td>0.197115</td>\n",
       "      <td>0.219719</td>\n",
       "      <td>0.193182</td>\n",
       "      <td>0.216667</td>\n",
       "    </tr>\n",
       "    <tr>\n",
       "      <th>232</th>\n",
       "      <td>9</td>\n",
       "      <td>0</td>\n",
       "      <td>dectree</td>\n",
       "      <td>None</td>\n",
       "      <td>0.8800</td>\n",
       "      <td>0.883013</td>\n",
       "      <td>0.879615</td>\n",
       "      <td>0.120000</td>\n",
       "      <td>0.116987</td>\n",
       "      <td>0.145397</td>\n",
       "      <td>0.112013</td>\n",
       "      <td>0.141667</td>\n",
       "    </tr>\n",
       "  </tbody>\n",
       "</table>\n",
       "<p>233 rows × 12 columns</p>\n",
       "</div>"
      ],
      "text/plain": [
       "     fold  repeat model_id task_id  accuracy  balanced_accuracy        f1  \\\n",
       "0       0       0       rf    None    0.6875           0.609091  0.676932   \n",
       "1       1       0       rf    None    0.8125           0.754545  0.806159   \n",
       "2       2       0       rf    None    0.7500           0.654545  0.729167   \n",
       "3       3       0       rf    None    0.6250           0.563636  0.625000   \n",
       "4       4       0       rf    None    0.8125           0.754545  0.806159   \n",
       "..    ...     ...      ...     ...       ...                ...       ...   \n",
       "228     5       0  dectree    None    0.7800           0.778846  0.779735   \n",
       "229     6       0  dectree    None    0.8200           0.817308  0.818909   \n",
       "230     7       0  dectree    None    0.7800           0.782051  0.779736   \n",
       "231     8       0  dectree    None    0.8000           0.802885  0.799359   \n",
       "232     9       0  dectree    None    0.8800           0.883013  0.879615   \n",
       "\n",
       "          ece  ece_balanced     peace  class_wise_ece  class_wise_peace  \n",
       "0    0.270000      0.285625  0.238462        0.365833          0.275059  \n",
       "1    0.281875      0.281875  0.223394        0.342083          0.254650  \n",
       "2    0.317500      0.301875  0.288443        0.356667          0.304324  \n",
       "3    0.323125      0.291875  0.289090        0.355000          0.288638  \n",
       "4    0.301250      0.332500  0.287512        0.365833          0.288427  \n",
       "..        ...           ...       ...             ...               ...  \n",
       "228  0.220000      0.221154  0.241741        0.219807          0.240690  \n",
       "229  0.180000      0.182692  0.205956        0.174877          0.199860  \n",
       "230  0.220000      0.217949  0.238988        0.216586          0.237931  \n",
       "231  0.200000      0.197115  0.219719        0.193182          0.216667  \n",
       "232  0.120000      0.116987  0.145397        0.112013          0.141667  \n",
       "\n",
       "[233 rows x 12 columns]"
      ]
     },
     "execution_count": 11,
     "metadata": {},
     "output_type": "execute_result"
    }
   ],
   "source": [
    "df"
   ]
  },
  {
   "cell_type": "code",
   "execution_count": 8,
   "metadata": {},
   "outputs": [],
   "source": [
    "grouped_df = df.groupby([\"model_id\", \"task_id\", \"repeat\"]).aggregate(\"mean\").drop(columns=[\"fold\"]).reset_index()"
   ]
  },
  {
   "cell_type": "code",
   "execution_count": 9,
   "metadata": {},
   "outputs": [
    {
     "data": {
      "text/html": [
       "<div>\n",
       "<style scoped>\n",
       "    .dataframe tbody tr th:only-of-type {\n",
       "        vertical-align: middle;\n",
       "    }\n",
       "\n",
       "    .dataframe tbody tr th {\n",
       "        vertical-align: top;\n",
       "    }\n",
       "\n",
       "    .dataframe thead th {\n",
       "        text-align: right;\n",
       "    }\n",
       "</style>\n",
       "<table border=\"1\" class=\"dataframe\">\n",
       "  <thead>\n",
       "    <tr style=\"text-align: right;\">\n",
       "      <th></th>\n",
       "      <th>model_id</th>\n",
       "      <th>task_id</th>\n",
       "      <th>repeat</th>\n",
       "      <th>accuracy</th>\n",
       "      <th>balanced_accuracy</th>\n",
       "      <th>f1</th>\n",
       "      <th>ece</th>\n",
       "      <th>ece_balanced</th>\n",
       "      <th>peace</th>\n",
       "      <th>class_wise_ece</th>\n",
       "      <th>class_wise_peace</th>\n",
       "    </tr>\n",
       "  </thead>\n",
       "  <tbody>\n",
       "  </tbody>\n",
       "</table>\n",
       "</div>"
      ],
      "text/plain": [
       "Empty DataFrame\n",
       "Columns: [model_id, task_id, repeat, accuracy, balanced_accuracy, f1, ece, ece_balanced, peace, class_wise_ece, class_wise_peace]\n",
       "Index: []"
      ]
     },
     "execution_count": 9,
     "metadata": {},
     "output_type": "execute_result"
    }
   ],
   "source": [
    "grouped_df"
   ]
  },
  {
   "cell_type": "code",
   "execution_count": 20,
   "metadata": {},
   "outputs": [],
   "source": [
    "def get_longform(df, cols=None, subject_cols=None):\n",
    "    dfs = []\n",
    "    \n",
    "    if cols is None:\n",
    "        cols = df.columns\n",
    "    \n",
    "    for col in cols:\n",
    "        tmp_df = pandas.DataFrame(dict(        \n",
    "            value=df[col], \n",
    "            metric=col,   \n",
    "        ))\n",
    "        for col2 in set(df.columns) - set(cols):\n",
    "            tmp_df[col2] = df[col2]\n",
    "            \n",
    "        if subject_cols is not None:\n",
    "            tmp_df[\"subject\"] = df[subject_cols].apply(lambda row: '_'.join(row.values.astype(str)), axis=1)\n",
    "            \n",
    "        dfs.append(tmp_df)\n",
    "        \n",
    "    return pandas.concat(dfs)"
   ]
  },
  {
   "cell_type": "code",
   "execution_count": 21,
   "metadata": {},
   "outputs": [],
   "source": [
    "long_df = get_longform(grouped_df, grouped_df.columns[3:], [\"model_id\", \"task_id\"])"
   ]
  },
  {
   "cell_type": "code",
   "execution_count": 22,
   "metadata": {},
   "outputs": [
    {
     "data": {
      "text/plain": [
       "(1120, 6)"
      ]
     },
     "execution_count": 22,
     "metadata": {},
     "output_type": "execute_result"
    }
   ],
   "source": [
    "long_df.shape"
   ]
  },
  {
   "cell_type": "code",
   "execution_count": 23,
   "metadata": {},
   "outputs": [
    {
     "data": {
      "text/html": [
       "<div>\n",
       "<style scoped>\n",
       "    .dataframe tbody tr th:only-of-type {\n",
       "        vertical-align: middle;\n",
       "    }\n",
       "\n",
       "    .dataframe tbody tr th {\n",
       "        vertical-align: top;\n",
       "    }\n",
       "\n",
       "    .dataframe thead th {\n",
       "        text-align: right;\n",
       "    }\n",
       "</style>\n",
       "<table border=\"1\" class=\"dataframe\">\n",
       "  <thead>\n",
       "    <tr style=\"text-align: right;\">\n",
       "      <th></th>\n",
       "      <th>value</th>\n",
       "      <th>metric</th>\n",
       "      <th>model_id</th>\n",
       "      <th>task_id</th>\n",
       "      <th>repeat</th>\n",
       "      <th>subject</th>\n",
       "    </tr>\n",
       "  </thead>\n",
       "  <tbody>\n",
       "    <tr>\n",
       "      <th>0</th>\n",
       "      <td>0.263050</td>\n",
       "      <td>accuracy</td>\n",
       "      <td>adaboost</td>\n",
       "      <td>6</td>\n",
       "      <td>0</td>\n",
       "      <td>adaboost_6</td>\n",
       "    </tr>\n",
       "    <tr>\n",
       "      <th>1</th>\n",
       "      <td>0.406500</td>\n",
       "      <td>accuracy</td>\n",
       "      <td>adaboost</td>\n",
       "      <td>12</td>\n",
       "      <td>0</td>\n",
       "      <td>adaboost_12</td>\n",
       "    </tr>\n",
       "    <tr>\n",
       "      <th>2</th>\n",
       "      <td>0.372635</td>\n",
       "      <td>accuracy</td>\n",
       "      <td>adaboost</td>\n",
       "      <td>32</td>\n",
       "      <td>0</td>\n",
       "      <td>adaboost_32</td>\n",
       "    </tr>\n",
       "    <tr>\n",
       "      <th>3</th>\n",
       "      <td>0.816429</td>\n",
       "      <td>accuracy</td>\n",
       "      <td>adaboost</td>\n",
       "      <td>39</td>\n",
       "      <td>0</td>\n",
       "      <td>adaboost_39</td>\n",
       "    </tr>\n",
       "    <tr>\n",
       "      <th>4</th>\n",
       "      <td>0.476190</td>\n",
       "      <td>accuracy</td>\n",
       "      <td>adaboost</td>\n",
       "      <td>40</td>\n",
       "      <td>0</td>\n",
       "      <td>adaboost_40</td>\n",
       "    </tr>\n",
       "  </tbody>\n",
       "</table>\n",
       "</div>"
      ],
      "text/plain": [
       "      value    metric  model_id  task_id  repeat      subject\n",
       "0  0.263050  accuracy  adaboost        6       0   adaboost_6\n",
       "1  0.406500  accuracy  adaboost       12       0  adaboost_12\n",
       "2  0.372635  accuracy  adaboost       32       0  adaboost_32\n",
       "3  0.816429  accuracy  adaboost       39       0  adaboost_39\n",
       "4  0.476190  accuracy  adaboost       40       0  adaboost_40"
      ]
     },
     "execution_count": 23,
     "metadata": {},
     "output_type": "execute_result"
    }
   ],
   "source": [
    "long_df.head()"
   ]
  },
  {
   "cell_type": "code",
   "execution_count": 24,
   "metadata": {},
   "outputs": [
    {
     "data": {
      "text/plain": [
       "<seaborn.axisgrid.FacetGrid at 0x7f7373c56b20>"
      ]
     },
     "execution_count": 24,
     "metadata": {},
     "output_type": "execute_result"
    },
    {
     "data": {
      "image/png": "[encoded data removed]",
      "text/plain": [
       "<Figure size 1080x360 with 3 Axes>"
      ]
     },
     "metadata": {
      "needs_background": "light"
     },
     "output_type": "display_data"
    }
   ],
   "source": [
    "seaborn.catplot(data=long_df[long_df[\"metric\"].isin([\"accuracy\", \"balanced_accuracy\", \"f1\"])], x=\"model_id\", y=\"value\", col=\"metric\", kind=\"box\")"
   ]
  },
  {
   "cell_type": "code",
   "execution_count": 25,
   "metadata": {},
   "outputs": [
    {
     "data": {
      "text/plain": [
       "<seaborn.axisgrid.FacetGrid at 0x7f7371bdad30>"
      ]
     },
     "execution_count": 25,
     "metadata": {},
     "output_type": "execute_result"
    },
    {
     "data": {
      "image/png": "[encoded data removed]",
      "text/plain": [
       "<Figure size 1080x360 with 3 Axes>"
      ]
     },
     "metadata": {
      "needs_background": "light"
     },
     "output_type": "display_data"
    }
   ],
   "source": [
    "seaborn.catplot(data=long_df[long_df[\"metric\"].isin([\"accuracy\", \"balanced_accuracy\", \"f1\"])], x=\"task_id\", y=\"value\", col=\"metric\", kind=\"box\")"
   ]
  },
  {
   "cell_type": "code",
   "execution_count": 26,
   "metadata": {},
   "outputs": [
    {
     "data": {
      "text/plain": [
       "<seaborn.axisgrid.FacetGrid at 0x7f7371b53fa0>"
      ]
     },
     "execution_count": 26,
     "metadata": {},
     "output_type": "execute_result"
    },
    {
     "data": {
      "image/png": "[encoded data removed]",
      "text/plain": [
       "<Figure size 1080x360 with 3 Axes>"
      ]
     },
     "metadata": {
      "needs_background": "light"
     },
     "output_type": "display_data"
    }
   ],
   "source": [
    "seaborn.displot(data=long_df[long_df[\"metric\"].isin([\"ece\", \"ece_balanced\", \"peace\"])], x=\"value\", col=\"metric\", rug=True, kind=\"kde\")"
   ]
  },
  {
   "cell_type": "code",
   "execution_count": 27,
   "metadata": {},
   "outputs": [
    {
     "data": {
      "text/plain": [
       "<matplotlib.axes._subplots.AxesSubplot at 0x7f73a8868610>"
      ]
     },
     "execution_count": 27,
     "metadata": {},
     "output_type": "execute_result"
    },
    {
     "data": {
      "image/png": "[encoded data removed]",
      "text/plain": [
       "<Figure size 432x288 with 1 Axes>"
      ]
     },
     "metadata": {
      "needs_background": "light"
     },
     "output_type": "display_data"
    }
   ],
   "source": [
    "seaborn.boxenplot(data=long_df[long_df[\"metric\"].isin([\"ece\", \"ece_balanced\", \"peace\"])], y=\"value\", x=\"metric\")"
   ]
  },
  {
   "cell_type": "code",
   "execution_count": 28,
   "metadata": {},
   "outputs": [],
   "source": [
    "long_df[\"metric_ord\"] = long_df[\"metric\"].map(lambda a: numpy.unique(long_df[\"metric\"]).tolist().index(a))"
   ]
  },
  {
   "cell_type": "code",
   "execution_count": 29,
   "metadata": {},
   "outputs": [
    {
     "data": {
      "text/plain": [
       "<seaborn.axisgrid.FacetGrid at 0x7f7373dd7730>"
      ]
     },
     "execution_count": 29,
     "metadata": {},
     "output_type": "execute_result"
    },
    {
     "data": {
      "image/png": "[encoded data removed]",
      "text/plain": [
       "<Figure size 360x360 with 1 Axes>"
      ]
     },
     "metadata": {
      "needs_background": "light"
     },
     "output_type": "display_data"
    }
   ],
   "source": [
    "seaborn.lmplot(data=long_df[long_df[\"metric\"].isin([\"ece\", \"ece_balanced\", \"peace\"])], y=\"value\", x=\"metric_ord\")"
   ]
  },
  {
   "cell_type": "markdown",
   "metadata": {},
   "source": [
    "## Statistical testing"
   ]
  },
  {
   "cell_type": "code",
   "execution_count": 30,
   "metadata": {},
   "outputs": [],
   "source": [
    "import scipy.stats\n",
    "import scikit_posthocs as sp"
   ]
  },
  {
   "cell_type": "markdown",
   "metadata": {},
   "source": [
    "### Pooled datasets + model"
   ]
  },
  {
   "cell_type": "code",
   "execution_count": 31,
   "metadata": {},
   "outputs": [
    {
     "data": {
      "text/plain": [
       "FriedmanchisquareResult(statistic=6.0, pvalue=0.04978706836786395)"
      ]
     },
     "execution_count": 31,
     "metadata": {},
     "output_type": "execute_result"
    }
   ],
   "source": [
    "data = grouped_df.loc[grouped_df[\"repeat\"] == 0, [\"ece\", \"ece_balanced\", \"peace\"]].values\n",
    "scipy.stats.friedmanchisquare(data[0], data[1], data[2])"
   ]
  },
  {
   "cell_type": "code",
   "execution_count": 32,
   "metadata": {},
   "outputs": [
    {
     "data": {
      "text/html": [
       "<div>\n",
       "<style scoped>\n",
       "    .dataframe tbody tr th:only-of-type {\n",
       "        vertical-align: middle;\n",
       "    }\n",
       "\n",
       "    .dataframe tbody tr th {\n",
       "        vertical-align: top;\n",
       "    }\n",
       "\n",
       "    .dataframe thead th {\n",
       "        text-align: right;\n",
       "    }\n",
       "</style>\n",
       "<table border=\"1\" class=\"dataframe\">\n",
       "  <thead>\n",
       "    <tr style=\"text-align: right;\">\n",
       "      <th></th>\n",
       "      <th>ece</th>\n",
       "      <th>ece_balanced</th>\n",
       "      <th>peace</th>\n",
       "    </tr>\n",
       "  </thead>\n",
       "  <tbody>\n",
       "    <tr>\n",
       "      <th>ece</th>\n",
       "      <td>-1.000000</td>\n",
       "      <td>0.668108</td>\n",
       "      <td>0.668108</td>\n",
       "    </tr>\n",
       "    <tr>\n",
       "      <th>ece_balanced</th>\n",
       "      <td>0.668108</td>\n",
       "      <td>-1.000000</td>\n",
       "      <td>0.799862</td>\n",
       "    </tr>\n",
       "    <tr>\n",
       "      <th>peace</th>\n",
       "      <td>0.668108</td>\n",
       "      <td>0.799862</td>\n",
       "      <td>-1.000000</td>\n",
       "    </tr>\n",
       "  </tbody>\n",
       "</table>\n",
       "</div>"
      ],
      "text/plain": [
       "                   ece  ece_balanced     peace\n",
       "ece          -1.000000      0.668108  0.668108\n",
       "ece_balanced  0.668108     -1.000000  0.799862\n",
       "peace         0.668108      0.799862 -1.000000"
      ]
     },
     "execution_count": 32,
     "metadata": {},
     "output_type": "execute_result"
    }
   ],
   "source": [
    "long_data = get_longform(grouped_df.loc[grouped_df[\"repeat\"] == 0, [\"ece\", \"ece_balanced\", \"peace\"]])\n",
    "sp.posthoc_conover(long_data, val_col=\"value\", group_col=\"metric\", p_adjust=\"holm\")"
   ]
  },
  {
   "cell_type": "markdown",
   "metadata": {},
   "source": [
    "### Per model"
   ]
  },
  {
   "cell_type": "code",
   "execution_count": 33,
   "metadata": {},
   "outputs": [
    {
     "name": "stdout",
     "output_type": "stream",
     "text": [
      "adaboost\n",
      "FriedmanchisquareResult(statistic=4.900000000000006, pvalue=0.0862935864993703)\n",
      "dectree\n",
      "FriedmanchisquareResult(statistic=18.30000000000001, pvalue=0.00010621980274645822)\n",
      "              ece  ece_balanced  peace\n",
      "ece          -1.0           1.0    1.0\n",
      "ece_balanced  1.0          -1.0    1.0\n",
      "peace         1.0           1.0   -1.0\n",
      "logreg\n",
      "FriedmanchisquareResult(statistic=15.600000000000023, pvalue=0.0004097349789797821)\n",
      "                   ece  ece_balanced     peace\n",
      "ece          -1.000000      0.639421  0.280083\n",
      "ece_balanced  0.639421     -1.000000  0.639421\n",
      "peace         0.280083      0.639421 -1.000000\n",
      "mlp\n",
      "FriedmanchisquareResult(statistic=18.100000000000023, pvalue=0.0001173910369191168)\n",
      "                   ece  ece_balanced     peace\n",
      "ece          -1.000000           1.0  0.796384\n",
      "ece_balanced  1.000000          -1.0  1.000000\n",
      "peace         0.796384           1.0 -1.000000\n",
      "nb\n",
      "FriedmanchisquareResult(statistic=10.800000000000011, pvalue=0.00451658094261264)\n",
      "                   ece  ece_balanced     peace\n",
      "ece          -1.000000      0.732201  0.705641\n",
      "ece_balanced  0.732201     -1.000000  0.773894\n",
      "peace         0.705641      0.773894 -1.000000\n",
      "rf\n",
      "FriedmanchisquareResult(statistic=8.400000000000006, pvalue=0.01499557682047766)\n",
      "              ece  ece_balanced  peace\n",
      "ece          -1.0           1.0    1.0\n",
      "ece_balanced  1.0          -1.0    1.0\n",
      "peace         1.0           1.0   -1.0\n",
      "svm\n",
      "FriedmanchisquareResult(statistic=8.43037974683546, pvalue=0.014769517162134187)\n",
      "                   ece  ece_balanced     peace\n",
      "ece          -1.000000      0.909362  0.909362\n",
      "ece_balanced  0.909362     -1.000000  0.909362\n",
      "peace         0.909362      0.909362 -1.000000\n"
     ]
    }
   ],
   "source": [
    "for idx, model_df in grouped_df.groupby(\"model_id\"):\n",
    "    data = model_df.loc[:, [\"ece\", \"ece_balanced\", \"peace\"]]\n",
    "    test = scipy.stats.friedmanchisquare(data.iloc[:, 0], data.iloc[:, 1], data.iloc[:, 2])\n",
    "    print(idx)\n",
    "    print(test)\n",
    "    if test.pvalue < 0.05:\n",
    "        long_data = get_longform(data)\n",
    "        print(sp.posthoc_conover(long_data, val_col=\"value\", group_col=\"metric\", p_adjust=\"holm\"))"
   ]
  },
  {
   "cell_type": "code",
   "execution_count": 34,
   "metadata": {},
   "outputs": [
    {
     "data": {
      "text/plain": [
       "<seaborn.axisgrid.FacetGrid at 0x7f7373b030d0>"
      ]
     },
     "execution_count": 34,
     "metadata": {},
     "output_type": "execute_result"
    },
    {
     "data": {
      "image/png": "[encoded data removed]",
      "text/plain": [
       "<Figure size 2520x360 with 7 Axes>"
      ]
     },
     "metadata": {
      "needs_background": "light"
     },
     "output_type": "display_data"
    }
   ],
   "source": [
    "seaborn.catplot(data=long_df[long_df[\"metric\"].isin([\"ece\", \"ece_balanced\", \"peace\"])], x=\"metric\", y=\"value\", col=\"model_id\", kind=\"box\")"
   ]
  },
  {
   "cell_type": "raw",
   "metadata": {},
   "source": []
  }
 ],
 "metadata": {
  "kernelspec": {
   "display_name": "Python 3",
   "language": "python",
   "name": "python3"
  },
  "language_info": {
   "codemirror_mode": {
    "name": "ipython",
    "version": 3
   },
   "file_extension": ".py",
   "mimetype": "text/x-python",
   "name": "python",
   "nbconvert_exporter": "python",
   "pygments_lexer": "ipython3",
   "version": "3.8.2"
  }
 },
 "nbformat": 4,
 "nbformat_minor": 4
}
