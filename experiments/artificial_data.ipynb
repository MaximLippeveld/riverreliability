{
 "cells": [
  {
   "cell_type": "code",
   "execution_count": 1,
   "metadata": {},
   "outputs": [],
   "source": [
    "import sklearn.model_selection\n",
    "import sklearn.naive_bayes\n",
    "import sklearn.linear_model\n",
    "import sklearn.ensemble\n",
    "import sklearn.datasets\n",
    "import sklearn.dummy\n",
    "import numpy as np\n",
    "import pandas as pd\n",
    "import seaborn\n",
    "import matplotlib.pyplot as plt\n",
    "from ridgereliability import metrics\n",
    "import logging\n",
    "import os\n",
    "import multiprocessing\n",
    "from tqdm import trange\n",
    "import pickle"
   ]
  },
  {
   "cell_type": "code",
   "execution_count": 2,
   "metadata": {},
   "outputs": [],
   "source": [
    "# example\n",
    "logging.basicConfig(level=logging.INFO)"
   ]
  },
  {
   "cell_type": "code",
   "execution_count": 3,
   "metadata": {},
   "outputs": [],
   "source": [
    "np.random.seed(42)"
   ]
  },
  {
   "cell_type": "markdown",
   "metadata": {},
   "source": [
    "# Artificial data experiment\n",
    "\n",
    "In this notebook we define an experiment for comparing the ECE and the PEACE error metrics. We train several classifiers on different randomly genereated artificial datasets. We control the properties of the artificial dataset by setting parameters of the dataset generation algorithm. We compare metrics over several dataset configurations, and each configuration is repeated multiple times for each classifier.\n",
    "\n",
    "If you want to export this notebook to a script, use:"
   ]
  },
  {
   "cell_type": "code",
   "execution_count": 17,
   "metadata": {},
   "outputs": [
    {
     "name": "stdout",
     "output_type": "stream",
     "text": [
      "[NbConvertApp] Converting notebook artificial_data.ipynb to python\n",
      "[NbConvertApp] Writing 12856 bytes to artificial_data.py\n"
     ]
    }
   ],
   "source": [
    "!jupyter nbconvert --RegexRemovePreprocessor.patterns=\"['# example']\" --TemplateExporter.exclude_markdown=True --to python artificial_data.ipynb"
   ]
  },
  {
   "cell_type": "code",
   "execution_count": 4,
   "metadata": {},
   "outputs": [],
   "source": [
    "# experiment parameters\n",
    "dataset_config_grid = sklearn.model_selection.ParameterGrid({\n",
    "        \"features\": [10, 30, 50],\n",
    "        \"imbalance\": [0.1, 0.5, 1.0, 1.5, 2, 5],\n",
    "        \"std\": [0.5, 1, 1.5, 2],\n",
    "        \"radius\": [.5, 1, 2, 4],\n",
    "        \"classes\": [2, 5, 10]\n",
    "})\n",
    "repeats = 50\n",
    "samples = 5000\n",
    "classifiers = [\n",
    "    (sklearn.naive_bayes.GaussianNB(), 'Gaussian Naive Bayes'),\n",
    "    (sklearn.linear_model.SGDClassifier(loss=\"log\"), 'Linear SVM'),\n",
    "    (sklearn.ensemble.RandomForestClassifier(), 'Random Forest'),\n",
    "    (sklearn.linear_model.LogisticRegression(), 'Logistic Regression')\n",
    "]"
   ]
  },
  {
   "cell_type": "markdown",
   "metadata": {},
   "source": [
    "## Dataset generation"
   ]
  },
  {
   "cell_type": "code",
   "execution_count": 5,
   "metadata": {},
   "outputs": [],
   "source": [
    "def generate_data(num_samples, num_features, num_classes, std, radius, imbalance):\n",
    "    \"\"\"Generate synthetic data.\n",
    "\n",
    "    Parameters:\n",
    "    num_samples (int): number of samples to generate\n",
    "    num_features (int): number of features per sample\n",
    "    num_classes (int): number of classes\n",
    "    std (float): standard deviation of cluster centers\n",
    "    radius (float): minimal distance between cluster centers\n",
    "    imbalance (float): imbalance ratio\n",
    "\n",
    "    Returns:\n",
    "    X (np.array): generated samples\n",
    "    y (np.array): class labels for each sample\n",
    "    z (np.array): class probabilities for each sample\n",
    "    \"\"\"\n",
    "\n",
    "    assert num_classes <= 2**num_features, f'Too many classes ({num_classes}) for features ({num_features})'\n",
    "\n",
    "    # create centers\n",
    "    numbers = np.random.choice(range(2**num_features), size=num_classes, replace=False)\n",
    "    centers = np.zeros((num_classes, num_features))\n",
    "    for i in range(num_classes):\n",
    "        centers[i] = .5 * radius * np.ones(num_features)\n",
    "\n",
    "        n = numbers[i]\n",
    "        p = 0\n",
    "        while n > 0:\n",
    "            if n % 2 == 1:\n",
    "                centers[i, p] *= -1\n",
    "            n //= 2\n",
    "            p += 1\n",
    "\n",
    "    # create blobs\n",
    "    X, y = sklearn.datasets.make_blobs(\n",
    "            n_samples=num_samples,\n",
    "            n_features=num_features,\n",
    "            centers=centers,\n",
    "            cluster_std=std\n",
    "    )\n",
    "\n",
    "    # create imbalance\n",
    "    if imbalance > 1:\n",
    "        # oversample\n",
    "        orig_count = (y == 0).sum()\n",
    "        extra_count = int(np.ceil(orig_count * (imbalance - 1)))\n",
    "        extra_samples = np.random.normal(centers[0], std, (extra_count, num_features))\n",
    "        extra_labels = np.zeros(extra_count, dtype=y.dtype)\n",
    "        X = np.concatenate((X, extra_samples))\n",
    "        y = np.concatenate((y, extra_labels))\n",
    "    elif imbalance < 1:\n",
    "        # undersample\n",
    "        orig_count = (y == 0).sum()\n",
    "        extra_count = -int(np.floor(orig_count * (imbalance - 1)))\n",
    "        ps = (y == 0).astype(np.int) * np.ones(X.shape[0]) / (y == 0).sum()\n",
    "        indices = np.random.choice(range(X.shape[0]), size=extra_count, replace=False, p=ps)\n",
    "        remaining = list(set(range(X.shape[0])).difference(indices))\n",
    "        \n",
    "        X, y = X[remaining], y[remaining]\n",
    "\n",
    "    # create probability distributions for each sample\n",
    "    z = np.zeros((X.shape[0], num_classes))\n",
    "    for i in range(X.shape[0]):\n",
    "        x = X[i]\n",
    "        logits = np.array([np.sqrt(((x - c)**2 / std**2).sum()) for c in centers])\n",
    "        logits -= logits.max()\n",
    "        z[i] = np.exp(-logits) / np.sum(np.exp(-logits))\n",
    "\n",
    "    # return data\n",
    "    return X, y, z"
   ]
  },
  {
   "cell_type": "code",
   "execution_count": 6,
   "metadata": {},
   "outputs": [],
   "source": [
    "# example\n",
    "\n",
    "X, y, z = generate_data(\n",
    "    num_samples=500, \n",
    "    num_features=2, \n",
    "    num_classes=3, \n",
    "    std=1.5, radius=4, imbalance=1)\n",
    "\n",
    "df = pd.DataFrame(data={\"X1\": X[:, 0], \"X2\": X[:, 1], \"y\": y})"
   ]
  },
  {
   "cell_type": "code",
   "execution_count": 7,
   "metadata": {},
   "outputs": [
    {
     "data": {
      "image/png": "[encoded data removed]",
      "text/plain": [
       "<Figure size 432x432 with 3 Axes>"
      ]
     },
     "metadata": {
      "needs_background": "light"
     },
     "output_type": "display_data"
    }
   ],
   "source": [
    "# example\n",
    "\n",
    "g = seaborn.JointGrid(x=\"X1\", y=\"X2\", data=df)\n",
    "g.plot_joint(plt.scatter, c=df[\"y\"], s=1.5)\n",
    "g.plot_marginals(seaborn.distplot)\n",
    "_ = g.ax_marg_x.set_title(\"Example dataset\")"
   ]
  },
  {
   "cell_type": "markdown",
   "metadata": {},
   "source": [
    "## Comparison experiment"
   ]
  },
  {
   "cell_type": "code",
   "execution_count": 8,
   "metadata": {},
   "outputs": [],
   "source": [
    "def fit_and_predict(args, clf, return_prob_matrix=False):\n",
    "    \"\"\"Fit a classifier on synthetic training data, and predict on synthetic testing data.\n",
    "\n",
    "    Arguments:\n",
    "        args {NameSpace} -- Arguments passed on the command line\n",
    "        clf {scikit-learn model} -- Classifier to fit and evaluate (needs to have `predict_proba` method)\n",
    "\n",
    "    Raises:\n",
    "        ValueError: raised when classifier does not have `predict_proba` method\n",
    "\n",
    "    Returns:\n",
    "        tuple -- contains prediction probabilities on test set, predictions on test set, true test labels and true class probabilities\n",
    "    \"\"\"    \n",
    "    \n",
    "    # generate the data\n",
    "    X, y, z = generate_data(samples, args.features, args.classes, args.std, args.radius, args.imbalance)\n",
    "\n",
    "    # randomized train/test split\n",
    "    X_train, X_test, y_train, y_test, z_train, z_test = sklearn.model_selection.train_test_split(X, y, z, test_size=0.2)\n",
    "\n",
    "    # fit the classifier\n",
    "    clf.fit(X_train, y_train)\n",
    "\n",
    "    # compute predicted labels\n",
    "    y_preds = clf.predict(X_test)\n",
    "\n",
    "    # compute predicted probability vectors\n",
    "    if hasattr(clf, 'predict_proba'):\n",
    "        y_probs = clf.predict_proba(X_test)\n",
    "        if not return_prob_matrix:\n",
    "            y_probs = y_probs[:, y_preds][:, 0]\n",
    "    else:\n",
    "        raise ValueError(clf)\n",
    "\n",
    "    return y_probs, y_preds, y_test, z_test"
   ]
  },
  {
   "cell_type": "code",
   "execution_count": 13,
   "metadata": {},
   "outputs": [],
   "source": [
    "class args:\n",
    "    features = 2\n",
    "    std = 1.\n",
    "    radius = 1.5\n",
    "    imbalance = 1.\n",
    "    classes = 3\n",
    "\n",
    "y_probs, y_preds, y_test, z_test = fit_and_predict(args(), sklearn.ensemble.RandomForestClassifier(n_estimators=10), return_prob_matrix=True)"
   ]
  },
  {
   "cell_type": "code",
   "execution_count": 14,
   "metadata": {},
   "outputs": [],
   "source": [
    "def true_ce(y_probs, z_probs):\n",
    "    \"\"\"Compute the true calibration error.\n",
    "\n",
    "    Parameters:\n",
    "    y_probs (np.array): predicted class probabilities\n",
    "    z_probs (np.array): true class probabilities\n",
    "\n",
    "    Returns:\n",
    "    ce (float): true calibration error\n",
    "\n",
    "    \"\"\"\n",
    "\n",
    "    # check inputs\n",
    "    assert len(y_probs.shape) == 1 and y_probs.dtype in [np.float, np.float32], 'Predicted class probabilties should be an array of floats'\n",
    "    assert all(y_probs >= 0) and all(y_probs <= 1), 'Predicted class probabilities should lie between 0 and 1'\n",
    "    assert len(z_probs.shape) == 1 and z_probs.dtype in [np.float, np.float32] , 'True class probabilties should be an array of floats'\n",
    "    assert all(z_probs >= 0) and all(z_probs <= 1), 'True class probabilities should lie between 0 and 1'\n",
    "\n",
    "    # compute calibration error\n",
    "    ce = abs(y_probs - z_probs).mean()\n",
    "    return ce\n",
    "\n",
    "\n",
    "def error_metrics(y_probs, y_preds, y_test, z_probs):\n",
    "    \n",
    "    y_probs_max = y_probs.max(axis=1)\n",
    "    \n",
    "    return {\n",
    "        'true_ce': [true_ce(y_probs_max, z_probs)],\n",
    "        'ece': [metrics.ece(y_probs_max, y_preds, y_test)],\n",
    "        'ece_balanced': [metrics.ece(y_probs_max, y_preds, y_test, balanced=True)],\n",
    "        'peace': [metrics.peace(y_probs_max, y_preds, y_test)],\n",
    "        'class_wise_ece': [metrics.class_wise_error(y_probs, y_preds, y_test, metrics.ece)],\n",
    "        'class_wise_ece_balanced': [metrics.class_wise_error(y_probs, y_preds, y_test, metrics.ece, balanced=True)],\n",
    "        'class_wise_peace': [metrics.class_wise_error(y_probs, y_preds, y_test, metrics.peace)],\n",
    "    }\n",
    "\n",
    "            \n",
    "def compute_error_metrics(args, clf):\n",
    "    \"\"\"Fit classifier and compute ECE, ECEv2 and ECEv3 on predictions\n",
    "\n",
    "    Arguments:\n",
    "        args {NameSpace} -- Arguments passed on the command line\n",
    "        clf {scikit-learn model} -- Classifier to fit and evaluate (needs to have `predict_proba` method)\n",
    "\n",
    "    Returns:\n",
    "        pandas.DataFrame -- Single-row Dataframe with one column per error metric\n",
    "    \"\"\"    \n",
    "\n",
    "    y_probs, y_preds, y_test, z_test = fit_and_predict(args, clf, return_prob_matrix=True)\n",
    "    \n",
    "    # compute actual probability vectors\n",
    "    z_probs = z_test[:, y_preds][:, 0]\n",
    "    \n",
    "    # store results\n",
    "    return pd.DataFrame(error_metrics(y_probs, y_preds, y_test, z_probs))"
   ]
  },
  {
   "cell_type": "code",
   "execution_count": 15,
   "metadata": {},
   "outputs": [
    {
     "data": {
      "text/plain": [
       "{'true_ce': [0.41356740293434113],\n",
       " 'ece': [0.1471],\n",
       " 'ece_balanced': [0.14876610500905818],\n",
       " 'peace': [0.1529122908364472],\n",
       " 'class_wise_ece': [0.09873333333333338],\n",
       " 'class_wise_ece_balanced': [0.14238584743100888],\n",
       " 'class_wise_peace': [0.14658609190062669]}"
      ]
     },
     "execution_count": 15,
     "metadata": {},
     "output_type": "execute_result"
    }
   ],
   "source": [
    "# example\n",
    "error_metrics(y_probs, y_preds, y_test, z_test[:, y_preds][:, 0])"
   ]
  },
  {
   "cell_type": "code",
   "execution_count": 16,
   "metadata": {},
   "outputs": [
    {
     "data": {
      "image/png": "[encoded data removed]",
      "text/plain": [
       "<Figure size 900x300 with 3 Axes>"
      ]
     },
     "metadata": {
      "needs_background": "light"
     },
     "output_type": "display_data"
    }
   ],
   "source": [
    "# example\n",
    "from ridgereliability import plots\n",
    "_ = plots.class_wise_posterior_reliability_diagram(y_probs, y_preds, y_test, bins=10)"
   ]
  },
  {
   "cell_type": "code",
   "execution_count": 51,
   "metadata": {},
   "outputs": [],
   "source": [
    "def run_one_configuration(args, clfs=classifiers, output=None, save=True):\n",
    "    \"\"\"Run error metric experiment.\n",
    "\n",
    "    Arguments:\n",
    "        args {NameSpace} -- Arguments passed on the command line\n",
    "\n",
    "    Keyword Arguments:\n",
    "        output {str} -- path to file where output should be stored (default: {None})\n",
    "    \"\"\"\n",
    "\n",
    "    logger = logging.getLogger(__name__)\n",
    "\n",
    "    # make process pool\n",
    "    with multiprocessing.Pool(processes=args.n_processes) as pool:\n",
    "\n",
    "        # submit experiments to the pool\n",
    "        promises = []\n",
    "        for clf, name in clfs:\n",
    "            # perform several runs\n",
    "            for run in range(repeats):\n",
    "                # run async operation\n",
    "                promises.append((\n",
    "                    name,\n",
    "                    pool.apply_async(compute_error_metrics, (args, clf))\n",
    "                ))\n",
    "\n",
    "        # pull results from pool\n",
    "        results = {k: [] for _, k in clfs}\n",
    "        progbars = {\n",
    "            k: trange(repeats, position=i, desc=k)\n",
    "            for i, (_, k) in enumerate(clfs)\n",
    "        }\n",
    "        for name, promise in promises:\n",
    "            # progress bar update\n",
    "            try:\n",
    "                results[name].append(promise.get())\n",
    "            except Exception as e:\n",
    "                logger.exception(\"Error in pool thread.\")\n",
    "            progbars[name].update(1)\n",
    "\n",
    "        results = {k: pd.concat(v) for k, v in results.items() if len(v) > 0}\n",
    "\n",
    "    # save results\n",
    "    if save:\n",
    "        if len(results) > 0:\n",
    "            print('Saving...')\n",
    "            filename = output or f'../results/run_{int(time.time())}_error_metrics.dat'\n",
    "            with open(filename, 'wb') as log:\n",
    "                pickle.dump(results, log)"
   ]
  },
  {
   "cell_type": "code",
   "execution_count": 52,
   "metadata": {},
   "outputs": [],
   "source": [
    "def run_all_configurations(args, clfs=classifiers):\n",
    "    \"\"\"Run erorr metric experiment for each combination in the parameter grid. \n",
    "\n",
    "    Arguments:\n",
    "        args {NameSpace} -- Arguments passed on the command line (ignores features, std, radius, imbalance and classes)\n",
    "    \"\"\"\n",
    "\n",
    "    logger = logging.getLogger(__name__)\n",
    "    \n",
    "    # define grid\n",
    "    parameter_grid = [i for i in dataset_config_grid]\n",
    "\n",
    "    logger.info(f\"Parameter grid size is {len(parameter_grid)}\")\n",
    "\n",
    "    if args.analysis is not None:\n",
    "\n",
    "        # load previous analysis (= dataframe containing instances)\n",
    "        analysis = load(args.analysis)\n",
    "\n",
    "        # convert list of parameter combinations to dataframe\n",
    "        parameter_grid = pd.DataFrame(parameter_grid)\n",
    "\n",
    "        # check for each combination if results are present in the previous analysis\n",
    "        parameter_grid[\"results?\"] = parameter_grid.apply(lambda a: (analysis[a.index] == a).all(axis=1).any(), axis=1)\n",
    "        \n",
    "        # keep only those combinations for which no results are computed yet\n",
    "        parameter_grid = parameter_grid[~parameter_grid[\"results?\"]].to_dict('records')\n",
    "        \n",
    "        logger.info(f\"After looking at existing analysis {len(parameter_grid)} parameter combinations remain\")\n",
    "    \n",
    "    # select range of parameter combinations based on task index\n",
    "    start_idx = (args.task_id-1)*(len(parameter_grid)//args.n_tasks)\n",
    "    if args.task_id == args.n_tasks:\n",
    "        end_idx = len(parameter_grid)\n",
    "    else:\n",
    "        end_idx = args.task_id*(len(parameter_grid)//args.n_tasks)\n",
    "\n",
    "    # select subset of parameter combinations for this qsub tasks\n",
    "    parameter_grid = [parameter_grid[i] for i in range(start_idx, end_idx)]\n",
    "\n",
    "    logger.info(f\"[{args.task_id}/{args.n_tasks}] run grid combinations {start_idx} to {end_idx}\")\n",
    "\n",
    "    # loop over all combinations\n",
    "    runs = {}\n",
    "    for instance, i in zip(parameter_grid, range(start_idx, end_idx)):\n",
    "\n",
    "        # update the arguments with the current parameter combination\n",
    "        vars(args).update(instance)\n",
    "\n",
    "        filename = os.path.join(args.output_dir, f\"{i}.dat\")\n",
    "        run_one_configuration(args, clfs, output=filename)\n",
    "\n",
    "        # dump meta data (dump at every stap to have intermediate results)\n",
    "        meta = vars(args).copy()\n",
    "        meta[\"filename\"] = os.path.basename(filename)\n",
    "        for k, v in meta.items():\n",
    "            runs.setdefault(k, []).append(v)\n",
    "\n",
    "        with open(os.path.join(args.output_dir, f\"runs_{start_idx}_{end_idx-1}.dat\"), \"wb\") as pkl:\n",
    "            pickle.dump(pd.DataFrame(runs), pkl)"
   ]
  },
  {
   "cell_type": "markdown",
   "metadata": {},
   "source": [
    "# Command line"
   ]
  },
  {
   "cell_type": "code",
   "execution_count": 53,
   "metadata": {},
   "outputs": [
    {
     "name": "stderr",
     "output_type": "stream",
     "text": [
      "usage: ipykernel_launcher.py [-h] [--n-processes N_PROCESSES] [--task-id TASK_ID] [--n-tasks N_TASKS] --output-dir OUTPUT_DIR [--analysis ANALYSIS]\n",
      "                             [--remove] [--dummy]\n",
      "ipykernel_launcher.py: error: the following arguments are required: --output-dir\n"
     ]
    },
    {
     "ename": "SystemExit",
     "evalue": "2",
     "output_type": "error",
     "traceback": [
      "An exception has occurred, use %tb to see the full traceback.\n",
      "\u001b[0;31mSystemExit\u001b[0m\u001b[0;31m:\u001b[0m 2\n"
     ]
    },
    {
     "name": "stderr",
     "output_type": "stream",
     "text": [
      "/home/maximl/.conda/envs/ml/lib/python3.8/site-packages/IPython/core/interactiveshell.py:3339: UserWarning: To exit: use 'exit', 'quit', or Ctrl-D.\n",
      "  warn(\"To exit: use 'exit', 'quit', or Ctrl-D.\", stacklevel=1)\n"
     ]
    }
   ],
   "source": [
    "if __name__ == \"__main__\":\n",
    "    import argparse\n",
    "    import shutil\n",
    "    logging.basicConfig(level=logging.DEBUG)\n",
    "    \n",
    "    parser = argparse.ArgumentParser()\n",
    "    parser.add_argument('--n-processes', type=int, default=16, help='number of processes to create in pool')\n",
    "    parser.add_argument('--task-id', type=int, help='qsub TASK_ID', default=1)\n",
    "    parser.add_argument('--n-tasks', type=int, help=\"amount of qsub tasks\", default=1)\n",
    "    parser.add_argument('--output-dir', type=str, help=\"directory to store grid results\", required=True)\n",
    "    parser.add_argument('--analysis', type=str, default=None, help=\"previous analysis\")\n",
    "    parser.add_argument('--remove', action=\"store_true\", help=\"remove output dir if it exists\")\n",
    "    parser.add_argument('--dummy', action=\"store_true\", help=\"use a dummy classifier\")\n",
    "    \n",
    "    args = parser.parse_args()\n",
    "    \n",
    "    # create output dir if neccesary\n",
    "    if \"output_dir\" in args:\n",
    "        if os.path.exists(args.output_dir):\n",
    "            if args.remove:\n",
    "                shutil.rmtree(args.output_dir)\n",
    "                os.mkdir(args.output_dir)\n",
    "        else:\n",
    "            os.mkdir(args.output_dir)\n",
    "    \n",
    "    if args.dummy:\n",
    "        run_all_configurations(args, clfs=[(sklearn.ensemble.RandomForestClassifier(n_estimators=10), \"dummy\")])\n",
    "    run_all_configurations(args)"
   ]
  },
  {
   "cell_type": "code",
   "execution_count": null,
   "metadata": {},
   "outputs": [],
   "source": []
  }
 ],
 "metadata": {
  "kernelspec": {
   "display_name": "Python 3",
   "language": "python",
   "name": "python3"
  },
  "language_info": {
   "codemirror_mode": {
    "name": "ipython",
    "version": 3
   },
   "file_extension": ".py",
   "mimetype": "text/x-python",
   "name": "python",
   "nbconvert_exporter": "python",
   "pygments_lexer": "ipython3",
   "version": "3.8.2"
  }
 },
 "nbformat": 4,
 "nbformat_minor": 4
}
