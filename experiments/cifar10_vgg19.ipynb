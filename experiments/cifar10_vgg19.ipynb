{
 "cells": [
  {
   "cell_type": "code",
   "execution_count": 1,
   "metadata": {},
   "outputs": [],
   "source": [
    "import tensorflow as tf\n",
    "import numpy as np\n",
    "import matplotlib.pyplot as plt\n",
    "from sklearn.utils import shuffle\n",
    "from tqdm.notebook import tqdm\n",
    "from glob import glob\n",
    "from ridgereliability.plots import posterior_reliability_diagram, confidence_reliability_diagram\n",
    "from ridgereliability import metrics\n",
    "\n",
    "LEARNING_RATE = .1\n",
    "LR_DROP = 10000\n",
    "MOMENTUM = .9\n",
    "LR_DECAY = .96\n",
    "EPOCHS = 250"
   ]
  },
  {
   "cell_type": "code",
   "execution_count": null,
   "metadata": {},
   "outputs": [],
   "source": [
    "model = tf.keras.applications.VGG19(\n",
    "    include_top=True,\n",
    "    weights=None,\n",
    "    classes=10,\n",
    "    input_shape=[32, 32, 3]\n",
    ")\n",
    "\n",
    "lr_schedule = tf.keras.optimizers.schedules.ExponentialDecay(\n",
    "    LEARNING_RATE,\n",
    "    decay_steps=LR_DROP,\n",
    "    decay_rate=LR_DECAY,\n",
    "    staircase=True)\n",
    "model.compile(\n",
    "    optimizer=tf.keras.optimizers.SGD(learning_rate=lr_schedule),\n",
    "    loss=tf.keras.losses.CategoricalCrossentropy(),\n",
    "    metrics=['accuracy'])"
   ]
  },
  {
   "cell_type": "code",
   "execution_count": 2,
   "metadata": {},
   "outputs": [],
   "source": [
    "(x_train, y_train), (x_test, y_test) = tf.keras.datasets.cifar10.load_data()\n",
    "\n",
    "mean = 120.707\n",
    "std = 64.15\n",
    "\n",
    "x_train = (x_train - mean) / (std + 1e-7)\n",
    "x_test = (x_test - mean) / (std + 1e-7)\n",
    "\n",
    "y_train = tf.keras.utils.to_categorical(y_train)\n",
    "y_test = tf.keras.utils.to_categorical(y_test)"
   ]
  },
  {
   "cell_type": "code",
   "execution_count": null,
   "metadata": {},
   "outputs": [],
   "source": [
    "datagen = tf.keras.preprocessing.image.ImageDataGenerator(\n",
    "            featurewise_center=False,  # set input mean to 0 over the dataset\n",
    "            samplewise_center=False,  # set each sample mean to 0\n",
    "            featurewise_std_normalization=False,  # divide inputs by std of the dataset\n",
    "            samplewise_std_normalization=False,  # divide each input by its std\n",
    "            zca_whitening=False,  # apply ZCA whitening\n",
    "            rotation_range=15,  # randomly rotate images in the range (degrees, 0 to 180)\n",
    "            width_shift_range=0.1,  # randomly shift images horizontally (fraction of total width)\n",
    "            height_shift_range=0.1,  # randomly shift images vertically (fraction of total height)\n",
    "            horizontal_flip=True,  # randomly flip images\n",
    "            vertical_flip=False)  # randomly flip images\n",
    "datagen.fit(x_train)\n",
    "\n",
    "model.fit(datagen.flow(x_train, y_train, batch_size=128),\n",
    "         epochs=EPOCHS,\n",
    "         validation_data=(x_test, y_test))"
   ]
  },
  {
   "cell_type": "code",
   "execution_count": null,
   "metadata": {},
   "outputs": [],
   "source": [
    "model.save('models/cifar10_vgg19.h5')"
   ]
  },
  {
   "cell_type": "code",
   "execution_count": 3,
   "metadata": {},
   "outputs": [
    {
     "name": "stdout",
     "output_type": "stream",
     "text": [
      "10000/10000 [==============================] - 2s 197us/sample\n"
     ]
    }
   ],
   "source": [
    "model = tf.keras.models.load_model('models/cifar10_vgg19.h5')\n",
    "z_test = model.predict(x_test, batch_size=128, verbose=1)"
   ]
  },
  {
   "cell_type": "code",
   "execution_count": null,
   "metadata": {},
   "outputs": [],
   "source": [
    "y_probs = z_test.max(axis=1)\n",
    "y_preds = z_test.argmax(axis=1)\n",
    "y_true = y_test.argmax(axis=1)"
   ]
  },
  {
   "cell_type": "code",
   "execution_count": null,
   "metadata": {},
   "outputs": [],
   "source": [
    "acc = (y_preds == y_true).mean()\n",
    "print(f'Accuracy: {acc}')\n",
    "\n",
    "ece = metrics.ece(y_probs, y_preds, y_true)\n",
    "print(f'ECE     : {ece}')\n",
    "\n",
    "peace = metrics.peace(y_probs, y_preds, y_true)\n",
    "print(f'PEACE   : {peace}')"
   ]
  },
  {
   "cell_type": "code",
   "execution_count": null,
   "metadata": {},
   "outputs": [],
   "source": [
    "ax = plt.gca()\n",
    "posterior_reliability_diagram(y_probs, y_preds, y_true, ax, bins=10)\n",
    "plt.savefig('plots/vgg19.pdf')\n",
    "plt.show()"
   ]
  },
  {
   "cell_type": "code",
   "execution_count": null,
   "metadata": {},
   "outputs": [],
   "source": [
    "temperature = tf.Variable(1.0)\n",
    "model.layers[-1].activation = lambda x: tf.keras.activations.softmax(x / temperature)\n",
    "model.compile(\n",
    "    loss=tf.keras.losses.CategoricalCrossentropy(),\n",
    "    metrics=['accuracy'])"
   ]
  },
  {
   "cell_type": "code",
   "execution_count": null,
   "metadata": {},
   "outputs": [],
   "source": [
    "model.evaluate(x_test, y_test, verbose=1)"
   ]
  },
  {
   "cell_type": "code",
   "execution_count": null,
   "metadata": {},
   "outputs": [],
   "source": [
    "temps = np.linspace(1, 10, 10)\n",
    "size = 1000\n",
    "x_batch, y_batch = shuffle(x_train, y_train)\n",
    "x_batch, y_batch = x_batch[:size], y_batch[:size]\n",
    "best_ece, best_temp = np.inf, 0\n",
    "for temp in tqdm(temps):\n",
    "    temperature.assign(temp)\n",
    "    z_test = model.predict(x_test, batch_size=128, verbose=0)\n",
    "    y_probs = z_test.max(axis=1)\n",
    "    y_preds = z_test.argmax(axis=1)\n",
    "    y_true = y_test.argmax(axis=1)\n",
    "    ece = metrics.ece(y_probs, y_preds, y_true)\n",
    "    if ece < best_ece:\n",
    "        best_ece = ece\n",
    "        best_temp = temp\n",
    "print(best_temp)"
   ]
  },
  {
   "cell_type": "code",
   "execution_count": null,
   "metadata": {},
   "outputs": [],
   "source": [
    "temperature.assign(best_temp)\n",
    "z_test = model.predict(x_test, batch_size=128, verbose=1)\n",
    "y_probs = z_test.max(axis=1)\n",
    "y_preds = z_test.argmax(axis=1)\n",
    "y_true = y_test.argmax(axis=1)\n",
    "\n",
    "acc = (y_preds == y_true).mean()\n",
    "print(f'Accuracy: {acc}')\n",
    "\n",
    "ece = metrics.ece(y_probs, y_preds, y_true)\n",
    "print(f'ECE     : {ece}')\n",
    "\n",
    "peace = metrics.peace(y_probs, y_preds, y_true)\n",
    "print(f'PEACE   : {peace}')\n",
    "\n",
    "ax = plt.gca()\n",
    "posterior_reliability_diagram(y_probs, y_preds, y_true, ax, bins=10)\n",
    "plt.savefig('plots/vgg19_scaled.pdf')\n",
    "plt.show()"
   ]
  },
  {
   "cell_type": "code",
   "execution_count": 5,
   "metadata": {},
   "outputs": [
    {
     "data": {
      "image/png": "[encoded data removed]",
      "text/plain": [
       "<Figure size 432x288 with 1 Axes>"
      ]
     },
     "metadata": {
      "needs_background": "light"
     },
     "output_type": "display_data"
    }
   ],
   "source": [
    "entropies = -np.sum(z_test * np.log(z_test + 1e-7), axis=1)\n",
    "plt.hist(entropies, bins=50)\n",
    "plt.show()"
   ]
  },
  {
   "cell_type": "code",
   "execution_count": null,
   "metadata": {},
   "outputs": [],
   "source": []
  }
 ],
 "metadata": {
  "kernelspec": {
   "display_name": "Python 3",
   "language": "python",
   "name": "python3"
  },
  "language_info": {
   "codemirror_mode": {
    "name": "ipython",
    "version": 3
   },
   "file_extension": ".py",
   "mimetype": "text/x-python",
   "name": "python",
   "nbconvert_exporter": "python",
   "pygments_lexer": "ipython3",
   "version": "3.6.9"
  }
 },
 "nbformat": 4,
 "nbformat_minor": 4
}
