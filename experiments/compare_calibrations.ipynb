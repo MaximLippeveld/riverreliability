{
 "cells": [
  {
   "cell_type": "code",
   "execution_count": 4,
   "metadata": {},
   "outputs": [
    {
     "name": "stdout",
     "output_type": "stream",
     "text": [
      "[NbConvertApp] Converting notebook compare_calibrations.ipynb to python\n",
      "[NbConvertApp] Writing 4990 bytes to compare_calibrations.py\n"
     ]
    }
   ],
   "source": [
    "# noscript\n",
    "!jupyter nbconvert --RegexRemovePreprocessor.patterns=\"['# ?noscript']\" --TemplateExporter.exclude_markdown=True --to python compare_calibrations.ipynb"
   ]
  },
  {
   "cell_type": "code",
   "execution_count": 1,
   "metadata": {},
   "outputs": [],
   "source": [
    "import tensorflow as tf\n",
    "import numpy as np\n",
    "import matplotlib.pyplot as plt\n",
    "from glob import glob\n",
    "from ridgereliability import metrics, plots\n",
    "import sklearn.model_selection\n",
    "import sklearn.metrics"
   ]
  },
  {
   "cell_type": "markdown",
   "metadata": {},
   "source": [
    "# Compare calibration methods on CIFAR-10\n",
    "\n",
    "We hypothesize that the PEACE metric and posterior reliability diagram will be better measures for finding an optimal post-hoc calibration method. Since PEACE is computed using full posterior balanced accuracy distributions, it takes into account the variance of probability estimates in each bin. This means using PEACE we can select a calibration method that produces probability estimates with high certainty, something we can not check with ECE.\n",
    "\n",
    "Here, we test this hypothesis by calibrating a DenseNet trained on CIFAR-10 with temperature scaling and Platt scaling. We begin by loading a baseline model and evaluating it. Then, we do the same for calibrated models."
   ]
  },
  {
   "cell_type": "code",
   "execution_count": 11,
   "metadata": {},
   "outputs": [],
   "source": [
    "dev = [d for d in tf.config.experimental.list_logical_devices() if d.device_type==\"GPU\"][0]"
   ]
  },
  {
   "cell_type": "markdown",
   "metadata": {},
   "source": [
    "## Load CIFAR-10"
   ]
  },
  {
   "cell_type": "code",
   "execution_count": 4,
   "metadata": {},
   "outputs": [],
   "source": [
    "(x_train, y_train), (x_test, y_test) = tf.keras.datasets.cifar10.load_data()\n",
    "\n",
    "mean = x_train.mean()\n",
    "std = x_train.std()\n",
    "\n",
    "x_test = (x_test - mean) / (std + 1e-7)\n",
    "y_test = tf.keras.utils.to_categorical(y_test)"
   ]
  },
  {
   "cell_type": "markdown",
   "metadata": {},
   "source": [
    "## Train baseline uncalibrated DenseNet\n",
    "\n",
    "We will first train two models:  \n",
    "- One is trained on the full train set, and will be used as a baseline model.\n",
    "- The other is trained on the smaller version of the full train set from which validation data is held-out for calibration. On this model we will apply post-hoc calibration methods."
   ]
  },
  {
   "cell_type": "code",
   "execution_count": 12,
   "metadata": {},
   "outputs": [],
   "source": [
    "with tf.device(dev.name):\n",
    "    model = tf.keras.applications.DenseNet121(\n",
    "        include_top=True,\n",
    "        weights=None,\n",
    "        classes=10,\n",
    "        input_shape=[32, 32, 3]\n",
    "    )\n",
    "\n",
    "model.compile(\n",
    "    optimizer=tf.keras.optimizers.Adam(),\n",
    "    loss=tf.keras.losses.CategoricalCrossentropy(),\n",
    "    metrics=['accuracy'])\n",
    "\n",
    "model.save_weights('models/model.h5')"
   ]
  },
  {
   "cell_type": "markdown",
   "metadata": {},
   "source": [
    "### Train on the full train set"
   ]
  },
  {
   "cell_type": "code",
   "execution_count": 6,
   "metadata": {},
   "outputs": [],
   "source": [
    "x_train = (x_train - mean) / (std + 1e-7)\n",
    "y_train = tf.keras.utils.to_categorical(y_train)\n",
    "\n",
    "with tf.device(dev.name):\n",
    "    datagen = tf.keras.preprocessing.image.ImageDataGenerator(\n",
    "                featurewise_center=False,  # set input mean to 0 over the dataset\n",
    "                samplewise_center=False,  # set each sample mean to 0\n",
    "                featurewise_std_normalization=False,  # divide inputs by std of the dataset\n",
    "                samplewise_std_normalization=False,  # divide each input by its std\n",
    "                zca_whitening=False,  # apply ZCA whitening\n",
    "                rotation_range=15,  # randomly rotate images in the range (degrees, 0 to 180)\n",
    "                width_shift_range=0.1,  # randomly shift images horizontally (fraction of total width)\n",
    "                height_shift_range=0.1,  # randomly shift images vertically (fraction of total height)\n",
    "                horizontal_flip=True,  # randomly flip images\n",
    "                vertical_flip=False)  # randomly flip images\n",
    "datagen.fit(x_train)"
   ]
  },
  {
   "cell_type": "code",
   "execution_count": 8,
   "metadata": {},
   "outputs": [
    {
     "name": "stdout",
     "output_type": "stream",
     "text": [
      "391/391 [==============================] - 256s 654ms/step - loss: 1.5443 - accuracy: 0.4420 - val_loss: 1.3841 - val_accuracy: 0.5273\n"
     ]
    }
   ],
   "source": [
    "model.fit(\n",
    "    datagen.flow(x_train, y_train, batch_size=128),\n",
    "    epochs=1,\n",
    "    validation_data=(x_test, y_test),\n",
    "    steps_per_epoch=np.ceil(len(x_train)/128)\n",
    ")\n",
    "\n",
    "model.save('models/cifar10_densenet_baseline.h5')"
   ]
  },
  {
   "cell_type": "code",
   "execution_count": 14,
   "metadata": {},
   "outputs": [],
   "source": [
    "#noscript\n",
    "baseline_model = tf.keras.models.load_model('models/cifar10_densenet_baseline.h5')"
   ]
  },
  {
   "cell_type": "markdown",
   "metadata": {},
   "source": [
    "### Train on the small train set"
   ]
  },
  {
   "cell_type": "code",
   "execution_count": 9,
   "metadata": {},
   "outputs": [],
   "source": [
    "x_train_s, x_val, y_train_s, y_val = sklearn.model_selection.train_test_split(x_train, y_train, test_size=0.25)\n",
    "\n",
    "mean = x_train_s.mean()\n",
    "std = x_train_s.std()\n",
    "\n",
    "x_train_s = (x_train_s - mean) / (std + 1e-7)\n",
    "y_train_s = tf.keras.utils.to_categorical(y_train_s)\n",
    "\n",
    "x_val = (x_val - mean) / (std + 1e-7)\n",
    "y_val = tf.keras.utils.to_categorical(y_val)"
   ]
  },
  {
   "cell_type": "code",
   "execution_count": 10,
   "metadata": {},
   "outputs": [],
   "source": [
    "with tf.device(dev.name):\n",
    "    datagen_s = tf.keras.preprocessing.image.ImageDataGenerator(\n",
    "                featurewise_center=False,  # set input mean to 0 over the dataset\n",
    "                samplewise_center=False,  # set each sample mean to 0\n",
    "                featurewise_std_normalization=False,  # divide inputs by std of the dataset\n",
    "                samplewise_std_normalization=False,  # divide each input by its std\n",
    "                zca_whitening=False,  # apply ZCA whitening\n",
    "                rotation_range=15,  # randomly rotate images in the range (degrees, 0 to 180)\n",
    "                width_shift_range=0.1,  # randomly shift images horizontally (fraction of total width)\n",
    "                height_shift_range=0.1,  # randomly shift images vertically (fraction of total height)\n",
    "                horizontal_flip=True,  # randomly flip images\n",
    "                vertical_flip=False)  # randomly flip images\n",
    "datagen_s.fit(x_train_s)"
   ]
  },
  {
   "cell_type": "code",
   "execution_count": 11,
   "metadata": {},
   "outputs": [],
   "source": [
    "model.load_weights(\"models/model.h5\")"
   ]
  },
  {
   "cell_type": "code",
   "execution_count": 12,
   "metadata": {},
   "outputs": [
    {
     "name": "stdout",
     "output_type": "stream",
     "text": [
      "391/391 [==============================] - 130s 333ms/step - loss: 1.5767 - accuracy: 0.4261 - val_loss: 1.3942 - val_accuracy: 0.5084\n"
     ]
    }
   ],
   "source": [
    "model.fit(\n",
    "    datagen.flow(x_train, y_train, batch_size=128),\n",
    "    epochs=1,\n",
    "    validation_data=(x_test, y_test),\n",
    "    steps_per_epoch=np.ceil(len(x_train)/128)\n",
    ")\n",
    "\n",
    "model.save('models/cifar10_densenet_baseline_s.h5')"
   ]
  },
  {
   "cell_type": "code",
   "execution_count": 28,
   "metadata": {},
   "outputs": [],
   "source": [
    "#noscript\n",
    "baseline_model_s = tf.keras.models.load_model('models/cifar10_densenet_baseline_s.h5')"
   ]
  },
  {
   "cell_type": "code",
   "execution_count": 18,
   "metadata": {},
   "outputs": [],
   "source": [
    "exit()"
   ]
  },
  {
   "cell_type": "markdown",
   "metadata": {},
   "source": [
    "## Evaluation"
   ]
  },
  {
   "cell_type": "code",
   "execution_count": 24,
   "metadata": {},
   "outputs": [
    {
     "data": {
      "text/plain": [
       "<module 'ridgereliability.plots' from '/home/maximl/Data/dev/active/ridgereliability/ridgereliability/plots.py'>"
      ]
     },
     "execution_count": 24,
     "metadata": {},
     "output_type": "execute_result"
    }
   ],
   "source": [
    "from importlib import reload\n",
    "reload(plots)"
   ]
  },
  {
   "cell_type": "code",
   "execution_count": 26,
   "metadata": {},
   "outputs": [],
   "source": [
    "def evaluate_model(model, x_test, y_test):\n",
    "    \n",
    "    y_probs = model.predict(x_test, batch_size=128, verbose=1)\n",
    "    y_probs_max = y_probs.max(axis=1)\n",
    "    y_preds = y_probs.argmax(axis=1)\n",
    "    y_test = y_test.argmax(axis=1)\n",
    "    \n",
    "    plots.posterior_reliability_diagram(y_probs_max, y_preds, y_test, bins=15)\n",
    "    \n",
    "    return {\n",
    "        \"accuracy\": sklearn.metrics.accuracy_score(y_test, y_preds),\n",
    "        \"balanced_accuracy\": sklearn.metrics.balanced_accuracy_score(y_test, y_preds),\n",
    "        'ece': metrics.ece(y_probs_max, y_preds, y_test),\n",
    "        'ece_balanced': metrics.ece(y_probs_max, y_preds, y_test, balanced=True),\n",
    "        'peace': metrics.peace(y_probs_max, y_preds, y_test),\n",
    "        'class_wise_ece': metrics.class_wise_error(y_probs, y_preds, y_test, metrics.ece),\n",
    "        'class_wise_ece_balanced': metrics.class_wise_error(y_probs, y_preds, y_test, metrics.ece, balanced=True),\n",
    "        'class_wise_peace': metrics.class_wise_error(y_probs, y_preds, y_test, metrics.peace)\n",
    "    }"
   ]
  },
  {
   "cell_type": "code",
   "execution_count": 29,
   "metadata": {},
   "outputs": [
    {
     "name": "stdout",
     "output_type": "stream",
     "text": [
      "79/79 [==============================] - 7s 86ms/step\n"
     ]
    },
    {
     "name": "stderr",
     "output_type": "stream",
     "text": [
      "/home/maximl/.conda/envs/ml/lib/python3.8/site-packages/sklearn/metrics/_classification.py:1814: UserWarning: y_pred contains classes not in y_true\n",
      "  warnings.warn('y_pred contains classes not in y_true')\n"
     ]
    },
    {
     "data": {
      "image/png": "[encoded data removed]",
      "text/plain": [
       "<Figure size 600x400 with 1 Axes>"
      ]
     },
     "metadata": {
      "needs_background": "light"
     },
     "output_type": "display_data"
    }
   ],
   "source": [
    "evaluate_model(baseline_model, x_test, y_test)"
   ]
  },
  {
   "cell_type": "code",
   "execution_count": 30,
   "metadata": {},
   "outputs": [
    {
     "name": "stdout",
     "output_type": "stream",
     "text": [
      "79/79 [==============================] - 7s 86ms/step\n"
     ]
    },
    {
     "name": "stderr",
     "output_type": "stream",
     "text": [
      "/home/maximl/.conda/envs/ml/lib/python3.8/site-packages/sklearn/metrics/_classification.py:1814: UserWarning: y_pred contains classes not in y_true\n",
      "  warnings.warn('y_pred contains classes not in y_true')\n"
     ]
    },
    {
     "data": {
      "image/png": "[encoded data removed]",
      "text/plain": [
       "<Figure size 600x400 with 1 Axes>"
      ]
     },
     "metadata": {
      "needs_background": "light"
     },
     "output_type": "display_data"
    }
   ],
   "source": [
    "evaluate_model(baseline_model_s, x_test, y_test)"
   ]
  },
  {
   "cell_type": "markdown",
   "metadata": {},
   "source": [
    "## Calibration"
   ]
  },
  {
   "cell_type": "code",
   "execution_count": null,
   "metadata": {},
   "outputs": [],
   "source": []
  }
 ],
 "metadata": {
  "kernelspec": {
   "display_name": "Python 3",
   "language": "python",
   "name": "python3"
  },
  "language_info": {
   "codemirror_mode": {
    "name": "ipython",
    "version": 3
   },
   "file_extension": ".py",
   "mimetype": "text/x-python",
   "name": "python",
   "nbconvert_exporter": "python",
   "pygments_lexer": "ipython3",
   "version": "3.8.2"
  }
 },
 "nbformat": 4,
 "nbformat_minor": 4
}
