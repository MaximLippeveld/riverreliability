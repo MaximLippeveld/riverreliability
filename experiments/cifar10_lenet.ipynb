{
 "cells": [
  {
   "cell_type": "code",
   "execution_count": 1,
   "metadata": {},
   "outputs": [],
   "source": [
    "import tensorflow as tf\n",
    "import numpy as np\n",
    "import matplotlib.pyplot as plt\n",
    "from tqdm.notebook import tqdm\n",
    "from sklearn.utils import shuffle\n",
    "from glob import glob\n",
    "from ridgereliability.plots import posterior_reliability_diagram, confidence_reliability_diagram\n",
    "from ridgereliability import metrics"
   ]
  },
  {
   "cell_type": "code",
   "execution_count": null,
   "metadata": {},
   "outputs": [],
   "source": [
    "model = tf.keras.models.Sequential()\n",
    "model.add(tf.keras.layers.Conv2D(30, kernel_size=(3, 3), padding='valid', activation='relu', input_shape=(32, 32, 3)))\n",
    "model.add(tf.keras.layers.MaxPool2D(pool_size=(2, 2), padding='valid'))\n",
    "model.add(tf.keras.layers.Conv2D(13, kernel_size=(3,3), padding='valid', activation='relu'))\n",
    "model.add(tf.keras.layers.MaxPool2D(pool_size=(2, 2), padding='valid'))\n",
    "model.add(tf.keras.layers.Flatten())\n",
    "model.add(tf.keras.layers.Dense(120, activation='relu'))\n",
    "model.add(tf.keras.layers.Dense(86, activation='relu'))\n",
    "model.add(tf.keras.layers.Dense(10, activation='softmax'))\n",
    "\n",
    "model.compile(optimizer=tf.keras.optimizers.SGD(lr=0.01, momentum=0.9),\n",
    "              loss='categorical_crossentropy',\n",
    "              metrics=['accuracy'])"
   ]
  },
  {
   "cell_type": "code",
   "execution_count": 2,
   "metadata": {},
   "outputs": [],
   "source": [
    "(x_train, y_train), (x_test, y_test) = tf.keras.datasets.cifar10.load_data()\n",
    "\n",
    "x_train = x_train.astype(np.float32) / 255\n",
    "x_test = x_test.astype(np.float32) / 255\n",
    "\n",
    "y_train = tf.keras.utils.to_categorical(y_train)\n",
    "y_test = tf.keras.utils.to_categorical(y_test)"
   ]
  },
  {
   "cell_type": "code",
   "execution_count": null,
   "metadata": {},
   "outputs": [],
   "source": [
    "early_stopping = tf.keras.callbacks.EarlyStopping(\n",
    "    monitor='val_loss',\n",
    "    min_delta=1e-3,\n",
    "    patience=50,\n",
    "    verbose=0,\n",
    "    mode='auto',\n",
    "    baseline=None,\n",
    "    restore_best_weights=True,\n",
    ")\n",
    "callbacks = [early_stopping]\n",
    "\n",
    "model.fit(x_train, y_train,\n",
    "          batch_size=32, epochs=10,\n",
    "         validation_data=(x_test, y_test),\n",
    "         callbacks=callbacks)"
   ]
  },
  {
   "cell_type": "code",
   "execution_count": null,
   "metadata": {},
   "outputs": [],
   "source": [
    "model.save('models/cifar10_lenet.h5')"
   ]
  },
  {
   "cell_type": "code",
   "execution_count": 3,
   "metadata": {},
   "outputs": [
    {
     "name": "stdout",
     "output_type": "stream",
     "text": [
      "10000/10000 [==============================] - 1s 89us/sample\n"
     ]
    }
   ],
   "source": [
    "model = tf.keras.models.load_model('models/cifar10_lenet.h5')\n",
    "z_test = model.predict(x_test, batch_size=128, verbose=1)"
   ]
  },
  {
   "cell_type": "code",
   "execution_count": null,
   "metadata": {},
   "outputs": [],
   "source": [
    "y_probs = z_test.max(axis=1)\n",
    "y_preds = z_test.argmax(axis=1)\n",
    "y_true = y_test.argmax(axis=1)"
   ]
  },
  {
   "cell_type": "code",
   "execution_count": null,
   "metadata": {},
   "outputs": [],
   "source": [
    "acc = (y_preds == y_true).mean()\n",
    "print(f'Accuracy: {acc}')\n",
    "\n",
    "ece = metrics.ece(y_probs, y_preds, y_true)\n",
    "print(f'ECE     : {ece}')\n",
    "\n",
    "peace = metrics.peace(y_probs, y_preds, y_true)\n",
    "print(f'PEACE   : {peace}')"
   ]
  },
  {
   "cell_type": "code",
   "execution_count": null,
   "metadata": {},
   "outputs": [],
   "source": [
    "ax = plt.gca()\n",
    "plt.title('LeNet-5 on CIFAR-10')\n",
    "posterior_reliability_diagram(y_probs, y_preds, y_true, ax, bins=10)\n",
    "plt.savefig('plots/lenet.pdf')\n",
    "plt.show()"
   ]
  },
  {
   "cell_type": "code",
   "execution_count": null,
   "metadata": {},
   "outputs": [],
   "source": [
    "temperature = tf.Variable(1.0)\n",
    "model.layers[-1].activation = lambda x: tf.keras.activations.softmax(x / temperature)\n",
    "model.compile(\n",
    "    loss=tf.keras.losses.CategoricalCrossentropy(),\n",
    "    metrics=['accuracy'])"
   ]
  },
  {
   "cell_type": "code",
   "execution_count": null,
   "metadata": {},
   "outputs": [],
   "source": [
    "temps = np.linspace(1, 2, 100)\n",
    "size = 1000\n",
    "x_batch, y_batch = shuffle(x_train, y_train)\n",
    "x_batch, y_batch = x_batch[:size], y_batch[:size]\n",
    "best_ece, best_temp = np.inf, 0\n",
    "for temp in tqdm(temps):\n",
    "    temperature.assign(temp)\n",
    "    z_test = model.predict(x_test, batch_size=128, verbose=0)\n",
    "    y_probs = z_test.max(axis=1)\n",
    "    y_preds = z_test.argmax(axis=1)\n",
    "    y_true = y_test.argmax(axis=1)\n",
    "    ece = metrics.ece(y_probs, y_preds, y_true)\n",
    "    if ece < best_ece:\n",
    "        best_ece = ece\n",
    "        best_temp = temp\n",
    "print(best_temp)"
   ]
  },
  {
   "cell_type": "code",
   "execution_count": null,
   "metadata": {},
   "outputs": [],
   "source": [
    "temperature.assign(best_temp)\n",
    "z_test = model.predict(x_test, batch_size=128, verbose=1)\n",
    "y_probs = z_test.max(axis=1)\n",
    "y_preds = z_test.argmax(axis=1)\n",
    "y_true = y_test.argmax(axis=1)\n",
    "\n",
    "acc = (y_preds == y_true).mean()\n",
    "print(f'Accuracy: {acc}')\n",
    "\n",
    "ece = metrics.ece(y_probs, y_preds, y_true)\n",
    "print(f'ECE     : {ece}')\n",
    "\n",
    "peace = metrics.peace(y_probs, y_preds, y_true)\n",
    "print(f'PEACE   : {peace}')\n",
    "\n",
    "ax = plt.gca()\n",
    "posterior_reliability_diagram(y_probs, y_preds, y_true, ax, bins=10)\n",
    "plt.savefig('plots/lenet_scaled.pdf')\n",
    "plt.show()"
   ]
  },
  {
   "cell_type": "code",
   "execution_count": 5,
   "metadata": {},
   "outputs": [
    {
     "data": {
      "image/png": "[encoded data removed]",
      "text/plain": [
       "<Figure size 432x288 with 1 Axes>"
      ]
     },
     "metadata": {
      "needs_background": "light"
     },
     "output_type": "display_data"
    }
   ],
   "source": [
    "entropies = -np.sum(z_test * np.log(z_test), axis=1)\n",
    "plt.hist(entropies, bins=50)\n",
    "plt.show()"
   ]
  },
  {
   "cell_type": "code",
   "execution_count": null,
   "metadata": {},
   "outputs": [],
   "source": []
  }
 ],
 "metadata": {
  "kernelspec": {
   "display_name": "Python 3",
   "language": "python",
   "name": "python3"
  },
  "language_info": {
   "codemirror_mode": {
    "name": "ipython",
    "version": 3
   },
   "file_extension": ".py",
   "mimetype": "text/x-python",
   "name": "python",
   "nbconvert_exporter": "python",
   "pygments_lexer": "ipython3",
   "version": "3.6.9"
  }
 },
 "nbformat": 4,
 "nbformat_minor": 4
}
