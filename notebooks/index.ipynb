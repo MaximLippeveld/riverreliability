{
 "cells": [
  {
   "cell_type": "code",
   "execution_count": null,
   "metadata": {},
   "outputs": [],
   "source": [
    "#hide\n",
    "from ridgereliability.utils import *\n",
    "from ridgereliability.metrics import *\n",
    "from ridgereliability.plots import *"
   ]
  },
  {
   "cell_type": "markdown",
   "metadata": {},
   "source": [
    "# Ridge reliability\n",
    "\n",
    "![CI](https://github.com/MaximLippeveld/ridgereliability/workflows/CI/badge.svg)\n",
    "\n",
    "The ridge-reliability package provides tools for assessing classifier calibration.\n",
    "Visualizations:\n",
    "- ridge reliability diagram,\n",
    "- confidence reliability diagram.\n",
    "\n",
    "Metrics:\n",
    "- Expected Calibration Error (ECE)\n",
    "- Posterior Expected balanced Accuracy-based Calibration Error (PEACE)"
   ]
  },
  {
   "cell_type": "markdown",
   "metadata": {},
   "source": [
    "## Install"
   ]
  },
  {
   "cell_type": "markdown",
   "metadata": {},
   "source": [
    "Install the package with:\n",
    "\n",
    "`pip install ridgereliability`"
   ]
  },
  {
   "cell_type": "markdown",
   "metadata": {},
   "source": [
    "## How to use"
   ]
  },
  {
   "cell_type": "markdown",
   "metadata": {},
   "source": [
    "Please see the notebooks directory for examples on how to use this package."
   ]
  }
 ],
 "metadata": {
  "kernelspec": {
   "display_name": "Python 3",
   "language": "python",
   "name": "python3"
  }
 },
 "nbformat": 4,
 "nbformat_minor": 4
}
