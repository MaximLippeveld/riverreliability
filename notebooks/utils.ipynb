{
 "cells": [
  {
   "cell_type": "code",
   "execution_count": null,
   "metadata": {},
   "outputs": [],
   "source": [
    "# default_exp utils"
   ]
  },
  {
   "cell_type": "markdown",
   "metadata": {},
   "source": [
    "# Utilities\n",
    "\n",
    "> This module defines several utility functions. Mainly binning-related."
   ]
  },
  {
   "cell_type": "code",
   "execution_count": null,
   "metadata": {},
   "outputs": [],
   "source": [
    "#hide\n",
    "from nbdev.showdoc import *"
   ]
  },
  {
   "cell_type": "code",
   "execution_count": null,
   "metadata": {},
   "outputs": [],
   "source": [
    "# export\n",
    "\n",
    "import numpy as np\n",
    "import scipy.stats\n",
    "from typing import Callable\n",
    "import warnings\n",
    "import logging"
   ]
  },
  {
   "cell_type": "code",
   "execution_count": null,
   "metadata": {},
   "outputs": [
    {
     "ename": "NameError",
     "evalue": "name 'np' is not defined",
     "output_type": "error",
     "traceback": [
      "\u001b[0;31m---------------------------------------------------------------------------\u001b[0m",
      "\u001b[0;31mNameError\u001b[0m                                 Traceback (most recent call last)",
      "\u001b[0;32m<ipython-input-1-67f2c6a2344b>\u001b[0m in \u001b[0;36m<module>\u001b[0;34m\u001b[0m\n\u001b[1;32m      2\u001b[0m \u001b[0;34m\u001b[0m\u001b[0m\n\u001b[1;32m      3\u001b[0m \u001b[0;34m\u001b[0m\u001b[0m\n\u001b[0;32m----> 4\u001b[0;31m \u001b[0;32mdef\u001b[0m \u001b[0mget_bin_indices\u001b[0m\u001b[0;34m(\u001b[0m\u001b[0my_probs\u001b[0m\u001b[0;34m:\u001b[0m\u001b[0mnp\u001b[0m\u001b[0;34m.\u001b[0m\u001b[0marray\u001b[0m\u001b[0;34m,\u001b[0m \u001b[0mbins\u001b[0m\u001b[0;34m=\u001b[0m\u001b[0;34m'fd'\u001b[0m\u001b[0;34m,\u001b[0m \u001b[0mlower\u001b[0m\u001b[0;34m:\u001b[0m\u001b[0mfloat\u001b[0m\u001b[0;34m=\u001b[0m\u001b[0;32mNone\u001b[0m\u001b[0;34m,\u001b[0m \u001b[0mupper\u001b[0m\u001b[0;34m:\u001b[0m\u001b[0mfloat\u001b[0m\u001b[0;34m=\u001b[0m\u001b[0;32mNone\u001b[0m\u001b[0;34m,\u001b[0m \u001b[0mreturn_edges\u001b[0m\u001b[0;34m:\u001b[0m\u001b[0mbool\u001b[0m\u001b[0;34m=\u001b[0m\u001b[0;32mFalse\u001b[0m\u001b[0;34m)\u001b[0m\u001b[0;34m:\u001b[0m\u001b[0;34m\u001b[0m\u001b[0;34m\u001b[0m\u001b[0m\n\u001b[0m\u001b[1;32m      5\u001b[0m     \"\"\"Compute a function across.\n\u001b[1;32m      6\u001b[0m \u001b[0;34m\u001b[0m\u001b[0m\n",
      "\u001b[0;31mNameError\u001b[0m: name 'np' is not defined"
     ]
    }
   ],
   "source": [
    "# export\n",
    "\n",
    "\n",
    "def get_bin_indices(y_probs:np.array, bins='fd', lower:float=None, upper:float=None, return_edges:bool=False):\n",
    "    \"\"\"Compute a function across.\n",
    "\n",
    "    Parameters:\n",
    "    y_probs -- Predicted class probabilities\n",
    "    bins -- Number of bins (see `np.histogram_bin_edges` for options)\n",
    "    return_edges -- Return the edges used for the binning\n",
    "    lower -- Lower bound of confidence values\n",
    "    upper -- Upper bound of confidence values\n",
    "    return_edges -- Set to return identified edges\n",
    "\n",
    "    Returns:\n",
    "    bin_indices (np.array) -- Array that maps instances to bins\n",
    "    edges (np.array) -- Bin edges if return_edges is True\n",
    "\n",
    "    \"\"\"\n",
    "\n",
    "    # check inputs\n",
    "    assert len(y_probs.shape) == 1 and y_probs.dtype in [np.float, np.float32], 'Predicted class probabilties should be an array of floats'\n",
    "    assert all(y_probs >= 0) and all(y_probs <= 1), 'Predicted class probabilities should lie between 0 and 1'\n",
    "\n",
    "    # compute the bins\n",
    "    if lower is None:\n",
    "        lower = y_probs.min()\n",
    "    if upper is None:\n",
    "        upper = y_probs.max()\n",
    "\n",
    "    edges = np.histogram_bin_edges(y_probs, bins=bins, range=(lower, upper))\n",
    "\n",
    "    if not isinstance(bins, int):\n",
    "        bins = len(edges) - 1\n",
    "\n",
    "    # bin the confidence levels\n",
    "    bin_indices = np.digitize(y_probs, edges, right=True)\n",
    "\n",
    "    if return_edges:\n",
    "        return bin_indices, edges\n",
    "\n",
    "    return bin_indices\n",
    "\n",
    "\n",
    "def binning(y_probs:np.array, y_preds:np.array, y_true:np.array, bin_indices:np.array, bin_func:Callable):\n",
    "    \"\"\"Compute a function across bins of confidence levels.\n",
    "\n",
    "    Parameters:\n",
    "    y_probs -- Predicted class probabilities\n",
    "    y_preds -- Predicted class labels\n",
    "    y_true -- True class labels\n",
    "    bin_indices -- Array that maps instances to bins (as obtained by `utils.get_bin_indices`)\n",
    "    bin_func -- Function to compute for each bin\n",
    "\n",
    "    Returns:\n",
    "    result (float) -- Result of the computation across bins\n",
    "\n",
    "    \"\"\"\n",
    "\n",
    "    # check inputs\n",
    "    assert len(y_probs.shape) == 1 and y_probs.dtype in [np.float, np.float32], 'Predicted class probabilties should be an array of floats'\n",
    "    assert all(y_probs >= 0) and all(y_probs <= 1), 'Predicted class probabilities should lie between 0 and 1'\n",
    "    assert len(y_preds.shape) == 1 and y_preds.dtype == np.int, 'Predicted class labels should be an array of integers'\n",
    "    assert len(y_true.shape) == 1 and y_true.dtype == np.int, 'True class labels should be an array of integers'\n",
    "\n",
    "    result = 0.\n",
    "    for i in np.unique(bin_indices):\n",
    "        y_probs_bin, y_preds_bin, y_true_bin = y_probs[bin_indices==i], y_preds[bin_indices==i], y_true[bin_indices==i]\n",
    "\n",
    "        # update current estimate\n",
    "        result += (len(y_probs_bin) / y_probs.shape[0]) * bin_func(y_probs_bin, y_preds_bin, y_true_bin)\n",
    "    return result"
   ]
  },
  {
   "cell_type": "code",
   "execution_count": null,
   "metadata": {},
   "outputs": [],
   "source": []
  }
 ],
 "metadata": {
  "kernelspec": {
   "display_name": "Python 3",
   "language": "python",
   "name": "python3"
  }
 },
 "nbformat": 4,
 "nbformat_minor": 4
}
